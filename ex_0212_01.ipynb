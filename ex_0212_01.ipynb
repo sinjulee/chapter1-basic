{
  "cells": [
    {
      "cell_type": "markdown",
      "metadata": {
        "id": "view-in-github",
        "colab_type": "text"
      },
      "source": [
        "<a href=\"https://colab.research.google.com/github/sinjulee/chapter1-basic/blob/main/ex_0212_01.ipynb\" target=\"_parent\"><img src=\"https://colab.research.google.com/assets/colab-badge.svg\" alt=\"Open In Colab\"/></a>"
      ]
    },
    {
      "cell_type": "code",
      "execution_count": null,
      "id": "e6376ee8",
      "metadata": {
        "ExecuteTime": {
          "end_time": "2022-02-12T08:05:41.101249Z",
          "start_time": "2022-02-12T08:05:41.045622Z"
        },
        "id": "e6376ee8",
        "outputId": "0e538b74-2c17-4bc2-e245-f7d4641ece00"
      },
      "outputs": [
        {
          "data": {
            "text/html": [
              "<div>\n",
              "<style scoped>\n",
              "    .dataframe tbody tr th:only-of-type {\n",
              "        vertical-align: middle;\n",
              "    }\n",
              "\n",
              "    .dataframe tbody tr th {\n",
              "        vertical-align: top;\n",
              "    }\n",
              "\n",
              "    .dataframe thead th {\n",
              "        text-align: right;\n",
              "    }\n",
              "</style>\n",
              "<table border=\"1\" class=\"dataframe\">\n",
              "  <thead>\n",
              "    <tr style=\"text-align: right;\">\n",
              "      <th></th>\n",
              "      <th>year</th>\n",
              "      <th>M1</th>\n",
              "      <th>M2</th>\n",
              "      <th>M3</th>\n",
              "      <th>M4</th>\n",
              "    </tr>\n",
              "  </thead>\n",
              "  <tbody>\n",
              "    <tr>\n",
              "      <th>0</th>\n",
              "      <td>2014</td>\n",
              "      <td>20</td>\n",
              "      <td>15</td>\n",
              "      <td>NaN</td>\n",
              "      <td>NaN</td>\n",
              "    </tr>\n",
              "    <tr>\n",
              "      <th>1</th>\n",
              "      <td>2015</td>\n",
              "      <td>25</td>\n",
              "      <td>17</td>\n",
              "      <td>13.0</td>\n",
              "      <td>NaN</td>\n",
              "    </tr>\n",
              "    <tr>\n",
              "      <th>2</th>\n",
              "      <td>2016</td>\n",
              "      <td>24</td>\n",
              "      <td>19</td>\n",
              "      <td>15.0</td>\n",
              "      <td>NaN</td>\n",
              "    </tr>\n",
              "    <tr>\n",
              "      <th>3</th>\n",
              "      <td>2017</td>\n",
              "      <td>27</td>\n",
              "      <td>20</td>\n",
              "      <td>18.0</td>\n",
              "      <td>12.0</td>\n",
              "    </tr>\n",
              "    <tr>\n",
              "      <th>4</th>\n",
              "      <td>2018</td>\n",
              "      <td>30</td>\n",
              "      <td>19</td>\n",
              "      <td>17.0</td>\n",
              "      <td>14.0</td>\n",
              "    </tr>\n",
              "    <tr>\n",
              "      <th>5</th>\n",
              "      <td>2019</td>\n",
              "      <td>32</td>\n",
              "      <td>24</td>\n",
              "      <td>21.0</td>\n",
              "      <td>19.0</td>\n",
              "    </tr>\n",
              "  </tbody>\n",
              "</table>\n",
              "</div>"
            ],
            "text/plain": [
              "   year  M1  M2    M3    M4\n",
              "0  2014  20  15   NaN   NaN\n",
              "1  2015  25  17  13.0   NaN\n",
              "2  2016  24  19  15.0   NaN\n",
              "3  2017  27  20  18.0  12.0\n",
              "4  2018  30  19  17.0  14.0\n",
              "5  2019  32  24  21.0  19.0"
            ]
          },
          "execution_count": 18,
          "metadata": {},
          "output_type": "execute_result"
        }
      ],
      "source": [
        "import numpy as np\n",
        "import pandas as pd\n",
        "import seaborn as sns\n",
        "\n",
        "df = pd.read_csv(\"C:/Users/82102/OneDrive/데이터분석훈련/myPyExcel/data/ch05/electric_products.csv\", encoding = 'utf-8')\n",
        "df"
      ]
    },
    {
      "cell_type": "raw",
      "id": "a6903832",
      "metadata": {
        "id": "a6903832"
      },
      "source": [
        ""
      ]
    },
    {
      "cell_type": "code",
      "execution_count": null,
      "id": "0b5b351b",
      "metadata": {
        "ExecuteTime": {
          "end_time": "2022-02-12T04:59:33.971698Z",
          "start_time": "2022-02-12T04:59:33.944251Z"
        },
        "id": "0b5b351b",
        "outputId": "c6e59047-25eb-4ea3-eff4-c20483dc69b4"
      },
      "outputs": [
        {
          "name": "stdout",
          "output_type": "stream",
          "text": [
            "Writing C:\\Users\\82102\\OneDrive\\데이터분석훈련\\myPyExcel/data/ch05/korea_rain1.csv\n"
          ]
        }
      ],
      "source": [
        "%%writefile C:\\Users\\82102\\OneDrive\\데이터분석훈련\\myPyExcel/data/ch05/korea_rain1.csv\n",
        "연도, 봄, 여름, 가을, 겨울\n",
        "2014, 215.9, 599.8, 293.1, 76.9\n",
        "2015, 223.2, 387.1, 247.7, 109.1\n",
        "2016, 312.8, 446.2, 381.6, 108.1\n",
        "2017, 118.6, 609.7, 172.5, 75.6\n",
        "2018, 368.1, 586.5, 351.2, 66.5"
      ]
    },
    {
      "cell_type": "code",
      "execution_count": null,
      "id": "3a536c23",
      "metadata": {
        "ExecuteTime": {
          "end_time": "2022-02-12T05:04:09.053191Z",
          "start_time": "2022-02-12T05:04:08.964885Z"
        },
        "id": "3a536c23",
        "outputId": "c74fe9de-6fcc-4cfd-dbde-35c6dd2c6432"
      },
      "outputs": [
        {
          "data": {
            "text/html": [
              "<div>\n",
              "<style scoped>\n",
              "    .dataframe tbody tr th:only-of-type {\n",
              "        vertical-align: middle;\n",
              "    }\n",
              "\n",
              "    .dataframe tbody tr th {\n",
              "        vertical-align: top;\n",
              "    }\n",
              "\n",
              "    .dataframe thead th {\n",
              "        text-align: right;\n",
              "    }\n",
              "</style>\n",
              "<table border=\"1\" class=\"dataframe\">\n",
              "  <thead>\n",
              "    <tr style=\"text-align: right;\">\n",
              "      <th></th>\n",
              "      <th>연도</th>\n",
              "      <th>봄</th>\n",
              "      <th>여름</th>\n",
              "      <th>가을</th>\n",
              "      <th>겨울</th>\n",
              "    </tr>\n",
              "  </thead>\n",
              "  <tbody>\n",
              "    <tr>\n",
              "      <th>0</th>\n",
              "      <td>2014</td>\n",
              "      <td>215.9</td>\n",
              "      <td>599.8</td>\n",
              "      <td>293.1</td>\n",
              "      <td>76.9</td>\n",
              "    </tr>\n",
              "    <tr>\n",
              "      <th>1</th>\n",
              "      <td>2015</td>\n",
              "      <td>223.2</td>\n",
              "      <td>387.1</td>\n",
              "      <td>247.7</td>\n",
              "      <td>109.1</td>\n",
              "    </tr>\n",
              "    <tr>\n",
              "      <th>2</th>\n",
              "      <td>2016</td>\n",
              "      <td>312.8</td>\n",
              "      <td>446.2</td>\n",
              "      <td>381.6</td>\n",
              "      <td>108.1</td>\n",
              "    </tr>\n",
              "    <tr>\n",
              "      <th>3</th>\n",
              "      <td>2017</td>\n",
              "      <td>118.6</td>\n",
              "      <td>609.7</td>\n",
              "      <td>172.5</td>\n",
              "      <td>75.6</td>\n",
              "    </tr>\n",
              "    <tr>\n",
              "      <th>4</th>\n",
              "      <td>2018</td>\n",
              "      <td>368.1</td>\n",
              "      <td>586.5</td>\n",
              "      <td>351.2</td>\n",
              "      <td>66.5</td>\n",
              "    </tr>\n",
              "  </tbody>\n",
              "</table>\n",
              "</div>"
            ],
            "text/plain": [
              "     연도      봄     여름     가을     겨울\n",
              "0  2014  215.9  599.8  293.1   76.9\n",
              "1  2015  223.2  387.1  247.7  109.1\n",
              "2  2016  312.8  446.2  381.6  108.1\n",
              "3  2017  118.6  609.7  172.5   75.6\n",
              "4  2018  368.1  586.5  351.2   66.5"
            ]
          },
          "execution_count": 7,
          "metadata": {},
          "output_type": "execute_result"
        }
      ],
      "source": [
        "#csv 파일 경로\n",
        "folder = 'C:/Users/82102/OneDrive/데이터분석훈련/myPyExcel/data/ch05/' #폴더 경로\n",
        "csv_file = folder + 'korea_rain1.csv' #파일 경로\n",
        "\n",
        "#csv 파일을 읽어와서 Dataframe 데이터 생성\n",
        "df = pd.read_csv(csv_file, encoding = 'utf-8')\n",
        "df"
      ]
    },
    {
      "cell_type": "code",
      "execution_count": null,
      "id": "01daedc6",
      "metadata": {
        "ExecuteTime": {
          "end_time": "2022-02-12T05:15:38.122794Z",
          "start_time": "2022-02-12T05:15:38.059498Z"
        },
        "id": "01daedc6",
        "outputId": "38585fd0-7d5f-4700-cbbc-0bd103a47a0d"
      },
      "outputs": [
        {
          "data": {
            "text/html": [
              "<div>\n",
              "<style scoped>\n",
              "    .dataframe tbody tr th:only-of-type {\n",
              "        vertical-align: middle;\n",
              "    }\n",
              "\n",
              "    .dataframe tbody tr th {\n",
              "        vertical-align: top;\n",
              "    }\n",
              "\n",
              "    .dataframe thead th {\n",
              "        text-align: right;\n",
              "    }\n",
              "</style>\n",
              "<table border=\"1\" class=\"dataframe\">\n",
              "  <thead>\n",
              "    <tr style=\"text-align: right;\">\n",
              "      <th></th>\n",
              "      <th>연도</th>\n",
              "      <th>봄</th>\n",
              "      <th>여름</th>\n",
              "      <th>가을</th>\n",
              "      <th>겨울</th>\n",
              "    </tr>\n",
              "  </thead>\n",
              "  <tbody>\n",
              "    <tr>\n",
              "      <th>0</th>\n",
              "      <td>2014</td>\n",
              "      <td>215.9</td>\n",
              "      <td>599.8</td>\n",
              "      <td>293.1</td>\n",
              "      <td>76.9</td>\n",
              "    </tr>\n",
              "    <tr>\n",
              "      <th>1</th>\n",
              "      <td>2015</td>\n",
              "      <td>223.2</td>\n",
              "      <td>387.1</td>\n",
              "      <td>247.7</td>\n",
              "      <td>109.1</td>\n",
              "    </tr>\n",
              "    <tr>\n",
              "      <th>2</th>\n",
              "      <td>2016</td>\n",
              "      <td>312.8</td>\n",
              "      <td>446.2</td>\n",
              "      <td>381.6</td>\n",
              "      <td>108.1</td>\n",
              "    </tr>\n",
              "    <tr>\n",
              "      <th>3</th>\n",
              "      <td>2017</td>\n",
              "      <td>118.6</td>\n",
              "      <td>609.7</td>\n",
              "      <td>172.5</td>\n",
              "      <td>75.6</td>\n",
              "    </tr>\n",
              "    <tr>\n",
              "      <th>4</th>\n",
              "      <td>2018</td>\n",
              "      <td>368.1</td>\n",
              "      <td>586.5</td>\n",
              "      <td>351.2</td>\n",
              "      <td>66.5</td>\n",
              "    </tr>\n",
              "  </tbody>\n",
              "</table>\n",
              "</div>"
            ],
            "text/plain": [
              "     연도      봄     여름     가을     겨울\n",
              "0  2014  215.9  599.8  293.1   76.9\n",
              "1  2015  223.2  387.1  247.7  109.1\n",
              "2  2016  312.8  446.2  381.6  108.1\n",
              "3  2017  118.6  609.7  172.5   75.6\n",
              "4  2018  368.1  586.5  351.2   66.5"
            ]
          },
          "execution_count": 14,
          "metadata": {},
          "output_type": "execute_result"
        }
      ],
      "source": [
        "#텍스트 파일 경로\n",
        "folder = 'C:/Users/82102/OneDrive/데이터분석훈련/myPyExcel/data/ch05/' #폴더 경로\n",
        "txt_file = folder + 'korea_rain1_space.txt'\n",
        "\n",
        "#공백으로 구분하는 텍스트 데이터 파일 생성\n",
        "df=pd.read_csv(txt_file, sep=' ', encoding = 'utf-8')\n",
        "df"
      ]
    },
    {
      "cell_type": "code",
      "execution_count": null,
      "id": "faf13bea",
      "metadata": {
        "ExecuteTime": {
          "end_time": "2022-02-12T07:56:18.356655Z",
          "start_time": "2022-02-12T07:56:18.300676Z"
        },
        "id": "faf13bea",
        "outputId": "a08f6334-f00a-4d77-ba00-6b0409f5407c"
      },
      "outputs": [
        {
          "data": {
            "text/html": [
              "<div>\n",
              "<style scoped>\n",
              "    .dataframe tbody tr th:only-of-type {\n",
              "        vertical-align: middle;\n",
              "    }\n",
              "\n",
              "    .dataframe tbody tr th {\n",
              "        vertical-align: top;\n",
              "    }\n",
              "\n",
              "    .dataframe thead th {\n",
              "        text-align: right;\n",
              "    }\n",
              "</style>\n",
              "<table border=\"1\" class=\"dataframe\">\n",
              "  <thead>\n",
              "    <tr style=\"text-align: right;\">\n",
              "      <th></th>\n",
              "      <th>연도</th>\n",
              "      <th>봄</th>\n",
              "      <th>여름</th>\n",
              "      <th>가을</th>\n",
              "      <th>겨울</th>\n",
              "    </tr>\n",
              "  </thead>\n",
              "  <tbody>\n",
              "    <tr>\n",
              "      <th>0</th>\n",
              "      <td>2014</td>\n",
              "      <td>215.9</td>\n",
              "      <td>599.8</td>\n",
              "      <td>293.1</td>\n",
              "      <td>76.9</td>\n",
              "    </tr>\n",
              "    <tr>\n",
              "      <th>1</th>\n",
              "      <td>2015</td>\n",
              "      <td>223.2</td>\n",
              "      <td>387.1</td>\n",
              "      <td>247.7</td>\n",
              "      <td>109.1</td>\n",
              "    </tr>\n",
              "    <tr>\n",
              "      <th>2</th>\n",
              "      <td>2016</td>\n",
              "      <td>312.8</td>\n",
              "      <td>446.2</td>\n",
              "      <td>381.6</td>\n",
              "      <td>108.1</td>\n",
              "    </tr>\n",
              "    <tr>\n",
              "      <th>3</th>\n",
              "      <td>2017</td>\n",
              "      <td>118.6</td>\n",
              "      <td>609.7</td>\n",
              "      <td>172.5</td>\n",
              "      <td>75.6</td>\n",
              "    </tr>\n",
              "    <tr>\n",
              "      <th>4</th>\n",
              "      <td>2018</td>\n",
              "      <td>368.1</td>\n",
              "      <td>586.5</td>\n",
              "      <td>351.2</td>\n",
              "      <td>66.5</td>\n",
              "    </tr>\n",
              "  </tbody>\n",
              "</table>\n",
              "</div>"
            ],
            "text/plain": [
              "     연도      봄     여름     가을     겨울\n",
              "0  2014  215.9  599.8  293.1   76.9\n",
              "1  2015  223.2  387.1  247.7  109.1\n",
              "2  2016  312.8  446.2  381.6  108.1\n",
              "3  2017  118.6  609.7  172.5   75.6\n",
              "4  2018  368.1  586.5  351.2   66.5"
            ]
          },
          "execution_count": 15,
          "metadata": {},
          "output_type": "execute_result"
        }
      ],
      "source": [
        "#텍스트 파일 경로\n",
        "folder = 'C:/Users/82102/OneDrive/데이터분석훈련/myPyExcel/data/ch05/' #폴더 경로\n",
        "txt_file = folder + 'korea_rain1_tab.txt'\n",
        "#공백으로 구분하는 텍스트 데이터 파일 생성\n",
        "df = pd.read_csv(txt_file, sep='\\t',encoding = 'utf-8')\n",
        "df\n"
      ]
    },
    {
      "cell_type": "code",
      "execution_count": null,
      "id": "9f1e7f2c",
      "metadata": {
        "ExecuteTime": {
          "end_time": "2022-02-12T08:16:02.570091Z",
          "start_time": "2022-02-12T08:16:02.540167Z"
        },
        "id": "9f1e7f2c",
        "outputId": "3bf2b474-0b43-4b07-94c5-9b433941d863"
      },
      "outputs": [
        {
          "name": "stdout",
          "output_type": "stream",
          "text": [
            "Writing C:/Users/82102/OneDrive/데이터분석훈련/myPyExcel/data/ch05/korea_rain2.csv\n"
          ]
        }
      ],
      "source": [
        "%%writefile C:/Users/82102/OneDrive/데이터분석훈련/myPyExcel/data/ch05/korea_rain2.csv\n",
        "2014, 215.9, 599.8, 293.1, 76.9\n",
        "2015, 223.2, 387.1, 247.7, 109.1\n",
        "2016, 312.8, 446.2, 381.6, 108.1\n",
        "2017, 118.6, 609.7, 172.5, 75.6\n",
        "2018, 368.1, 586.5, 351.2, 66.5\n",
        "    \n"
      ]
    },
    {
      "cell_type": "code",
      "execution_count": null,
      "id": "76975cbb",
      "metadata": {
        "ExecuteTime": {
          "end_time": "2022-02-12T08:16:26.037655Z",
          "start_time": "2022-02-12T08:16:25.993532Z"
        },
        "id": "76975cbb",
        "outputId": "358c1ff2-3974-4bce-8f77-f57ed4a87008"
      },
      "outputs": [
        {
          "data": {
            "text/html": [
              "<div>\n",
              "<style scoped>\n",
              "    .dataframe tbody tr th:only-of-type {\n",
              "        vertical-align: middle;\n",
              "    }\n",
              "\n",
              "    .dataframe tbody tr th {\n",
              "        vertical-align: top;\n",
              "    }\n",
              "\n",
              "    .dataframe thead th {\n",
              "        text-align: right;\n",
              "    }\n",
              "</style>\n",
              "<table border=\"1\" class=\"dataframe\">\n",
              "  <thead>\n",
              "    <tr style=\"text-align: right;\">\n",
              "      <th></th>\n",
              "      <th>2014</th>\n",
              "      <th>215.9</th>\n",
              "      <th>599.8</th>\n",
              "      <th>293.1</th>\n",
              "      <th>76.9</th>\n",
              "    </tr>\n",
              "  </thead>\n",
              "  <tbody>\n",
              "    <tr>\n",
              "      <th>0</th>\n",
              "      <td>2015</td>\n",
              "      <td>223.2</td>\n",
              "      <td>387.1</td>\n",
              "      <td>247.7</td>\n",
              "      <td>109.1</td>\n",
              "    </tr>\n",
              "    <tr>\n",
              "      <th>1</th>\n",
              "      <td>2016</td>\n",
              "      <td>312.8</td>\n",
              "      <td>446.2</td>\n",
              "      <td>381.6</td>\n",
              "      <td>108.1</td>\n",
              "    </tr>\n",
              "    <tr>\n",
              "      <th>2</th>\n",
              "      <td>2017</td>\n",
              "      <td>118.6</td>\n",
              "      <td>609.7</td>\n",
              "      <td>172.5</td>\n",
              "      <td>75.6</td>\n",
              "    </tr>\n",
              "    <tr>\n",
              "      <th>3</th>\n",
              "      <td>2018</td>\n",
              "      <td>368.1</td>\n",
              "      <td>586.5</td>\n",
              "      <td>351.2</td>\n",
              "      <td>66.5</td>\n",
              "    </tr>\n",
              "  </tbody>\n",
              "</table>\n",
              "</div>"
            ],
            "text/plain": [
              "   2014   215.9   599.8   293.1   76.9\n",
              "0  2015   223.2   387.1   247.7  109.1\n",
              "1  2016   312.8   446.2   381.6  108.1\n",
              "2  2017   118.6   609.7   172.5   75.6\n",
              "3  2018   368.1   586.5   351.2   66.5"
            ]
          },
          "execution_count": 26,
          "metadata": {},
          "output_type": "execute_result"
        }
      ],
      "source": [
        "#파일 경로\n",
        "folder = 'C:/Users/82102/OneDrive/데이터분석훈련/myPyExcel/data/ch05/' #폴더 경로\n",
        "txt_file = folder + 'korea_rain2.csv'\n",
        "\n",
        "df2 = pd.read_csv(txt_file)\n",
        "df2"
      ]
    },
    {
      "cell_type": "code",
      "execution_count": null,
      "id": "911149e0",
      "metadata": {
        "ExecuteTime": {
          "end_time": "2022-02-12T08:18:17.483740Z",
          "start_time": "2022-02-12T08:18:17.463566Z"
        },
        "id": "911149e0"
      },
      "outputs": [],
      "source": [
        "folder = 'C:/Users/82102/OneDrive/데이터분석훈련/myPyExcel/data/ch05/' #폴더 경로\n",
        "txt_file = folder + 'korea_rain2.csv'\n",
        "\n",
        "df2 = pd.read_csv(txt_file, header=None)"
      ]
    },
    {
      "cell_type": "code",
      "execution_count": null,
      "id": "23a9d5d9",
      "metadata": {
        "ExecuteTime": {
          "end_time": "2022-02-12T08:21:27.039333Z",
          "start_time": "2022-02-12T08:21:26.983491Z"
        },
        "id": "23a9d5d9",
        "outputId": "8957df6a-467a-4672-a1b3-cb67a2e53980"
      },
      "outputs": [
        {
          "data": {
            "text/html": [
              "<div>\n",
              "<style scoped>\n",
              "    .dataframe tbody tr th:only-of-type {\n",
              "        vertical-align: middle;\n",
              "    }\n",
              "\n",
              "    .dataframe tbody tr th {\n",
              "        vertical-align: top;\n",
              "    }\n",
              "\n",
              "    .dataframe thead th {\n",
              "        text-align: right;\n",
              "    }\n",
              "</style>\n",
              "<table border=\"1\" class=\"dataframe\">\n",
              "  <thead>\n",
              "    <tr style=\"text-align: right;\">\n",
              "      <th></th>\n",
              "      <th>Year</th>\n",
              "      <th>Spring</th>\n",
              "      <th>Summer</th>\n",
              "      <th>Fall</th>\n",
              "      <th>Winter</th>\n",
              "    </tr>\n",
              "  </thead>\n",
              "  <tbody>\n",
              "    <tr>\n",
              "      <th>0</th>\n",
              "      <td>2014</td>\n",
              "      <td>215.9</td>\n",
              "      <td>599.8</td>\n",
              "      <td>293.1</td>\n",
              "      <td>76.9</td>\n",
              "    </tr>\n",
              "    <tr>\n",
              "      <th>1</th>\n",
              "      <td>2015</td>\n",
              "      <td>223.2</td>\n",
              "      <td>387.1</td>\n",
              "      <td>247.7</td>\n",
              "      <td>109.1</td>\n",
              "    </tr>\n",
              "    <tr>\n",
              "      <th>2</th>\n",
              "      <td>2016</td>\n",
              "      <td>312.8</td>\n",
              "      <td>446.2</td>\n",
              "      <td>381.6</td>\n",
              "      <td>108.1</td>\n",
              "    </tr>\n",
              "    <tr>\n",
              "      <th>3</th>\n",
              "      <td>2017</td>\n",
              "      <td>118.6</td>\n",
              "      <td>609.7</td>\n",
              "      <td>172.5</td>\n",
              "      <td>75.6</td>\n",
              "    </tr>\n",
              "    <tr>\n",
              "      <th>4</th>\n",
              "      <td>2018</td>\n",
              "      <td>368.1</td>\n",
              "      <td>586.5</td>\n",
              "      <td>351.2</td>\n",
              "      <td>66.5</td>\n",
              "    </tr>\n",
              "  </tbody>\n",
              "</table>\n",
              "</div>"
            ],
            "text/plain": [
              "   Year  Spring  Summer   Fall  Winter\n",
              "0  2014   215.9   599.8  293.1    76.9\n",
              "1  2015   223.2   387.1  247.7   109.1\n",
              "2  2016   312.8   446.2  381.6   108.1\n",
              "3  2017   118.6   609.7  172.5    75.6\n",
              "4  2018   368.1   586.5  351.2    66.5"
            ]
          },
          "execution_count": 30,
          "metadata": {},
          "output_type": "execute_result"
        }
      ],
      "source": [
        "folder = 'C:/Users/82102/OneDrive/데이터분석훈련/myPyExcel/data/ch05/' #폴더 경로\n",
        "txt_file = folder + 'korea_rain2.csv'\n",
        "\n",
        "name_list = [\"Year\", \"Spring\", \"Summer\", \"Fall\", \"Winter\"]\n",
        "df2 = pd.read_csv(txt_file, names=name_list)\n",
        "df2"
      ]
    },
    {
      "cell_type": "code",
      "execution_count": null,
      "id": "f3de4c0b",
      "metadata": {
        "ExecuteTime": {
          "end_time": "2022-02-12T08:25:53.234865Z",
          "start_time": "2022-02-12T08:25:53.180823Z"
        },
        "id": "f3de4c0b",
        "outputId": "c8f66280-3c20-4926-eba8-f56dbbba9cd6"
      },
      "outputs": [
        {
          "data": {
            "text/html": [
              "<div>\n",
              "<style scoped>\n",
              "    .dataframe tbody tr th:only-of-type {\n",
              "        vertical-align: middle;\n",
              "    }\n",
              "\n",
              "    .dataframe tbody tr th {\n",
              "        vertical-align: top;\n",
              "    }\n",
              "\n",
              "    .dataframe thead th {\n",
              "        text-align: right;\n",
              "    }\n",
              "</style>\n",
              "<table border=\"1\" class=\"dataframe\">\n",
              "  <thead>\n",
              "    <tr style=\"text-align: right;\">\n",
              "      <th></th>\n",
              "      <th>연도New</th>\n",
              "      <th>봄New</th>\n",
              "      <th>여름New</th>\n",
              "      <th>가을New</th>\n",
              "      <th>겨울New</th>\n",
              "    </tr>\n",
              "  </thead>\n",
              "  <tbody>\n",
              "    <tr>\n",
              "      <th>0</th>\n",
              "      <td>2014</td>\n",
              "      <td>215.9</td>\n",
              "      <td>599.8</td>\n",
              "      <td>293.1</td>\n",
              "      <td>76.9</td>\n",
              "    </tr>\n",
              "    <tr>\n",
              "      <th>1</th>\n",
              "      <td>2015</td>\n",
              "      <td>223.2</td>\n",
              "      <td>387.1</td>\n",
              "      <td>247.7</td>\n",
              "      <td>109.1</td>\n",
              "    </tr>\n",
              "    <tr>\n",
              "      <th>2</th>\n",
              "      <td>2016</td>\n",
              "      <td>312.8</td>\n",
              "      <td>446.2</td>\n",
              "      <td>381.6</td>\n",
              "      <td>108.1</td>\n",
              "    </tr>\n",
              "    <tr>\n",
              "      <th>3</th>\n",
              "      <td>2017</td>\n",
              "      <td>118.6</td>\n",
              "      <td>609.7</td>\n",
              "      <td>172.5</td>\n",
              "      <td>75.6</td>\n",
              "    </tr>\n",
              "    <tr>\n",
              "      <th>4</th>\n",
              "      <td>2018</td>\n",
              "      <td>368.1</td>\n",
              "      <td>586.5</td>\n",
              "      <td>351.2</td>\n",
              "      <td>66.5</td>\n",
              "    </tr>\n",
              "  </tbody>\n",
              "</table>\n",
              "</div>"
            ],
            "text/plain": [
              "   연도New   봄New  여름New  가을New  겨울New\n",
              "0   2014  215.9  599.8  293.1   76.9\n",
              "1   2015  223.2  387.1  247.7  109.1\n",
              "2   2016  312.8  446.2  381.6  108.1\n",
              "3   2017  118.6  609.7  172.5   75.6\n",
              "4   2018  368.1  586.5  351.2   66.5"
            ]
          },
          "execution_count": 32,
          "metadata": {},
          "output_type": "execute_result"
        }
      ],
      "source": [
        "folder = 'C:/Users/82102/OneDrive/데이터분석훈련/myPyExcel/data/ch05/' #폴더 경로\n",
        "txt_file = folder + 'korea_rain1.csv'\n",
        "\n",
        "name_list =[\"연도New\",\"봄New\",\"여름New\",\"가을New\",\"겨울New\"]\n",
        "df2 = pd.read_csv(txt_file, header=0, names=name_list)\n",
        "df2"
      ]
    },
    {
      "cell_type": "code",
      "execution_count": null,
      "id": "5cfc2a8e",
      "metadata": {
        "ExecuteTime": {
          "end_time": "2022-02-12T08:33:15.646838Z",
          "start_time": "2022-02-12T08:33:15.602770Z"
        },
        "id": "5cfc2a8e",
        "outputId": "f7e26b5f-82c6-4c83-f3f9-a857fa4121e4"
      },
      "outputs": [
        {
          "data": {
            "text/html": [
              "<div>\n",
              "<style scoped>\n",
              "    .dataframe tbody tr th:only-of-type {\n",
              "        vertical-align: middle;\n",
              "    }\n",
              "\n",
              "    .dataframe tbody tr th {\n",
              "        vertical-align: top;\n",
              "    }\n",
              "\n",
              "    .dataframe thead th {\n",
              "        text-align: right;\n",
              "    }\n",
              "</style>\n",
              "<table border=\"1\" class=\"dataframe\">\n",
              "  <thead>\n",
              "    <tr style=\"text-align: right;\">\n",
              "      <th></th>\n",
              "      <th>제품ID</th>\n",
              "      <th>판매가격</th>\n",
              "      <th>판매량</th>\n",
              "    </tr>\n",
              "  </thead>\n",
              "  <tbody>\n",
              "    <tr>\n",
              "      <th>0</th>\n",
              "      <td>P1001</td>\n",
              "      <td>5000</td>\n",
              "      <td>50</td>\n",
              "    </tr>\n",
              "    <tr>\n",
              "      <th>1</th>\n",
              "      <td>P1002</td>\n",
              "      <td>7000</td>\n",
              "      <td>94</td>\n",
              "    </tr>\n",
              "    <tr>\n",
              "      <th>2</th>\n",
              "      <td>P1003</td>\n",
              "      <td>8000</td>\n",
              "      <td>70</td>\n",
              "    </tr>\n",
              "    <tr>\n",
              "      <th>3</th>\n",
              "      <td>P1004</td>\n",
              "      <td>9000</td>\n",
              "      <td>48</td>\n",
              "    </tr>\n",
              "  </tbody>\n",
              "</table>\n",
              "</div>"
            ],
            "text/plain": [
              "    제품ID  판매가격  판매량\n",
              "0  P1001  5000   50\n",
              "1  P1002  7000   94\n",
              "2  P1003  8000   70\n",
              "3  P1004  9000   48"
            ]
          },
          "execution_count": 33,
          "metadata": {},
          "output_type": "execute_result"
        }
      ],
      "source": [
        "df = pd.DataFrame({\"제품ID\" : ['P1001','P1002','P1003','P1004'],\"판매가격\":[5000,7000,8000,9000],\"판매량\":[50,94,70,48]})\n",
        "df"
      ]
    },
    {
      "cell_type": "code",
      "execution_count": null,
      "id": "adde1207",
      "metadata": {
        "ExecuteTime": {
          "end_time": "2022-02-12T08:36:15.937915Z",
          "start_time": "2022-02-12T08:36:15.889299Z"
        },
        "id": "adde1207",
        "outputId": "0242f51c-357d-4e1b-9b62-4fc8671f2e85"
      },
      "outputs": [
        {
          "name": "stdout",
          "output_type": "stream",
          "text": [
            "생성한 파일 :  C:/Users/82102/OneDrive/데이터분석훈련/myPyExcel/data/ch05/product_sales1.csv\n"
          ]
        }
      ],
      "source": [
        "folder = 'C:/Users/82102/OneDrive/데이터분석훈련/myPyExcel/data/ch05/' #폴더 경로\n",
        "csv_file = folder + 'product_sales1.csv'\n",
        "\n",
        "df.to_csv(csv_file)\n",
        "print(\"생성한 파일 : \", csv_file)"
      ]
    },
    {
      "cell_type": "code",
      "execution_count": null,
      "id": "84613786",
      "metadata": {
        "ExecuteTime": {
          "end_time": "2022-02-12T08:40:35.088512Z",
          "start_time": "2022-02-12T08:40:35.062812Z"
        },
        "id": "84613786",
        "outputId": "a10dc318-5f15-46ca-93c1-afb8bc73e451"
      },
      "outputs": [
        {
          "name": "stdout",
          "output_type": "stream",
          "text": [
            "생성한 CSV 파일 :  C:/Users/82102/OneDrive/데이터분석훈련/myPyExcel/data/ch05/product_sales1.csv\n"
          ]
        }
      ],
      "source": [
        "df.to_csv(csv_file, encoding='cp949',index=False)\n",
        "print('생성한 CSV 파일 : ', csv_file)"
      ]
    },
    {
      "cell_type": "code",
      "execution_count": null,
      "id": "b1cb3e1d",
      "metadata": {
        "ExecuteTime": {
          "end_time": "2022-02-12T08:43:50.053772Z",
          "start_time": "2022-02-12T08:43:44.988873Z"
        },
        "id": "b1cb3e1d",
        "outputId": "6904abbd-c0c5-40db-90dc-a62c188d16bd"
      },
      "outputs": [
        {
          "data": {
            "text/html": [
              "<div>\n",
              "<style scoped>\n",
              "    .dataframe tbody tr th:only-of-type {\n",
              "        vertical-align: middle;\n",
              "    }\n",
              "\n",
              "    .dataframe tbody tr th {\n",
              "        vertical-align: top;\n",
              "    }\n",
              "\n",
              "    .dataframe thead th {\n",
              "        text-align: right;\n",
              "    }\n",
              "</style>\n",
              "<table border=\"1\" class=\"dataframe\">\n",
              "  <thead>\n",
              "    <tr style=\"text-align: right;\">\n",
              "      <th></th>\n",
              "      <th>이름</th>\n",
              "      <th>1월</th>\n",
              "      <th>2월</th>\n",
              "      <th>3월</th>\n",
              "      <th>4월</th>\n",
              "      <th>5월</th>\n",
              "      <th>6월</th>\n",
              "    </tr>\n",
              "  </thead>\n",
              "  <tbody>\n",
              "    <tr>\n",
              "      <th>0</th>\n",
              "      <td>양동호</td>\n",
              "      <td>69</td>\n",
              "      <td>54</td>\n",
              "      <td>76</td>\n",
              "      <td>34</td>\n",
              "      <td>67</td>\n",
              "      <td>56</td>\n",
              "    </tr>\n",
              "    <tr>\n",
              "      <th>1</th>\n",
              "      <td>조순열</td>\n",
              "      <td>65</td>\n",
              "      <td>47</td>\n",
              "      <td>85</td>\n",
              "      <td>12</td>\n",
              "      <td>56</td>\n",
              "      <td>34</td>\n",
              "    </tr>\n",
              "    <tr>\n",
              "      <th>2</th>\n",
              "      <td>박영순</td>\n",
              "      <td>76</td>\n",
              "      <td>85</td>\n",
              "      <td>57</td>\n",
              "      <td>42</td>\n",
              "      <td>89</td>\n",
              "      <td>91</td>\n",
              "    </tr>\n",
              "    <tr>\n",
              "      <th>3</th>\n",
              "      <td>고지영</td>\n",
              "      <td>98</td>\n",
              "      <td>69</td>\n",
              "      <td>23</td>\n",
              "      <td>82</td>\n",
              "      <td>67</td>\n",
              "      <td>87</td>\n",
              "    </tr>\n",
              "    <tr>\n",
              "      <th>4</th>\n",
              "      <td>지수경</td>\n",
              "      <td>45</td>\n",
              "      <td>39</td>\n",
              "      <td>56</td>\n",
              "      <td>98</td>\n",
              "      <td>34</td>\n",
              "      <td>53</td>\n",
              "    </tr>\n",
              "    <tr>\n",
              "      <th>5</th>\n",
              "      <td>오선호</td>\n",
              "      <td>56</td>\n",
              "      <td>34</td>\n",
              "      <td>56</td>\n",
              "      <td>76</td>\n",
              "      <td>95</td>\n",
              "      <td>73</td>\n",
              "    </tr>\n",
              "    <tr>\n",
              "      <th>6</th>\n",
              "      <td>진가연</td>\n",
              "      <td>90</td>\n",
              "      <td>57</td>\n",
              "      <td>34</td>\n",
              "      <td>44</td>\n",
              "      <td>58</td>\n",
              "      <td>96</td>\n",
              "    </tr>\n",
              "    <tr>\n",
              "      <th>7</th>\n",
              "      <td>최소진</td>\n",
              "      <td>45</td>\n",
              "      <td>63</td>\n",
              "      <td>76</td>\n",
              "      <td>15</td>\n",
              "      <td>85</td>\n",
              "      <td>54</td>\n",
              "    </tr>\n",
              "    <tr>\n",
              "      <th>8</th>\n",
              "      <td>한영미</td>\n",
              "      <td>81</td>\n",
              "      <td>75</td>\n",
              "      <td>23</td>\n",
              "      <td>97</td>\n",
              "      <td>53</td>\n",
              "      <td>95</td>\n",
              "    </tr>\n",
              "  </tbody>\n",
              "</table>\n",
              "</div>"
            ],
            "text/plain": [
              "    이름  1월  2월  3월  4월  5월   6월\n",
              "0  양동호  69  54  76  34   67  56\n",
              "1  조순열  65  47  85  12   56  34\n",
              "2  박영순  76  85  57  42   89  91\n",
              "3  고지영  98  69  23  82   67  87\n",
              "4  지수경  45  39  56  98   34  53\n",
              "5  오선호  56  34  56  76   95  73\n",
              "6  진가연  90  57  34  44   58  96\n",
              "7  최소진  45  63  76  15   85  54\n",
              "8  한영미  81  75  23  97   53  95"
            ]
          },
          "execution_count": 36,
          "metadata": {},
          "output_type": "execute_result"
        }
      ],
      "source": [
        "folder = 'C:/Users/82102/OneDrive/데이터분석훈련/myPyExcel/data/ch05/' #폴더 경로\n",
        "excel_file = folder + '사원별_월간_판매현황.xlsx'\n",
        "\n",
        "df = pd.read_excel(excel_file)\n",
        "df"
      ]
    },
    {
      "cell_type": "code",
      "execution_count": null,
      "id": "9a3b800f",
      "metadata": {
        "ExecuteTime": {
          "end_time": "2022-02-12T08:44:59.699677Z",
          "start_time": "2022-02-12T08:44:59.628871Z"
        },
        "id": "9a3b800f",
        "outputId": "51c07d4c-6ccb-4595-fb5d-9c113aff3c03"
      },
      "outputs": [
        {
          "data": {
            "text/html": [
              "<div>\n",
              "<style scoped>\n",
              "    .dataframe tbody tr th:only-of-type {\n",
              "        vertical-align: middle;\n",
              "    }\n",
              "\n",
              "    .dataframe tbody tr th {\n",
              "        vertical-align: top;\n",
              "    }\n",
              "\n",
              "    .dataframe thead th {\n",
              "        text-align: right;\n",
              "    }\n",
              "</style>\n",
              "<table border=\"1\" class=\"dataframe\">\n",
              "  <thead>\n",
              "    <tr style=\"text-align: right;\">\n",
              "      <th></th>\n",
              "      <th>1월</th>\n",
              "      <th>2월</th>\n",
              "      <th>3월</th>\n",
              "      <th>4월</th>\n",
              "      <th>5월</th>\n",
              "      <th>6월</th>\n",
              "    </tr>\n",
              "    <tr>\n",
              "      <th>이름</th>\n",
              "      <th></th>\n",
              "      <th></th>\n",
              "      <th></th>\n",
              "      <th></th>\n",
              "      <th></th>\n",
              "      <th></th>\n",
              "    </tr>\n",
              "  </thead>\n",
              "  <tbody>\n",
              "    <tr>\n",
              "      <th>양동호</th>\n",
              "      <td>69</td>\n",
              "      <td>54</td>\n",
              "      <td>76</td>\n",
              "      <td>34</td>\n",
              "      <td>67</td>\n",
              "      <td>56</td>\n",
              "    </tr>\n",
              "    <tr>\n",
              "      <th>조순열</th>\n",
              "      <td>65</td>\n",
              "      <td>47</td>\n",
              "      <td>85</td>\n",
              "      <td>12</td>\n",
              "      <td>56</td>\n",
              "      <td>34</td>\n",
              "    </tr>\n",
              "    <tr>\n",
              "      <th>박영순</th>\n",
              "      <td>76</td>\n",
              "      <td>85</td>\n",
              "      <td>57</td>\n",
              "      <td>42</td>\n",
              "      <td>89</td>\n",
              "      <td>91</td>\n",
              "    </tr>\n",
              "    <tr>\n",
              "      <th>고지영</th>\n",
              "      <td>98</td>\n",
              "      <td>69</td>\n",
              "      <td>23</td>\n",
              "      <td>82</td>\n",
              "      <td>67</td>\n",
              "      <td>87</td>\n",
              "    </tr>\n",
              "    <tr>\n",
              "      <th>지수경</th>\n",
              "      <td>45</td>\n",
              "      <td>39</td>\n",
              "      <td>56</td>\n",
              "      <td>98</td>\n",
              "      <td>34</td>\n",
              "      <td>53</td>\n",
              "    </tr>\n",
              "    <tr>\n",
              "      <th>오선호</th>\n",
              "      <td>56</td>\n",
              "      <td>34</td>\n",
              "      <td>56</td>\n",
              "      <td>76</td>\n",
              "      <td>95</td>\n",
              "      <td>73</td>\n",
              "    </tr>\n",
              "    <tr>\n",
              "      <th>진가연</th>\n",
              "      <td>90</td>\n",
              "      <td>57</td>\n",
              "      <td>34</td>\n",
              "      <td>44</td>\n",
              "      <td>58</td>\n",
              "      <td>96</td>\n",
              "    </tr>\n",
              "    <tr>\n",
              "      <th>최소진</th>\n",
              "      <td>45</td>\n",
              "      <td>63</td>\n",
              "      <td>76</td>\n",
              "      <td>15</td>\n",
              "      <td>85</td>\n",
              "      <td>54</td>\n",
              "    </tr>\n",
              "    <tr>\n",
              "      <th>한영미</th>\n",
              "      <td>81</td>\n",
              "      <td>75</td>\n",
              "      <td>23</td>\n",
              "      <td>97</td>\n",
              "      <td>53</td>\n",
              "      <td>95</td>\n",
              "    </tr>\n",
              "  </tbody>\n",
              "</table>\n",
              "</div>"
            ],
            "text/plain": [
              "     1월  2월  3월  4월  5월   6월\n",
              "이름                          \n",
              "양동호  69  54  76  34   67  56\n",
              "조순열  65  47  85  12   56  34\n",
              "박영순  76  85  57  42   89  91\n",
              "고지영  98  69  23  82   67  87\n",
              "지수경  45  39  56  98   34  53\n",
              "오선호  56  34  56  76   95  73\n",
              "진가연  90  57  34  44   58  96\n",
              "최소진  45  63  76  15   85  54\n",
              "한영미  81  75  23  97   53  95"
            ]
          },
          "execution_count": 37,
          "metadata": {},
          "output_type": "execute_result"
        }
      ],
      "source": [
        "df = pd.read_excel(excel_file, index_col=\"이름\")\n",
        "df"
      ]
    },
    {
      "cell_type": "code",
      "execution_count": null,
      "id": "5f11913f",
      "metadata": {
        "ExecuteTime": {
          "end_time": "2022-02-12T08:47:02.671206Z",
          "start_time": "2022-02-12T08:47:02.589360Z"
        },
        "id": "5f11913f",
        "outputId": "7963ef9e-31bf-4728-d871-6de97d8133a8"
      },
      "outputs": [
        {
          "data": {
            "text/html": [
              "<div>\n",
              "<style scoped>\n",
              "    .dataframe tbody tr th:only-of-type {\n",
              "        vertical-align: middle;\n",
              "    }\n",
              "\n",
              "    .dataframe tbody tr th {\n",
              "        vertical-align: top;\n",
              "    }\n",
              "\n",
              "    .dataframe thead th {\n",
              "        text-align: right;\n",
              "    }\n",
              "</style>\n",
              "<table border=\"1\" class=\"dataframe\">\n",
              "  <thead>\n",
              "    <tr style=\"text-align: right;\">\n",
              "      <th></th>\n",
              "      <th>7월</th>\n",
              "      <th>8월</th>\n",
              "      <th>9월</th>\n",
              "      <th>10월</th>\n",
              "      <th>11월</th>\n",
              "      <th>12월</th>\n",
              "    </tr>\n",
              "    <tr>\n",
              "      <th>이름</th>\n",
              "      <th></th>\n",
              "      <th></th>\n",
              "      <th></th>\n",
              "      <th></th>\n",
              "      <th></th>\n",
              "      <th></th>\n",
              "    </tr>\n",
              "  </thead>\n",
              "  <tbody>\n",
              "    <tr>\n",
              "      <th>양동호</th>\n",
              "      <td>67</td>\n",
              "      <td>50</td>\n",
              "      <td>74</td>\n",
              "      <td>39</td>\n",
              "      <td>71</td>\n",
              "      <td>54</td>\n",
              "    </tr>\n",
              "    <tr>\n",
              "      <th>조순열</th>\n",
              "      <td>67</td>\n",
              "      <td>47</td>\n",
              "      <td>87</td>\n",
              "      <td>56</td>\n",
              "      <td>60</td>\n",
              "      <td>31</td>\n",
              "    </tr>\n",
              "    <tr>\n",
              "      <th>박영순</th>\n",
              "      <td>79</td>\n",
              "      <td>90</td>\n",
              "      <td>55</td>\n",
              "      <td>45</td>\n",
              "      <td>86</td>\n",
              "      <td>94</td>\n",
              "    </tr>\n",
              "    <tr>\n",
              "      <th>고지영</th>\n",
              "      <td>99</td>\n",
              "      <td>67</td>\n",
              "      <td>19</td>\n",
              "      <td>84</td>\n",
              "      <td>66</td>\n",
              "      <td>87</td>\n",
              "    </tr>\n",
              "    <tr>\n",
              "      <th>지수경</th>\n",
              "      <td>43</td>\n",
              "      <td>37</td>\n",
              "      <td>56</td>\n",
              "      <td>96</td>\n",
              "      <td>32</td>\n",
              "      <td>52</td>\n",
              "    </tr>\n",
              "    <tr>\n",
              "      <th>오선호</th>\n",
              "      <td>53</td>\n",
              "      <td>34</td>\n",
              "      <td>61</td>\n",
              "      <td>72</td>\n",
              "      <td>92</td>\n",
              "      <td>70</td>\n",
              "    </tr>\n",
              "    <tr>\n",
              "      <th>진가연</th>\n",
              "      <td>93</td>\n",
              "      <td>59</td>\n",
              "      <td>30</td>\n",
              "      <td>49</td>\n",
              "      <td>61</td>\n",
              "      <td>98</td>\n",
              "    </tr>\n",
              "    <tr>\n",
              "      <th>최소진</th>\n",
              "      <td>44</td>\n",
              "      <td>68</td>\n",
              "      <td>79</td>\n",
              "      <td>53</td>\n",
              "      <td>81</td>\n",
              "      <td>55</td>\n",
              "    </tr>\n",
              "    <tr>\n",
              "      <th>한영미</th>\n",
              "      <td>85</td>\n",
              "      <td>78</td>\n",
              "      <td>22</td>\n",
              "      <td>75</td>\n",
              "      <td>52</td>\n",
              "      <td>93</td>\n",
              "    </tr>\n",
              "  </tbody>\n",
              "</table>\n",
              "</div>"
            ],
            "text/plain": [
              "     7월  8월  9월  10월  11월   12월\n",
              "이름                             \n",
              "양동호  67  50  74   39    71   54\n",
              "조순열  67  47  87   56    60   31\n",
              "박영순  79  90  55   45    86   94\n",
              "고지영  99  67  19   84    66   87\n",
              "지수경  43  37  56   96    32   52\n",
              "오선호  53  34  61   72    92   70\n",
              "진가연  93  59  30   49    61   98\n",
              "최소진  44  68  79   53    81   55\n",
              "한영미  85  78  22   75    52   93"
            ]
          },
          "execution_count": 39,
          "metadata": {},
          "output_type": "execute_result"
        }
      ],
      "source": [
        "folder = 'C:/Users/82102/OneDrive/데이터분석훈련/myPyExcel/data/ch05/' #폴더 경로\n",
        "excel_file = folder + '사원별_월간_판매현황2.xlsx'\n",
        "\n",
        "df = pd.read_excel(excel_file, sheet_name='하반기', index_col=0)\n",
        "df"
      ]
    },
    {
      "cell_type": "code",
      "execution_count": null,
      "id": "4bbe6831",
      "metadata": {
        "ExecuteTime": {
          "end_time": "2022-02-12T08:52:02.276900Z",
          "start_time": "2022-02-12T08:52:02.196577Z"
        },
        "id": "4bbe6831",
        "outputId": "6c78e336-2277-4af7-df0a-cb8c99069161"
      },
      "outputs": [
        {
          "data": {
            "text/html": [
              "<div>\n",
              "<style scoped>\n",
              "    .dataframe tbody tr th:only-of-type {\n",
              "        vertical-align: middle;\n",
              "    }\n",
              "\n",
              "    .dataframe tbody tr th {\n",
              "        vertical-align: top;\n",
              "    }\n",
              "\n",
              "    .dataframe thead th {\n",
              "        text-align: right;\n",
              "    }\n",
              "</style>\n",
              "<table border=\"1\" class=\"dataframe\">\n",
              "  <thead>\n",
              "    <tr style=\"text-align: right;\">\n",
              "      <th></th>\n",
              "      <th>Names</th>\n",
              "      <th>January</th>\n",
              "      <th>February</th>\n",
              "      <th>March</th>\n",
              "      <th>April</th>\n",
              "      <th>May</th>\n",
              "      <th>June</th>\n",
              "    </tr>\n",
              "  </thead>\n",
              "  <tbody>\n",
              "    <tr>\n",
              "      <th>0</th>\n",
              "      <td>양동호</td>\n",
              "      <td>69</td>\n",
              "      <td>54</td>\n",
              "      <td>76</td>\n",
              "      <td>34</td>\n",
              "      <td>67</td>\n",
              "      <td>56</td>\n",
              "    </tr>\n",
              "    <tr>\n",
              "      <th>1</th>\n",
              "      <td>조순열</td>\n",
              "      <td>65</td>\n",
              "      <td>47</td>\n",
              "      <td>85</td>\n",
              "      <td>12</td>\n",
              "      <td>56</td>\n",
              "      <td>34</td>\n",
              "    </tr>\n",
              "    <tr>\n",
              "      <th>2</th>\n",
              "      <td>박영순</td>\n",
              "      <td>76</td>\n",
              "      <td>85</td>\n",
              "      <td>57</td>\n",
              "      <td>42</td>\n",
              "      <td>89</td>\n",
              "      <td>91</td>\n",
              "    </tr>\n",
              "    <tr>\n",
              "      <th>3</th>\n",
              "      <td>고지영</td>\n",
              "      <td>98</td>\n",
              "      <td>69</td>\n",
              "      <td>23</td>\n",
              "      <td>82</td>\n",
              "      <td>67</td>\n",
              "      <td>87</td>\n",
              "    </tr>\n",
              "    <tr>\n",
              "      <th>4</th>\n",
              "      <td>지수경</td>\n",
              "      <td>45</td>\n",
              "      <td>39</td>\n",
              "      <td>56</td>\n",
              "      <td>98</td>\n",
              "      <td>34</td>\n",
              "      <td>53</td>\n",
              "    </tr>\n",
              "    <tr>\n",
              "      <th>5</th>\n",
              "      <td>오선호</td>\n",
              "      <td>56</td>\n",
              "      <td>34</td>\n",
              "      <td>56</td>\n",
              "      <td>76</td>\n",
              "      <td>95</td>\n",
              "      <td>73</td>\n",
              "    </tr>\n",
              "    <tr>\n",
              "      <th>6</th>\n",
              "      <td>진가연</td>\n",
              "      <td>90</td>\n",
              "      <td>57</td>\n",
              "      <td>34</td>\n",
              "      <td>44</td>\n",
              "      <td>58</td>\n",
              "      <td>96</td>\n",
              "    </tr>\n",
              "    <tr>\n",
              "      <th>7</th>\n",
              "      <td>최소진</td>\n",
              "      <td>45</td>\n",
              "      <td>63</td>\n",
              "      <td>76</td>\n",
              "      <td>15</td>\n",
              "      <td>85</td>\n",
              "      <td>54</td>\n",
              "    </tr>\n",
              "    <tr>\n",
              "      <th>8</th>\n",
              "      <td>한영미</td>\n",
              "      <td>81</td>\n",
              "      <td>75</td>\n",
              "      <td>23</td>\n",
              "      <td>97</td>\n",
              "      <td>53</td>\n",
              "      <td>95</td>\n",
              "    </tr>\n",
              "  </tbody>\n",
              "</table>\n",
              "</div>"
            ],
            "text/plain": [
              "  Names  January  February  March  April  May  June\n",
              "0   양동호       69        54     76     34   67    56\n",
              "1   조순열       65        47     85     12   56    34\n",
              "2   박영순       76        85     57     42   89    91\n",
              "3   고지영       98        69     23     82   67    87\n",
              "4   지수경       45        39     56     98   34    53\n",
              "5   오선호       56        34     56     76   95    73\n",
              "6   진가연       90        57     34     44   58    96\n",
              "7   최소진       45        63     76     15   85    54\n",
              "8   한영미       81        75     23     97   53    95"
            ]
          },
          "execution_count": 43,
          "metadata": {},
          "output_type": "execute_result"
        }
      ],
      "source": [
        "folder = 'C:/Users/82102/OneDrive/데이터분석훈련/myPyExcel/data/ch05/' #폴더 경로\n",
        "excel_file = folder + '사원별_월간_판매현황_열이름없음.xlsx'\n",
        "\n",
        "names_list = [\"Names\", \"January\",\"February\",\"March\",\"April\",\"May\",\"June\"]\n",
        "df=pd.read_excel(excel_file, header=None, names=names_list)\n",
        "df"
      ]
    },
    {
      "cell_type": "code",
      "execution_count": null,
      "id": "8ede0b8b",
      "metadata": {
        "ExecuteTime": {
          "end_time": "2022-02-12T08:55:02.104066Z",
          "start_time": "2022-02-12T08:55:02.013961Z"
        },
        "id": "8ede0b8b",
        "outputId": "43448987-9b34-464d-fcde-e8fa03e231ef"
      },
      "outputs": [
        {
          "data": {
            "text/html": [
              "<div>\n",
              "<style scoped>\n",
              "    .dataframe tbody tr th:only-of-type {\n",
              "        vertical-align: middle;\n",
              "    }\n",
              "\n",
              "    .dataframe tbody tr th {\n",
              "        vertical-align: top;\n",
              "    }\n",
              "\n",
              "    .dataframe thead th {\n",
              "        text-align: right;\n",
              "    }\n",
              "</style>\n",
              "<table border=\"1\" class=\"dataframe\">\n",
              "  <thead>\n",
              "    <tr style=\"text-align: right;\">\n",
              "      <th></th>\n",
              "      <th>사원명</th>\n",
              "      <th>1월달</th>\n",
              "      <th>2월달</th>\n",
              "      <th>3월달</th>\n",
              "      <th>4월달</th>\n",
              "      <th>5월달</th>\n",
              "      <th>6월달</th>\n",
              "    </tr>\n",
              "  </thead>\n",
              "  <tbody>\n",
              "    <tr>\n",
              "      <th>0</th>\n",
              "      <td>양동호</td>\n",
              "      <td>69</td>\n",
              "      <td>54</td>\n",
              "      <td>76</td>\n",
              "      <td>34</td>\n",
              "      <td>67</td>\n",
              "      <td>56</td>\n",
              "    </tr>\n",
              "    <tr>\n",
              "      <th>1</th>\n",
              "      <td>조순열</td>\n",
              "      <td>65</td>\n",
              "      <td>47</td>\n",
              "      <td>85</td>\n",
              "      <td>12</td>\n",
              "      <td>56</td>\n",
              "      <td>34</td>\n",
              "    </tr>\n",
              "    <tr>\n",
              "      <th>2</th>\n",
              "      <td>박영순</td>\n",
              "      <td>76</td>\n",
              "      <td>85</td>\n",
              "      <td>57</td>\n",
              "      <td>42</td>\n",
              "      <td>89</td>\n",
              "      <td>91</td>\n",
              "    </tr>\n",
              "    <tr>\n",
              "      <th>3</th>\n",
              "      <td>고지영</td>\n",
              "      <td>98</td>\n",
              "      <td>69</td>\n",
              "      <td>23</td>\n",
              "      <td>82</td>\n",
              "      <td>67</td>\n",
              "      <td>87</td>\n",
              "    </tr>\n",
              "    <tr>\n",
              "      <th>4</th>\n",
              "      <td>지수경</td>\n",
              "      <td>45</td>\n",
              "      <td>39</td>\n",
              "      <td>56</td>\n",
              "      <td>98</td>\n",
              "      <td>34</td>\n",
              "      <td>53</td>\n",
              "    </tr>\n",
              "    <tr>\n",
              "      <th>5</th>\n",
              "      <td>오선호</td>\n",
              "      <td>56</td>\n",
              "      <td>34</td>\n",
              "      <td>56</td>\n",
              "      <td>76</td>\n",
              "      <td>95</td>\n",
              "      <td>73</td>\n",
              "    </tr>\n",
              "    <tr>\n",
              "      <th>6</th>\n",
              "      <td>진가연</td>\n",
              "      <td>90</td>\n",
              "      <td>57</td>\n",
              "      <td>34</td>\n",
              "      <td>44</td>\n",
              "      <td>58</td>\n",
              "      <td>96</td>\n",
              "    </tr>\n",
              "    <tr>\n",
              "      <th>7</th>\n",
              "      <td>최소진</td>\n",
              "      <td>45</td>\n",
              "      <td>63</td>\n",
              "      <td>76</td>\n",
              "      <td>15</td>\n",
              "      <td>85</td>\n",
              "      <td>54</td>\n",
              "    </tr>\n",
              "    <tr>\n",
              "      <th>8</th>\n",
              "      <td>한영미</td>\n",
              "      <td>81</td>\n",
              "      <td>75</td>\n",
              "      <td>23</td>\n",
              "      <td>97</td>\n",
              "      <td>53</td>\n",
              "      <td>95</td>\n",
              "    </tr>\n",
              "  </tbody>\n",
              "</table>\n",
              "</div>"
            ],
            "text/plain": [
              "   사원명  1월달  2월달  3월달  4월달  5월달  6월달\n",
              "0  양동호   69   54   76   34   67   56\n",
              "1  조순열   65   47   85   12   56   34\n",
              "2  박영순   76   85   57   42   89   91\n",
              "3  고지영   98   69   23   82   67   87\n",
              "4  지수경   45   39   56   98   34   53\n",
              "5  오선호   56   34   56   76   95   73\n",
              "6  진가연   90   57   34   44   58   96\n",
              "7  최소진   45   63   76   15   85   54\n",
              "8  한영미   81   75   23   97   53   95"
            ]
          },
          "execution_count": 44,
          "metadata": {},
          "output_type": "execute_result"
        }
      ],
      "source": [
        "folder = 'C:/Users/82102/OneDrive/데이터분석훈련/myPyExcel/data/ch05/' #폴더 경로\n",
        "excel_file = folder + '사원별_월간_판매현황.xlsx'\n",
        "\n",
        "names_list =[\"사원명\", \"1월달\",\"2월달\",\"3월달\",\"4월달\",\"5월달\",\"6월달\"]\n",
        "df=pd.read_excel(excel_file,header=0,names=names_list)\n",
        "df"
      ]
    },
    {
      "cell_type": "code",
      "execution_count": null,
      "id": "1701acd2",
      "metadata": {
        "ExecuteTime": {
          "end_time": "2022-02-12T08:59:14.036333Z",
          "start_time": "2022-02-12T08:59:13.924393Z"
        },
        "id": "1701acd2",
        "outputId": "76abb948-5603-4b35-ff84-e5030a1e150d"
      },
      "outputs": [
        {
          "data": {
            "text/html": [
              "<div>\n",
              "<style scoped>\n",
              "    .dataframe tbody tr th:only-of-type {\n",
              "        vertical-align: middle;\n",
              "    }\n",
              "\n",
              "    .dataframe tbody tr th {\n",
              "        vertical-align: top;\n",
              "    }\n",
              "\n",
              "    .dataframe thead th {\n",
              "        text-align: right;\n",
              "    }\n",
              "</style>\n",
              "<table border=\"1\" class=\"dataframe\">\n",
              "  <thead>\n",
              "    <tr style=\"text-align: right;\">\n",
              "      <th></th>\n",
              "      <th>이름</th>\n",
              "      <th>1월</th>\n",
              "      <th>2월</th>\n",
              "      <th>3월</th>\n",
              "      <th>4월</th>\n",
              "      <th>5월</th>\n",
              "      <th>6월</th>\n",
              "    </tr>\n",
              "  </thead>\n",
              "  <tbody>\n",
              "    <tr>\n",
              "      <th>0</th>\n",
              "      <td>양동호</td>\n",
              "      <td>69</td>\n",
              "      <td>54</td>\n",
              "      <td>76</td>\n",
              "      <td>34</td>\n",
              "      <td>67</td>\n",
              "      <td>56</td>\n",
              "    </tr>\n",
              "    <tr>\n",
              "      <th>1</th>\n",
              "      <td>조순열</td>\n",
              "      <td>65</td>\n",
              "      <td>47</td>\n",
              "      <td>85</td>\n",
              "      <td>12</td>\n",
              "      <td>56</td>\n",
              "      <td>34</td>\n",
              "    </tr>\n",
              "    <tr>\n",
              "      <th>2</th>\n",
              "      <td>박영순</td>\n",
              "      <td>76</td>\n",
              "      <td>85</td>\n",
              "      <td>57</td>\n",
              "      <td>42</td>\n",
              "      <td>89</td>\n",
              "      <td>91</td>\n",
              "    </tr>\n",
              "    <tr>\n",
              "      <th>3</th>\n",
              "      <td>고지영</td>\n",
              "      <td>98</td>\n",
              "      <td>69</td>\n",
              "      <td>23</td>\n",
              "      <td>82</td>\n",
              "      <td>67</td>\n",
              "      <td>87</td>\n",
              "    </tr>\n",
              "    <tr>\n",
              "      <th>4</th>\n",
              "      <td>지수경</td>\n",
              "      <td>45</td>\n",
              "      <td>39</td>\n",
              "      <td>56</td>\n",
              "      <td>98</td>\n",
              "      <td>34</td>\n",
              "      <td>53</td>\n",
              "    </tr>\n",
              "    <tr>\n",
              "      <th>5</th>\n",
              "      <td>오선호</td>\n",
              "      <td>56</td>\n",
              "      <td>34</td>\n",
              "      <td>56</td>\n",
              "      <td>76</td>\n",
              "      <td>95</td>\n",
              "      <td>73</td>\n",
              "    </tr>\n",
              "    <tr>\n",
              "      <th>6</th>\n",
              "      <td>진가연</td>\n",
              "      <td>90</td>\n",
              "      <td>57</td>\n",
              "      <td>34</td>\n",
              "      <td>44</td>\n",
              "      <td>58</td>\n",
              "      <td>96</td>\n",
              "    </tr>\n",
              "    <tr>\n",
              "      <th>7</th>\n",
              "      <td>최소진</td>\n",
              "      <td>45</td>\n",
              "      <td>63</td>\n",
              "      <td>76</td>\n",
              "      <td>15</td>\n",
              "      <td>85</td>\n",
              "      <td>54</td>\n",
              "    </tr>\n",
              "    <tr>\n",
              "      <th>8</th>\n",
              "      <td>한영미</td>\n",
              "      <td>81</td>\n",
              "      <td>75</td>\n",
              "      <td>23</td>\n",
              "      <td>97</td>\n",
              "      <td>53</td>\n",
              "      <td>95</td>\n",
              "    </tr>\n",
              "  </tbody>\n",
              "</table>\n",
              "</div>"
            ],
            "text/plain": [
              "    이름  1월  2월  3월  4월  5월   6월\n",
              "0  양동호  69  54  76  34   67  56\n",
              "1  조순열  65  47  85  12   56  34\n",
              "2  박영순  76  85  57  42   89  91\n",
              "3  고지영  98  69  23  82   67  87\n",
              "4  지수경  45  39  56  98   34  53\n",
              "5  오선호  56  34  56  76   95  73\n",
              "6  진가연  90  57  34  44   58  96\n",
              "7  최소진  45  63  76  15   85  54\n",
              "8  한영미  81  75  23  97   53  95"
            ]
          },
          "execution_count": 45,
          "metadata": {},
          "output_type": "execute_result"
        }
      ],
      "source": [
        "folder = 'C:/Users/82102/OneDrive/데이터분석훈련/myPyExcel/data/ch05/' #폴더 경로\n",
        "excel_file = folder + '사원별_월간_판매현황2.xlsx'\n",
        "\n",
        "df1 = pd.read_excel(excel_file,sheet_name=0)\n",
        "df2 = pd.read_excel(excel_file,sheet_name=1)\n",
        "df1"
      ]
    },
    {
      "cell_type": "code",
      "execution_count": null,
      "id": "e8a4b089",
      "metadata": {
        "ExecuteTime": {
          "end_time": "2022-02-12T09:00:41.161867Z",
          "start_time": "2022-02-12T09:00:40.625167Z"
        },
        "id": "e8a4b089",
        "outputId": "c40247cd-1339-4c51-d5d7-478a7a85c142"
      },
      "outputs": [
        {
          "name": "stdout",
          "output_type": "stream",
          "text": [
            "생성한 엑셀 파일: C:/Users/82102/OneDrive/데이터분석훈련/myPyExcel/data/ch05/사원별_월간_판매현황.xlsx\n"
          ]
        }
      ],
      "source": [
        "folder = 'C:/Users/82102/OneDrive/데이터분석훈련/myPyExcel/data/ch05/' #폴더 경로\n",
        "excel_file = folder + '사원별_월간_판매현황.xlsx'\n",
        "\n",
        "df1.to_excel(excel_file)\n",
        "print(\"생성한 엑셀 파일:\", excel_file)"
      ]
    },
    {
      "cell_type": "code",
      "execution_count": null,
      "id": "d9c54126",
      "metadata": {
        "ExecuteTime": {
          "end_time": "2022-02-12T09:02:39.861526Z",
          "start_time": "2022-02-12T09:02:39.768719Z"
        },
        "id": "d9c54126",
        "outputId": "8fd00ecb-33f9-40f2-ee70-85ed0da8af31"
      },
      "outputs": [
        {
          "name": "stdout",
          "output_type": "stream",
          "text": [
            "생성한 엑셀 파일 : C:/Users/82102/OneDrive/데이터분석훈련/myPyExcel/data/ch05/사원별_월간_판매현황_new2.xlsx\n"
          ]
        }
      ],
      "source": [
        "folder = 'C:/Users/82102/OneDrive/데이터분석훈련/myPyExcel/data/ch05/' #폴더 경로\n",
        "excel_file = folder + '사원별_월간_판매현황_new2.xlsx'\n",
        "\n",
        "df1.to_excel(excel_file, sheet_name='상반기', index=False)\n",
        "\n",
        "print(\"생성한 엑셀 파일 :\", excel_file)"
      ]
    },
    {
      "cell_type": "code",
      "execution_count": null,
      "id": "fdf54edc",
      "metadata": {
        "ExecuteTime": {
          "end_time": "2022-02-12T09:05:22.136809Z",
          "start_time": "2022-02-12T09:05:22.014534Z"
        },
        "id": "fdf54edc",
        "outputId": "84ad3c97-83ed-4a9f-b6c7-73e40a780226"
      },
      "outputs": [
        {
          "name": "stdout",
          "output_type": "stream",
          "text": [
            "생성한 엑셀 파일 :  C:/Users/82102/OneDrive/데이터분석훈련/myPyExcel/data/ch05/사원별_월간_판매현황_two_sheets.xlsx\n"
          ]
        }
      ],
      "source": [
        "folder = 'C:/Users/82102/OneDrive/데이터분석훈련/myPyExcel/data/ch05/' #폴더 경로\n",
        "excel_file = folder + '사원별_월간_판매현황_two_sheets.xlsx'\n",
        "\n",
        "with pd.ExcelWriter(excel_file, engine='xlsxwriter')as excel_writer:\n",
        "    df1.to_excel(excel_writer,sheet_name='상반기',index=False)\n",
        "    df2.to_excel(excel_writer,sheet_name='하반기',index=False)\n",
        "    \n",
        "print(\"생성한 엑셀 파일 : \",excel_file)"
      ]
    },
    {
      "cell_type": "code",
      "execution_count": null,
      "id": "88e3d68b",
      "metadata": {
        "ExecuteTime": {
          "end_time": "2022-02-12T09:20:09.675772Z",
          "start_time": "2022-02-12T09:20:09.545028Z"
        },
        "id": "88e3d68b",
        "outputId": "83b324c6-ddd4-41f6-85ee-87228d73b81a"
      },
      "outputs": [
        {
          "name": "stdout",
          "output_type": "stream",
          "text": [
            "생성한 엑셀 파일 : C:/Users/82102/OneDrive/데이터분석훈련/myPyExcel/data/ch05/product_sales_in_one_worksheet.xlsx\n"
          ]
        }
      ],
      "source": [
        "df1 = pd.DataFrame({'제품ID':['P1001','P1002','P1003','P1004'],\n",
        "                    '판매가격':[5000,6000,7000,8000],'판매량':[50,94,56,35]})\n",
        "df2 = pd.DataFrame({'제품ID':['P2001','P2002','P2003','P2004'],\n",
        "                    '판매가격':[5200,6200,7200,8200],'판매량':[40,50,30,20]})\n",
        "df3 = pd.DataFrame({'제품ID':['P3001','P3002','P3003','P3004'],\n",
        "                    '판매가격':[5000,4000,2000,1000],'판매량':[20,60,40,50]})\n",
        "df4 = pd.DataFrame({'제품ID':['P4001','P4002','P4003','P4004'],\n",
        "                    '판매가격':[5000,6000,3600,9000],'판매량':[50,40,76,90]})\n",
        "\n",
        "folder = 'C:/Users/82102/OneDrive/데이터분석훈련/myPyExcel/data/ch05/' #폴더 경로\n",
        "excel_file = folder + 'product_sales_in_one_worksheet.xlsx'\n",
        "\n",
        "excel_writer = pd.ExcelWriter(excel_file, engine='xlsxwriter')\n",
        "\n",
        "df1.to_excel(excel_writer)\n",
        "df2.to_excel(excel_writer,startrow=0,startcol=5,index=False)\n",
        "df3.to_excel(excel_writer,startrow=6,startcol=0)\n",
        "df4.to_excel(excel_writer,startrow=5,startcol=5,index=False,header=False)\n",
        "\n",
        "excel_writer.save()\n",
        "\n",
        "print(\"생성한 엑셀 파일 :\",excel_file)\n"
      ]
    },
    {
      "cell_type": "code",
      "execution_count": null,
      "id": "1891ac40",
      "metadata": {
        "ExecuteTime": {
          "end_time": "2022-02-12T09:27:16.514942Z",
          "start_time": "2022-02-12T09:27:16.395871Z"
        },
        "id": "1891ac40",
        "outputId": "8d50e2b1-7f0e-4210-a431-2c088c6749d5"
      },
      "outputs": [
        {
          "name": "stdout",
          "output_type": "stream",
          "text": [
            "출력 엑셀 파일 :  C:/Users/82102/OneDrive/데이터분석훈련/myPyExcel/data/ch05/korea_rain1.xlsx\n"
          ]
        }
      ],
      "source": [
        "folder = 'C:/Users/82102/OneDrive/데이터분석훈련/myPyExcel/data/ch05/' #폴더 경로\n",
        "csv_file = folder + 'korea_rain1.csv'\n",
        "\n",
        "excel_file = folder + 'korea_rain1.xlsx'\n",
        "\n",
        "df = pd.read_csv(csv_file)\n",
        "\n",
        "df.to_excel(excel_file,index=False)\n",
        "\n",
        "print(\"출력 엑셀 파일 : \", excel_file)"
      ]
    },
    {
      "cell_type": "code",
      "execution_count": null,
      "id": "000f5085",
      "metadata": {
        "ExecuteTime": {
          "end_time": "2022-02-12T09:30:19.935008Z",
          "start_time": "2022-02-12T09:30:19.864474Z"
        },
        "id": "000f5085",
        "outputId": "25cf30e2-30c9-4989-9a57-f32501a9dbb7"
      },
      "outputs": [
        {
          "name": "stdout",
          "output_type": "stream",
          "text": [
            "출력 CSV 파일 :  C:/Users/82102/OneDrive/데이터분석훈련/myPyExcel/data/ch05/korea_rain2_cp949.csv\n"
          ]
        }
      ],
      "source": [
        "folder = 'C:/Users/82102/OneDrive/데이터분석훈련/myPyExcel/data/ch05/' #폴더 경로\n",
        "excel_file = folder + 'korea_rain1.xlsx'\n",
        "\n",
        "output_csv_file = folder + 'korea_rain2_cp949.csv'\n",
        "\n",
        "df = pd.read_excel(excel_file)\n",
        "\n",
        "df.to_csv(output_csv_file,encoding='cp949',index=False)\n",
        "\n",
        "print(\"출력 CSV 파일 : \",output_csv_file)"
      ]
    },
    {
      "cell_type": "code",
      "execution_count": null,
      "id": "593be644",
      "metadata": {
        "ExecuteTime": {
          "end_time": "2022-02-12T09:31:06.018883Z",
          "start_time": "2022-02-12T09:31:05.990138Z"
        },
        "id": "593be644",
        "outputId": "cc0c162d-ca92-4741-9a20-72c08c20c9be"
      },
      "outputs": [
        {
          "data": {
            "text/plain": [
              "0    10\n",
              "1    20\n",
              "2    30\n",
              "3    40\n",
              "4    50\n",
              "dtype: int64"
            ]
          },
          "execution_count": 57,
          "metadata": {},
          "output_type": "execute_result"
        }
      ],
      "source": [
        "s1 = pd.Series([10,20,30,40,50])\n",
        "s1"
      ]
    },
    {
      "cell_type": "code",
      "execution_count": null,
      "id": "591f4466",
      "metadata": {
        "ExecuteTime": {
          "end_time": "2022-02-12T09:31:38.171444Z",
          "start_time": "2022-02-12T09:31:38.153544Z"
        },
        "id": "591f4466",
        "outputId": "d7ede838-72ed-415a-f3a9-371c860c8a7f"
      },
      "outputs": [
        {
          "data": {
            "text/plain": [
              "0    1\n",
              "1    2\n",
              "2    3\n",
              "3    4\n",
              "dtype: int64"
            ]
          },
          "execution_count": 58,
          "metadata": {},
          "output_type": "execute_result"
        }
      ],
      "source": [
        "s2 = pd.Series([1,2,3,4])\n",
        "s2"
      ]
    },
    {
      "cell_type": "code",
      "execution_count": null,
      "id": "e264469b",
      "metadata": {
        "ExecuteTime": {
          "end_time": "2022-02-12T09:32:01.702220Z",
          "start_time": "2022-02-12T09:32:01.672078Z"
        },
        "id": "e264469b",
        "outputId": "067c94e5-1efe-481b-efd0-77e738b77ba0"
      },
      "outputs": [
        {
          "data": {
            "text/plain": [
              "0    11.0\n",
              "1    22.0\n",
              "2    33.0\n",
              "3    44.0\n",
              "4     NaN\n",
              "dtype: float64"
            ]
          },
          "execution_count": 59,
          "metadata": {},
          "output_type": "execute_result"
        }
      ],
      "source": [
        "s1 + s2"
      ]
    },
    {
      "cell_type": "code",
      "execution_count": null,
      "id": "7636d1e6",
      "metadata": {
        "ExecuteTime": {
          "end_time": "2022-02-12T09:33:47.056297Z",
          "start_time": "2022-02-12T09:33:47.024515Z"
        },
        "id": "7636d1e6",
        "outputId": "908c1101-337b-42ef-dfcb-141898eb00b6"
      },
      "outputs": [
        {
          "data": {
            "text/plain": [
              "0     9.0\n",
              "1    18.0\n",
              "2    27.0\n",
              "3    36.0\n",
              "4     NaN\n",
              "dtype: float64"
            ]
          },
          "execution_count": 60,
          "metadata": {},
          "output_type": "execute_result"
        }
      ],
      "source": [
        "s1 - s2"
      ]
    },
    {
      "cell_type": "code",
      "execution_count": null,
      "id": "71bf90cb",
      "metadata": {
        "ExecuteTime": {
          "end_time": "2022-02-12T09:33:56.983055Z",
          "start_time": "2022-02-12T09:33:56.964256Z"
        },
        "id": "71bf90cb",
        "outputId": "f18c6a39-1116-4022-a4d9-5292e6f0ae8c"
      },
      "outputs": [
        {
          "data": {
            "text/plain": [
              "0     10.0\n",
              "1     40.0\n",
              "2     90.0\n",
              "3    160.0\n",
              "4      NaN\n",
              "dtype: float64"
            ]
          },
          "execution_count": 61,
          "metadata": {},
          "output_type": "execute_result"
        }
      ],
      "source": [
        "s1 * s2"
      ]
    },
    {
      "cell_type": "code",
      "execution_count": null,
      "id": "4588796d",
      "metadata": {
        "ExecuteTime": {
          "end_time": "2022-02-12T09:34:06.972839Z",
          "start_time": "2022-02-12T09:34:06.946681Z"
        },
        "id": "4588796d",
        "outputId": "f08df0dc-48c4-4c29-d8c7-b5bd0954a118"
      },
      "outputs": [
        {
          "data": {
            "text/plain": [
              "0    10.0\n",
              "1    10.0\n",
              "2    10.0\n",
              "3    10.0\n",
              "4     NaN\n",
              "dtype: float64"
            ]
          },
          "execution_count": 62,
          "metadata": {},
          "output_type": "execute_result"
        }
      ],
      "source": [
        "s1 / s2"
      ]
    },
    {
      "cell_type": "code",
      "execution_count": null,
      "id": "52832fcb",
      "metadata": {
        "ExecuteTime": {
          "end_time": "2022-02-12T09:34:36.370925Z",
          "start_time": "2022-02-12T09:34:36.353423Z"
        },
        "id": "52832fcb",
        "outputId": "45b81d75-4ffb-43df-f668-b8e23d763921"
      },
      "outputs": [
        {
          "data": {
            "text/plain": [
              "0    False\n",
              "1    False\n",
              "2    False\n",
              "3    False\n",
              "4    False\n",
              "dtype: bool"
            ]
          },
          "execution_count": 63,
          "metadata": {},
          "output_type": "execute_result"
        }
      ],
      "source": [
        "s1 > 300"
      ]
    },
    {
      "cell_type": "code",
      "execution_count": null,
      "id": "be49139c",
      "metadata": {
        "ExecuteTime": {
          "end_time": "2022-02-12T09:38:13.726630Z",
          "start_time": "2022-02-12T09:38:13.689461Z"
        },
        "id": "be49139c",
        "outputId": "a218c7cd-3b2a-4c51-87b6-6362d8447ca9"
      },
      "outputs": [
        {
          "data": {
            "text/html": [
              "<div>\n",
              "<style scoped>\n",
              "    .dataframe tbody tr th:only-of-type {\n",
              "        vertical-align: middle;\n",
              "    }\n",
              "\n",
              "    .dataframe tbody tr th {\n",
              "        vertical-align: top;\n",
              "    }\n",
              "\n",
              "    .dataframe thead th {\n",
              "        text-align: right;\n",
              "    }\n",
              "</style>\n",
              "<table border=\"1\" class=\"dataframe\">\n",
              "  <thead>\n",
              "    <tr style=\"text-align: right;\">\n",
              "      <th></th>\n",
              "      <th>A</th>\n",
              "      <th>B</th>\n",
              "      <th>C</th>\n",
              "    </tr>\n",
              "  </thead>\n",
              "  <tbody>\n",
              "    <tr>\n",
              "      <th>0</th>\n",
              "      <td>1</td>\n",
              "      <td>10</td>\n",
              "      <td>100</td>\n",
              "    </tr>\n",
              "    <tr>\n",
              "      <th>1</th>\n",
              "      <td>2</td>\n",
              "      <td>20</td>\n",
              "      <td>200</td>\n",
              "    </tr>\n",
              "    <tr>\n",
              "      <th>2</th>\n",
              "      <td>3</td>\n",
              "      <td>30</td>\n",
              "      <td>300</td>\n",
              "    </tr>\n",
              "    <tr>\n",
              "      <th>3</th>\n",
              "      <td>4</td>\n",
              "      <td>40</td>\n",
              "      <td>400</td>\n",
              "    </tr>\n",
              "  </tbody>\n",
              "</table>\n",
              "</div>"
            ],
            "text/plain": [
              "   A   B    C\n",
              "0  1  10  100\n",
              "1  2  20  200\n",
              "2  3  30  300\n",
              "3  4  40  400"
            ]
          },
          "execution_count": 64,
          "metadata": {},
          "output_type": "execute_result"
        }
      ],
      "source": [
        "dict_data1 = {'A':[1,2,3,4],'B':[10,20,30,40],'C':[100,200,300,400]}\n",
        "\n",
        "df1 = pd.DataFrame(dict_data1)\n",
        "df1"
      ]
    },
    {
      "cell_type": "code",
      "execution_count": null,
      "id": "2a7bb5ea",
      "metadata": {
        "ExecuteTime": {
          "end_time": "2022-02-12T09:39:42.666574Z",
          "start_time": "2022-02-12T09:39:42.638994Z"
        },
        "id": "2a7bb5ea",
        "outputId": "629f0d2f-1f95-4645-c900-166a6f04c2ae"
      },
      "outputs": [
        {
          "data": {
            "text/html": [
              "<div>\n",
              "<style scoped>\n",
              "    .dataframe tbody tr th:only-of-type {\n",
              "        vertical-align: middle;\n",
              "    }\n",
              "\n",
              "    .dataframe tbody tr th {\n",
              "        vertical-align: top;\n",
              "    }\n",
              "\n",
              "    .dataframe thead th {\n",
              "        text-align: right;\n",
              "    }\n",
              "</style>\n",
              "<table border=\"1\" class=\"dataframe\">\n",
              "  <thead>\n",
              "    <tr style=\"text-align: right;\">\n",
              "      <th></th>\n",
              "      <th>A</th>\n",
              "      <th>B</th>\n",
              "      <th>C</th>\n",
              "    </tr>\n",
              "  </thead>\n",
              "  <tbody>\n",
              "    <tr>\n",
              "      <th>0</th>\n",
              "      <td>6</td>\n",
              "      <td>60</td>\n",
              "      <td>600</td>\n",
              "    </tr>\n",
              "    <tr>\n",
              "      <th>1</th>\n",
              "      <td>7</td>\n",
              "      <td>70</td>\n",
              "      <td>700</td>\n",
              "    </tr>\n",
              "    <tr>\n",
              "      <th>2</th>\n",
              "      <td>8</td>\n",
              "      <td>80</td>\n",
              "      <td>800</td>\n",
              "    </tr>\n",
              "    <tr>\n",
              "      <th>3</th>\n",
              "      <td>9</td>\n",
              "      <td>90</td>\n",
              "      <td>900</td>\n",
              "    </tr>\n",
              "  </tbody>\n",
              "</table>\n",
              "</div>"
            ],
            "text/plain": [
              "   A   B    C\n",
              "0  6  60  600\n",
              "1  7  70  700\n",
              "2  8  80  800\n",
              "3  9  90  900"
            ]
          },
          "execution_count": 65,
          "metadata": {},
          "output_type": "execute_result"
        }
      ],
      "source": [
        "dict_data2 = {'A':[6,7,8,9],'B':[60,70,80,90],'C':[600,700,800,900]}\n",
        "df2 = pd.DataFrame(dict_data2)\n",
        "df2"
      ]
    },
    {
      "cell_type": "code",
      "execution_count": null,
      "id": "f4d95a75",
      "metadata": {
        "ExecuteTime": {
          "end_time": "2022-02-12T09:39:55.117826Z",
          "start_time": "2022-02-12T09:39:55.080133Z"
        },
        "id": "f4d95a75",
        "outputId": "1b67b3d1-1683-4b71-fc6b-b0203a551073"
      },
      "outputs": [
        {
          "data": {
            "text/html": [
              "<div>\n",
              "<style scoped>\n",
              "    .dataframe tbody tr th:only-of-type {\n",
              "        vertical-align: middle;\n",
              "    }\n",
              "\n",
              "    .dataframe tbody tr th {\n",
              "        vertical-align: top;\n",
              "    }\n",
              "\n",
              "    .dataframe thead th {\n",
              "        text-align: right;\n",
              "    }\n",
              "</style>\n",
              "<table border=\"1\" class=\"dataframe\">\n",
              "  <thead>\n",
              "    <tr style=\"text-align: right;\">\n",
              "      <th></th>\n",
              "      <th>A</th>\n",
              "      <th>B</th>\n",
              "      <th>C</th>\n",
              "    </tr>\n",
              "  </thead>\n",
              "  <tbody>\n",
              "    <tr>\n",
              "      <th>0</th>\n",
              "      <td>7</td>\n",
              "      <td>70</td>\n",
              "      <td>700</td>\n",
              "    </tr>\n",
              "    <tr>\n",
              "      <th>1</th>\n",
              "      <td>9</td>\n",
              "      <td>90</td>\n",
              "      <td>900</td>\n",
              "    </tr>\n",
              "    <tr>\n",
              "      <th>2</th>\n",
              "      <td>11</td>\n",
              "      <td>110</td>\n",
              "      <td>1100</td>\n",
              "    </tr>\n",
              "    <tr>\n",
              "      <th>3</th>\n",
              "      <td>13</td>\n",
              "      <td>130</td>\n",
              "      <td>1300</td>\n",
              "    </tr>\n",
              "  </tbody>\n",
              "</table>\n",
              "</div>"
            ],
            "text/plain": [
              "    A    B     C\n",
              "0   7   70   700\n",
              "1   9   90   900\n",
              "2  11  110  1100\n",
              "3  13  130  1300"
            ]
          },
          "execution_count": 66,
          "metadata": {},
          "output_type": "execute_result"
        }
      ],
      "source": [
        "df1 + df2"
      ]
    },
    {
      "cell_type": "code",
      "execution_count": null,
      "id": "42214355",
      "metadata": {
        "ExecuteTime": {
          "end_time": "2022-02-12T09:40:07.621134Z",
          "start_time": "2022-02-12T09:40:07.598407Z"
        },
        "id": "42214355",
        "outputId": "e7fba5b2-1c33-4394-8d2d-70f458da27e7"
      },
      "outputs": [
        {
          "data": {
            "text/html": [
              "<div>\n",
              "<style scoped>\n",
              "    .dataframe tbody tr th:only-of-type {\n",
              "        vertical-align: middle;\n",
              "    }\n",
              "\n",
              "    .dataframe tbody tr th {\n",
              "        vertical-align: top;\n",
              "    }\n",
              "\n",
              "    .dataframe thead th {\n",
              "        text-align: right;\n",
              "    }\n",
              "</style>\n",
              "<table border=\"1\" class=\"dataframe\">\n",
              "  <thead>\n",
              "    <tr style=\"text-align: right;\">\n",
              "      <th></th>\n",
              "      <th>A</th>\n",
              "      <th>B</th>\n",
              "      <th>C</th>\n",
              "    </tr>\n",
              "  </thead>\n",
              "  <tbody>\n",
              "    <tr>\n",
              "      <th>0</th>\n",
              "      <td>-5</td>\n",
              "      <td>-50</td>\n",
              "      <td>-500</td>\n",
              "    </tr>\n",
              "    <tr>\n",
              "      <th>1</th>\n",
              "      <td>-5</td>\n",
              "      <td>-50</td>\n",
              "      <td>-500</td>\n",
              "    </tr>\n",
              "    <tr>\n",
              "      <th>2</th>\n",
              "      <td>-5</td>\n",
              "      <td>-50</td>\n",
              "      <td>-500</td>\n",
              "    </tr>\n",
              "    <tr>\n",
              "      <th>3</th>\n",
              "      <td>-5</td>\n",
              "      <td>-50</td>\n",
              "      <td>-500</td>\n",
              "    </tr>\n",
              "  </tbody>\n",
              "</table>\n",
              "</div>"
            ],
            "text/plain": [
              "   A   B    C\n",
              "0 -5 -50 -500\n",
              "1 -5 -50 -500\n",
              "2 -5 -50 -500\n",
              "3 -5 -50 -500"
            ]
          },
          "execution_count": 67,
          "metadata": {},
          "output_type": "execute_result"
        }
      ],
      "source": [
        "df1 - df2"
      ]
    },
    {
      "cell_type": "code",
      "execution_count": null,
      "id": "e6c29762",
      "metadata": {
        "ExecuteTime": {
          "end_time": "2022-02-12T09:40:16.162873Z",
          "start_time": "2022-02-12T09:40:16.129769Z"
        },
        "id": "e6c29762",
        "outputId": "9dea1fca-90d4-490a-e09a-10e832843e35"
      },
      "outputs": [
        {
          "data": {
            "text/html": [
              "<div>\n",
              "<style scoped>\n",
              "    .dataframe tbody tr th:only-of-type {\n",
              "        vertical-align: middle;\n",
              "    }\n",
              "\n",
              "    .dataframe tbody tr th {\n",
              "        vertical-align: top;\n",
              "    }\n",
              "\n",
              "    .dataframe thead th {\n",
              "        text-align: right;\n",
              "    }\n",
              "</style>\n",
              "<table border=\"1\" class=\"dataframe\">\n",
              "  <thead>\n",
              "    <tr style=\"text-align: right;\">\n",
              "      <th></th>\n",
              "      <th>A</th>\n",
              "      <th>B</th>\n",
              "      <th>C</th>\n",
              "    </tr>\n",
              "  </thead>\n",
              "  <tbody>\n",
              "    <tr>\n",
              "      <th>0</th>\n",
              "      <td>6</td>\n",
              "      <td>600</td>\n",
              "      <td>60000</td>\n",
              "    </tr>\n",
              "    <tr>\n",
              "      <th>1</th>\n",
              "      <td>14</td>\n",
              "      <td>1400</td>\n",
              "      <td>140000</td>\n",
              "    </tr>\n",
              "    <tr>\n",
              "      <th>2</th>\n",
              "      <td>24</td>\n",
              "      <td>2400</td>\n",
              "      <td>240000</td>\n",
              "    </tr>\n",
              "    <tr>\n",
              "      <th>3</th>\n",
              "      <td>36</td>\n",
              "      <td>3600</td>\n",
              "      <td>360000</td>\n",
              "    </tr>\n",
              "  </tbody>\n",
              "</table>\n",
              "</div>"
            ],
            "text/plain": [
              "    A     B       C\n",
              "0   6   600   60000\n",
              "1  14  1400  140000\n",
              "2  24  2400  240000\n",
              "3  36  3600  360000"
            ]
          },
          "execution_count": 68,
          "metadata": {},
          "output_type": "execute_result"
        }
      ],
      "source": [
        "df1 * df2"
      ]
    },
    {
      "cell_type": "code",
      "execution_count": null,
      "id": "dc2820c2",
      "metadata": {
        "ExecuteTime": {
          "end_time": "2022-02-12T09:40:28.145377Z",
          "start_time": "2022-02-12T09:40:28.108090Z"
        },
        "id": "dc2820c2",
        "outputId": "69b4052e-8de0-4972-de84-3e4dd8ab4f53"
      },
      "outputs": [
        {
          "data": {
            "text/html": [
              "<div>\n",
              "<style scoped>\n",
              "    .dataframe tbody tr th:only-of-type {\n",
              "        vertical-align: middle;\n",
              "    }\n",
              "\n",
              "    .dataframe tbody tr th {\n",
              "        vertical-align: top;\n",
              "    }\n",
              "\n",
              "    .dataframe thead th {\n",
              "        text-align: right;\n",
              "    }\n",
              "</style>\n",
              "<table border=\"1\" class=\"dataframe\">\n",
              "  <thead>\n",
              "    <tr style=\"text-align: right;\">\n",
              "      <th></th>\n",
              "      <th>A</th>\n",
              "      <th>B</th>\n",
              "      <th>C</th>\n",
              "    </tr>\n",
              "  </thead>\n",
              "  <tbody>\n",
              "    <tr>\n",
              "      <th>0</th>\n",
              "      <td>0.166667</td>\n",
              "      <td>0.166667</td>\n",
              "      <td>0.166667</td>\n",
              "    </tr>\n",
              "    <tr>\n",
              "      <th>1</th>\n",
              "      <td>0.285714</td>\n",
              "      <td>0.285714</td>\n",
              "      <td>0.285714</td>\n",
              "    </tr>\n",
              "    <tr>\n",
              "      <th>2</th>\n",
              "      <td>0.375000</td>\n",
              "      <td>0.375000</td>\n",
              "      <td>0.375000</td>\n",
              "    </tr>\n",
              "    <tr>\n",
              "      <th>3</th>\n",
              "      <td>0.444444</td>\n",
              "      <td>0.444444</td>\n",
              "      <td>0.444444</td>\n",
              "    </tr>\n",
              "  </tbody>\n",
              "</table>\n",
              "</div>"
            ],
            "text/plain": [
              "          A         B         C\n",
              "0  0.166667  0.166667  0.166667\n",
              "1  0.285714  0.285714  0.285714\n",
              "2  0.375000  0.375000  0.375000\n",
              "3  0.444444  0.444444  0.444444"
            ]
          },
          "execution_count": 69,
          "metadata": {},
          "output_type": "execute_result"
        }
      ],
      "source": [
        "df1 / df2"
      ]
    },
    {
      "cell_type": "code",
      "execution_count": null,
      "id": "d8bda9a8",
      "metadata": {
        "ExecuteTime": {
          "end_time": "2022-02-12T09:40:50.512559Z",
          "start_time": "2022-02-12T09:40:50.487244Z"
        },
        "id": "d8bda9a8",
        "outputId": "50ecb82a-2747-42ed-bcfd-461b4d2914e7"
      },
      "outputs": [
        {
          "data": {
            "text/html": [
              "<div>\n",
              "<style scoped>\n",
              "    .dataframe tbody tr th:only-of-type {\n",
              "        vertical-align: middle;\n",
              "    }\n",
              "\n",
              "    .dataframe tbody tr th {\n",
              "        vertical-align: top;\n",
              "    }\n",
              "\n",
              "    .dataframe thead th {\n",
              "        text-align: right;\n",
              "    }\n",
              "</style>\n",
              "<table border=\"1\" class=\"dataframe\">\n",
              "  <thead>\n",
              "    <tr style=\"text-align: right;\">\n",
              "      <th></th>\n",
              "      <th>A</th>\n",
              "      <th>B</th>\n",
              "      <th>C</th>\n",
              "    </tr>\n",
              "  </thead>\n",
              "  <tbody>\n",
              "    <tr>\n",
              "      <th>0</th>\n",
              "      <td>6</td>\n",
              "      <td>15</td>\n",
              "      <td>105</td>\n",
              "    </tr>\n",
              "    <tr>\n",
              "      <th>1</th>\n",
              "      <td>7</td>\n",
              "      <td>25</td>\n",
              "      <td>205</td>\n",
              "    </tr>\n",
              "    <tr>\n",
              "      <th>2</th>\n",
              "      <td>8</td>\n",
              "      <td>35</td>\n",
              "      <td>305</td>\n",
              "    </tr>\n",
              "    <tr>\n",
              "      <th>3</th>\n",
              "      <td>9</td>\n",
              "      <td>45</td>\n",
              "      <td>405</td>\n",
              "    </tr>\n",
              "  </tbody>\n",
              "</table>\n",
              "</div>"
            ],
            "text/plain": [
              "   A   B    C\n",
              "0  6  15  105\n",
              "1  7  25  205\n",
              "2  8  35  305\n",
              "3  9  45  405"
            ]
          },
          "execution_count": 70,
          "metadata": {},
          "output_type": "execute_result"
        }
      ],
      "source": [
        "df1 + 5"
      ]
    },
    {
      "cell_type": "code",
      "execution_count": null,
      "id": "b53651f2",
      "metadata": {
        "ExecuteTime": {
          "end_time": "2022-02-12T09:40:58.217324Z",
          "start_time": "2022-02-12T09:40:58.187872Z"
        },
        "id": "b53651f2",
        "outputId": "9df89cfa-9344-4f3d-836c-bf787cb47439"
      },
      "outputs": [
        {
          "data": {
            "text/html": [
              "<div>\n",
              "<style scoped>\n",
              "    .dataframe tbody tr th:only-of-type {\n",
              "        vertical-align: middle;\n",
              "    }\n",
              "\n",
              "    .dataframe tbody tr th {\n",
              "        vertical-align: top;\n",
              "    }\n",
              "\n",
              "    .dataframe thead th {\n",
              "        text-align: right;\n",
              "    }\n",
              "</style>\n",
              "<table border=\"1\" class=\"dataframe\">\n",
              "  <thead>\n",
              "    <tr style=\"text-align: right;\">\n",
              "      <th></th>\n",
              "      <th>A</th>\n",
              "      <th>B</th>\n",
              "      <th>C</th>\n",
              "    </tr>\n",
              "  </thead>\n",
              "  <tbody>\n",
              "    <tr>\n",
              "      <th>0</th>\n",
              "      <td>1</td>\n",
              "      <td>100</td>\n",
              "      <td>10000</td>\n",
              "    </tr>\n",
              "    <tr>\n",
              "      <th>1</th>\n",
              "      <td>4</td>\n",
              "      <td>400</td>\n",
              "      <td>40000</td>\n",
              "    </tr>\n",
              "    <tr>\n",
              "      <th>2</th>\n",
              "      <td>9</td>\n",
              "      <td>900</td>\n",
              "      <td>90000</td>\n",
              "    </tr>\n",
              "    <tr>\n",
              "      <th>3</th>\n",
              "      <td>16</td>\n",
              "      <td>1600</td>\n",
              "      <td>160000</td>\n",
              "    </tr>\n",
              "  </tbody>\n",
              "</table>\n",
              "</div>"
            ],
            "text/plain": [
              "    A     B       C\n",
              "0   1   100   10000\n",
              "1   4   400   40000\n",
              "2   9   900   90000\n",
              "3  16  1600  160000"
            ]
          },
          "execution_count": 71,
          "metadata": {},
          "output_type": "execute_result"
        }
      ],
      "source": [
        "df1 ** 2"
      ]
    },
    {
      "cell_type": "code",
      "execution_count": null,
      "id": "d7c3d5cb",
      "metadata": {
        "ExecuteTime": {
          "end_time": "2022-02-12T09:42:01.787223Z",
          "start_time": "2022-02-12T09:42:01.758303Z"
        },
        "id": "d7c3d5cb",
        "outputId": "214b4012-c697-411f-fe06-4de965a37a7e"
      },
      "outputs": [
        {
          "data": {
            "text/html": [
              "<div>\n",
              "<style scoped>\n",
              "    .dataframe tbody tr th:only-of-type {\n",
              "        vertical-align: middle;\n",
              "    }\n",
              "\n",
              "    .dataframe tbody tr th {\n",
              "        vertical-align: top;\n",
              "    }\n",
              "\n",
              "    .dataframe thead th {\n",
              "        text-align: right;\n",
              "    }\n",
              "</style>\n",
              "<table border=\"1\" class=\"dataframe\">\n",
              "  <thead>\n",
              "    <tr style=\"text-align: right;\">\n",
              "      <th></th>\n",
              "      <th>A</th>\n",
              "      <th>B</th>\n",
              "      <th>C</th>\n",
              "    </tr>\n",
              "  </thead>\n",
              "  <tbody>\n",
              "    <tr>\n",
              "      <th>0</th>\n",
              "      <td>False</td>\n",
              "      <td>False</td>\n",
              "      <td>True</td>\n",
              "    </tr>\n",
              "    <tr>\n",
              "      <th>1</th>\n",
              "      <td>False</td>\n",
              "      <td>False</td>\n",
              "      <td>True</td>\n",
              "    </tr>\n",
              "    <tr>\n",
              "      <th>2</th>\n",
              "      <td>False</td>\n",
              "      <td>False</td>\n",
              "      <td>True</td>\n",
              "    </tr>\n",
              "    <tr>\n",
              "      <th>3</th>\n",
              "      <td>False</td>\n",
              "      <td>True</td>\n",
              "      <td>True</td>\n",
              "    </tr>\n",
              "  </tbody>\n",
              "</table>\n",
              "</div>"
            ],
            "text/plain": [
              "       A      B     C\n",
              "0  False  False  True\n",
              "1  False  False  True\n",
              "2  False  False  True\n",
              "3  False   True  True"
            ]
          },
          "execution_count": 73,
          "metadata": {},
          "output_type": "execute_result"
        }
      ],
      "source": [
        "df1 > 30"
      ]
    },
    {
      "cell_type": "code",
      "execution_count": null,
      "id": "e3ae9e24",
      "metadata": {
        "ExecuteTime": {
          "end_time": "2022-02-12T09:44:22.704062Z",
          "start_time": "2022-02-12T09:44:22.649076Z"
        },
        "id": "e3ae9e24",
        "outputId": "5ba08fa7-da24-4452-9c49-38798cef5538"
      },
      "outputs": [
        {
          "data": {
            "text/html": [
              "<div>\n",
              "<style scoped>\n",
              "    .dataframe tbody tr th:only-of-type {\n",
              "        vertical-align: middle;\n",
              "    }\n",
              "\n",
              "    .dataframe tbody tr th {\n",
              "        vertical-align: top;\n",
              "    }\n",
              "\n",
              "    .dataframe thead th {\n",
              "        text-align: right;\n",
              "    }\n",
              "</style>\n",
              "<table border=\"1\" class=\"dataframe\">\n",
              "  <thead>\n",
              "    <tr style=\"text-align: right;\">\n",
              "      <th></th>\n",
              "      <th>봄</th>\n",
              "      <th>여름</th>\n",
              "      <th>가을</th>\n",
              "      <th>겨울</th>\n",
              "    </tr>\n",
              "    <tr>\n",
              "      <th>연도</th>\n",
              "      <th></th>\n",
              "      <th></th>\n",
              "      <th></th>\n",
              "      <th></th>\n",
              "    </tr>\n",
              "  </thead>\n",
              "  <tbody>\n",
              "    <tr>\n",
              "      <th>2014</th>\n",
              "      <td>215.9</td>\n",
              "      <td>599.8</td>\n",
              "      <td>293.1</td>\n",
              "      <td>76.9</td>\n",
              "    </tr>\n",
              "    <tr>\n",
              "      <th>2015</th>\n",
              "      <td>223.2</td>\n",
              "      <td>387.1</td>\n",
              "      <td>247.7</td>\n",
              "      <td>109.1</td>\n",
              "    </tr>\n",
              "    <tr>\n",
              "      <th>2016</th>\n",
              "      <td>312.8</td>\n",
              "      <td>446.2</td>\n",
              "      <td>381.6</td>\n",
              "      <td>108.1</td>\n",
              "    </tr>\n",
              "    <tr>\n",
              "      <th>2017</th>\n",
              "      <td>118.6</td>\n",
              "      <td>609.7</td>\n",
              "      <td>172.5</td>\n",
              "      <td>75.6</td>\n",
              "    </tr>\n",
              "    <tr>\n",
              "      <th>2018</th>\n",
              "      <td>368.1</td>\n",
              "      <td>586.5</td>\n",
              "      <td>351.2</td>\n",
              "      <td>66.5</td>\n",
              "    </tr>\n",
              "  </tbody>\n",
              "</table>\n",
              "</div>"
            ],
            "text/plain": [
              "          봄     여름     가을     겨울\n",
              "연도                              \n",
              "2014  215.9  599.8  293.1   76.9\n",
              "2015  223.2  387.1  247.7  109.1\n",
              "2016  312.8  446.2  381.6  108.1\n",
              "2017  118.6  609.7  172.5   75.6\n",
              "2018  368.1  586.5  351.2   66.5"
            ]
          },
          "execution_count": 74,
          "metadata": {},
          "output_type": "execute_result"
        }
      ],
      "source": [
        "\n",
        "csv_file = \"C:/Users/82102/OneDrive/데이터분석훈련/myPyExcel/data/ch05/korea_rain1.csv\"\n",
        "\n",
        "df = pd.read_csv(csv_file,encoding='utf-8',index_col='연도')\n",
        "df"
      ]
    },
    {
      "cell_type": "code",
      "execution_count": null,
      "id": "a3d1df9b",
      "metadata": {
        "ExecuteTime": {
          "end_time": "2022-02-12T09:44:51.843857Z",
          "start_time": "2022-02-12T09:44:51.816012Z"
        },
        "id": "a3d1df9b",
        "outputId": "e25af9a5-0cb3-49d2-8f29-266a2023a4a7"
      },
      "outputs": [
        {
          "data": {
            "text/plain": [
              " 봄     247.72\n",
              " 여름    525.86\n",
              " 가을    289.22\n",
              " 겨울     87.24\n",
              "dtype: float64"
            ]
          },
          "execution_count": 75,
          "metadata": {},
          "output_type": "execute_result"
        }
      ],
      "source": [
        "df.mean()"
      ]
    },
    {
      "cell_type": "code",
      "execution_count": null,
      "id": "ed64f519",
      "metadata": {
        "ExecuteTime": {
          "end_time": "2022-02-12T09:45:08.016904Z",
          "start_time": "2022-02-12T09:45:07.997195Z"
        },
        "id": "ed64f519",
        "outputId": "473b839b-b642-4c4b-ca03-9ea010dcc4b1"
      },
      "outputs": [
        {
          "data": {
            "text/plain": [
              " 봄      96.193123\n",
              " 여름    102.192872\n",
              " 가을     83.273807\n",
              " 겨울     19.909495\n",
              "dtype: float64"
            ]
          },
          "execution_count": 76,
          "metadata": {},
          "output_type": "execute_result"
        }
      ],
      "source": [
        "df.std()"
      ]
    },
    {
      "cell_type": "code",
      "execution_count": null,
      "id": "2460626f",
      "metadata": {
        "ExecuteTime": {
          "end_time": "2022-02-12T09:45:30.090862Z",
          "start_time": "2022-02-12T09:45:30.068058Z"
        },
        "id": "2460626f",
        "outputId": "2a156dc8-795e-4cfe-fd12-b5094e65b7fe"
      },
      "outputs": [
        {
          "data": {
            "text/plain": [
              "연도\n",
              "2014    296.425\n",
              "2015    241.775\n",
              "2016    312.175\n",
              "2017    244.100\n",
              "2018    343.075\n",
              "dtype: float64"
            ]
          },
          "execution_count": 77,
          "metadata": {},
          "output_type": "execute_result"
        }
      ],
      "source": [
        "df.mean(axis=1)"
      ]
    },
    {
      "cell_type": "code",
      "execution_count": null,
      "id": "2d77b9c7",
      "metadata": {
        "ExecuteTime": {
          "end_time": "2022-02-12T09:45:52.240436Z",
          "start_time": "2022-02-12T09:45:52.211427Z"
        },
        "id": "2d77b9c7",
        "outputId": "6fc6f7ec-6b11-482e-baae-c614a0dfe645"
      },
      "outputs": [
        {
          "data": {
            "text/plain": [
              "연도\n",
              "2014    221.150739\n",
              "2015    114.166760\n",
              "2016    146.548658\n",
              "2017    246.936173\n",
              "2018    213.261754\n",
              "dtype: float64"
            ]
          },
          "execution_count": 78,
          "metadata": {},
          "output_type": "execute_result"
        }
      ],
      "source": [
        "df.std(axis=1)"
      ]
    },
    {
      "cell_type": "code",
      "execution_count": null,
      "id": "94708aca",
      "metadata": {
        "ExecuteTime": {
          "end_time": "2022-02-12T09:46:03.318510Z",
          "start_time": "2022-02-12T09:46:03.248466Z"
        },
        "id": "94708aca",
        "outputId": "b2908e87-97a7-4dd9-b306-f50cb1fd328d"
      },
      "outputs": [
        {
          "data": {
            "text/html": [
              "<div>\n",
              "<style scoped>\n",
              "    .dataframe tbody tr th:only-of-type {\n",
              "        vertical-align: middle;\n",
              "    }\n",
              "\n",
              "    .dataframe tbody tr th {\n",
              "        vertical-align: top;\n",
              "    }\n",
              "\n",
              "    .dataframe thead th {\n",
              "        text-align: right;\n",
              "    }\n",
              "</style>\n",
              "<table border=\"1\" class=\"dataframe\">\n",
              "  <thead>\n",
              "    <tr style=\"text-align: right;\">\n",
              "      <th></th>\n",
              "      <th>봄</th>\n",
              "      <th>여름</th>\n",
              "      <th>가을</th>\n",
              "      <th>겨울</th>\n",
              "    </tr>\n",
              "  </thead>\n",
              "  <tbody>\n",
              "    <tr>\n",
              "      <th>count</th>\n",
              "      <td>5.000000</td>\n",
              "      <td>5.000000</td>\n",
              "      <td>5.000000</td>\n",
              "      <td>5.000000</td>\n",
              "    </tr>\n",
              "    <tr>\n",
              "      <th>mean</th>\n",
              "      <td>247.720000</td>\n",
              "      <td>525.860000</td>\n",
              "      <td>289.220000</td>\n",
              "      <td>87.240000</td>\n",
              "    </tr>\n",
              "    <tr>\n",
              "      <th>std</th>\n",
              "      <td>96.193123</td>\n",
              "      <td>102.192872</td>\n",
              "      <td>83.273807</td>\n",
              "      <td>19.909495</td>\n",
              "    </tr>\n",
              "    <tr>\n",
              "      <th>min</th>\n",
              "      <td>118.600000</td>\n",
              "      <td>387.100000</td>\n",
              "      <td>172.500000</td>\n",
              "      <td>66.500000</td>\n",
              "    </tr>\n",
              "    <tr>\n",
              "      <th>25%</th>\n",
              "      <td>215.900000</td>\n",
              "      <td>446.200000</td>\n",
              "      <td>247.700000</td>\n",
              "      <td>75.600000</td>\n",
              "    </tr>\n",
              "    <tr>\n",
              "      <th>50%</th>\n",
              "      <td>223.200000</td>\n",
              "      <td>586.500000</td>\n",
              "      <td>293.100000</td>\n",
              "      <td>76.900000</td>\n",
              "    </tr>\n",
              "    <tr>\n",
              "      <th>75%</th>\n",
              "      <td>312.800000</td>\n",
              "      <td>599.800000</td>\n",
              "      <td>351.200000</td>\n",
              "      <td>108.100000</td>\n",
              "    </tr>\n",
              "    <tr>\n",
              "      <th>max</th>\n",
              "      <td>368.100000</td>\n",
              "      <td>609.700000</td>\n",
              "      <td>381.600000</td>\n",
              "      <td>109.100000</td>\n",
              "    </tr>\n",
              "  </tbody>\n",
              "</table>\n",
              "</div>"
            ],
            "text/plain": [
              "                봄          여름          가을          겨울\n",
              "count    5.000000    5.000000    5.000000    5.000000\n",
              "mean   247.720000  525.860000  289.220000   87.240000\n",
              "std     96.193123  102.192872   83.273807   19.909495\n",
              "min    118.600000  387.100000  172.500000   66.500000\n",
              "25%    215.900000  446.200000  247.700000   75.600000\n",
              "50%    223.200000  586.500000  293.100000   76.900000\n",
              "75%    312.800000  599.800000  351.200000  108.100000\n",
              "max    368.100000  609.700000  381.600000  109.100000"
            ]
          },
          "execution_count": 79,
          "metadata": {},
          "output_type": "execute_result"
        }
      ],
      "source": [
        "df.describe()"
      ]
    },
    {
      "cell_type": "code",
      "execution_count": null,
      "id": "3c0026cd",
      "metadata": {
        "ExecuteTime": {
          "end_time": "2022-02-12T09:49:08.351656Z",
          "start_time": "2022-02-12T09:49:08.321094Z"
        },
        "id": "3c0026cd",
        "outputId": "148c7054-16e6-4b8e-f71a-69b1179e16c9"
      },
      "outputs": [
        {
          "data": {
            "text/plain": [
              "a    0.0\n",
              "b    1.0\n",
              "c    2.0\n",
              "d    3.0\n",
              "e    4.0\n",
              "dtype: float64"
            ]
          },
          "execution_count": 81,
          "metadata": {},
          "output_type": "execute_result"
        }
      ],
      "source": [
        "index_data = ['a','b','c','d','e']\n",
        "data = [0.0, 1.0, 2.0, 3.0, 4.0]\n",
        "s1 = pd.Series(data,index=index_data)\n",
        "s1"
      ]
    },
    {
      "cell_type": "code",
      "execution_count": null,
      "id": "c3d71fb1",
      "metadata": {
        "ExecuteTime": {
          "end_time": "2022-02-12T09:49:31.459863Z",
          "start_time": "2022-02-12T09:49:31.430856Z"
        },
        "id": "c3d71fb1",
        "outputId": "18933c18-168e-469d-9979-785462215b26"
      },
      "outputs": [
        {
          "data": {
            "text/plain": [
              "0.0"
            ]
          },
          "execution_count": 82,
          "metadata": {},
          "output_type": "execute_result"
        }
      ],
      "source": [
        "s1.loc['a']"
      ]
    },
    {
      "cell_type": "code",
      "execution_count": null,
      "id": "a723caf1",
      "metadata": {
        "ExecuteTime": {
          "end_time": "2022-02-12T09:50:14.152065Z",
          "start_time": "2022-02-12T09:50:14.118260Z"
        },
        "id": "a723caf1",
        "outputId": "d8811aa1-feac-4ba3-8443-4313735337c4"
      },
      "outputs": [
        {
          "data": {
            "text/plain": [
              "a    0.0\n",
              "b    1.0\n",
              "c    2.0\n",
              "e    4.0\n",
              "dtype: float64"
            ]
          },
          "execution_count": 83,
          "metadata": {},
          "output_type": "execute_result"
        }
      ],
      "source": [
        "s1.loc[['a','b','c','e']]"
      ]
    },
    {
      "cell_type": "code",
      "execution_count": null,
      "id": "ed4fb241",
      "metadata": {
        "ExecuteTime": {
          "end_time": "2022-02-12T09:51:02.162939Z",
          "start_time": "2022-02-12T09:51:02.133586Z"
        },
        "id": "ed4fb241",
        "outputId": "226d186d-d90e-4fb0-806a-5d26d74d80c0"
      },
      "outputs": [
        {
          "data": {
            "text/plain": [
              "b    1.0\n",
              "c    2.0\n",
              "d    3.0\n",
              "dtype: float64"
            ]
          },
          "execution_count": 86,
          "metadata": {},
          "output_type": "execute_result"
        }
      ],
      "source": [
        "s1.loc['b':'d']"
      ]
    },
    {
      "cell_type": "code",
      "execution_count": null,
      "id": "faf6dd44",
      "metadata": {
        "ExecuteTime": {
          "end_time": "2022-02-12T09:51:22.957129Z",
          "start_time": "2022-02-12T09:51:22.933643Z"
        },
        "id": "faf6dd44",
        "outputId": "44711c2f-eb0e-4eb8-9e17-46a5739ef9c6"
      },
      "outputs": [
        {
          "data": {
            "text/plain": [
              "1.0"
            ]
          },
          "execution_count": 87,
          "metadata": {},
          "output_type": "execute_result"
        }
      ],
      "source": [
        "s1.iloc[1]"
      ]
    },
    {
      "cell_type": "code",
      "execution_count": null,
      "id": "f2f3c13c",
      "metadata": {
        "ExecuteTime": {
          "end_time": "2022-02-12T09:52:39.685166Z",
          "start_time": "2022-02-12T09:52:39.662163Z"
        },
        "id": "f2f3c13c",
        "outputId": "565e9eec-e3f1-472e-cab3-0aaf8170aedf"
      },
      "outputs": [
        {
          "data": {
            "text/plain": [
              "a    0.0\n",
              "d    3.0\n",
              "e    4.0\n",
              "dtype: float64"
            ]
          },
          "execution_count": 89,
          "metadata": {},
          "output_type": "execute_result"
        }
      ],
      "source": [
        "s1.iloc[[0,3,4]]"
      ]
    },
    {
      "cell_type": "code",
      "execution_count": null,
      "id": "357ae8fe",
      "metadata": {
        "ExecuteTime": {
          "end_time": "2022-02-12T09:53:02.169339Z",
          "start_time": "2022-02-12T09:53:02.152142Z"
        },
        "id": "357ae8fe",
        "outputId": "95d37ef4-5ae7-4abd-c483-30e4f302c7ad"
      },
      "outputs": [
        {
          "data": {
            "text/plain": [
              "b    1.0\n",
              "c    2.0\n",
              "d    3.0\n",
              "dtype: float64"
            ]
          },
          "execution_count": 90,
          "metadata": {},
          "output_type": "execute_result"
        }
      ],
      "source": [
        "s1.iloc[1:4]"
      ]
    },
    {
      "cell_type": "code",
      "execution_count": null,
      "id": "b45dae0a",
      "metadata": {
        "ExecuteTime": {
          "end_time": "2022-02-12T09:54:07.500811Z",
          "start_time": "2022-02-12T09:54:07.481918Z"
        },
        "id": "b45dae0a",
        "outputId": "b2754824-168f-4e4d-e913-cdc6354e2223"
      },
      "outputs": [
        {
          "data": {
            "text/plain": [
              "a    10.0\n",
              "b    10.0\n",
              "c    10.0\n",
              "d     3.0\n",
              "e     4.0\n",
              "dtype: float64"
            ]
          },
          "execution_count": 92,
          "metadata": {},
          "output_type": "execute_result"
        }
      ],
      "source": [
        "s1.loc['a':'c']=10\n",
        "s1"
      ]
    },
    {
      "cell_type": "code",
      "execution_count": null,
      "id": "827e507f",
      "metadata": {
        "ExecuteTime": {
          "end_time": "2022-02-12T10:37:30.187432Z",
          "start_time": "2022-02-12T10:37:30.145890Z"
        },
        "id": "827e507f",
        "outputId": "83aec90a-4d58-4e0a-ce87-d44bad2b10b8"
      },
      "outputs": [
        {
          "data": {
            "text/html": [
              "<div>\n",
              "<style scoped>\n",
              "    .dataframe tbody tr th:only-of-type {\n",
              "        vertical-align: middle;\n",
              "    }\n",
              "\n",
              "    .dataframe tbody tr th {\n",
              "        vertical-align: top;\n",
              "    }\n",
              "\n",
              "    .dataframe thead th {\n",
              "        text-align: right;\n",
              "    }\n",
              "</style>\n",
              "<table border=\"1\" class=\"dataframe\">\n",
              "  <thead>\n",
              "    <tr style=\"text-align: right;\">\n",
              "      <th></th>\n",
              "      <th>A</th>\n",
              "      <th>B</th>\n",
              "      <th>C</th>\n",
              "    </tr>\n",
              "  </thead>\n",
              "  <tbody>\n",
              "    <tr>\n",
              "      <th>a</th>\n",
              "      <td>0</td>\n",
              "      <td>0.0</td>\n",
              "      <td>0</td>\n",
              "    </tr>\n",
              "    <tr>\n",
              "      <th>b</th>\n",
              "      <td>10</td>\n",
              "      <td>0.1</td>\n",
              "      <td>100</td>\n",
              "    </tr>\n",
              "    <tr>\n",
              "      <th>c</th>\n",
              "      <td>20</td>\n",
              "      <td>0.2</td>\n",
              "      <td>200</td>\n",
              "    </tr>\n",
              "    <tr>\n",
              "      <th>d</th>\n",
              "      <td>30</td>\n",
              "      <td>0.3</td>\n",
              "      <td>300</td>\n",
              "    </tr>\n",
              "    <tr>\n",
              "      <th>e</th>\n",
              "      <td>40</td>\n",
              "      <td>0.4</td>\n",
              "      <td>400</td>\n",
              "    </tr>\n",
              "    <tr>\n",
              "      <th>f</th>\n",
              "      <td>50</td>\n",
              "      <td>0.5</td>\n",
              "      <td>500</td>\n",
              "    </tr>\n",
              "  </tbody>\n",
              "</table>\n",
              "</div>"
            ],
            "text/plain": [
              "    A    B    C\n",
              "a   0  0.0    0\n",
              "b  10  0.1  100\n",
              "c  20  0.2  200\n",
              "d  30  0.3  300\n",
              "e  40  0.4  400\n",
              "f  50  0.5  500"
            ]
          },
          "execution_count": 94,
          "metadata": {},
          "output_type": "execute_result"
        }
      ],
      "source": [
        "dict_data = {'A':[0,10,20,30,40,50], 'B':[0,0.1,0.2,0.3,0.4,0.5],'C':[0,100,200,300,400,500]}\n",
        "\n",
        "index_data = ['a','b','c','d','e','f']\n",
        "\n",
        "df1 = pd.DataFrame(dict_data, index=index_data)\n",
        "df1"
      ]
    },
    {
      "cell_type": "code",
      "execution_count": null,
      "id": "dc42478e",
      "metadata": {
        "ExecuteTime": {
          "end_time": "2022-02-12T10:38:03.209717Z",
          "start_time": "2022-02-12T10:38:03.191897Z"
        },
        "id": "dc42478e",
        "outputId": "833d231f-6f68-4ac4-96ce-e61190bd312a"
      },
      "outputs": [
        {
          "data": {
            "text/plain": [
              "A    0.0\n",
              "B    0.0\n",
              "C    0.0\n",
              "Name: a, dtype: float64"
            ]
          },
          "execution_count": 95,
          "metadata": {},
          "output_type": "execute_result"
        }
      ],
      "source": [
        "df1.loc[\"a\"]"
      ]
    },
    {
      "cell_type": "code",
      "execution_count": null,
      "id": "37d26c99",
      "metadata": {
        "ExecuteTime": {
          "end_time": "2022-02-12T10:39:17.707713Z",
          "start_time": "2022-02-12T10:39:17.678949Z"
        },
        "id": "37d26c99",
        "outputId": "608ae4f1-7498-472e-a61e-41bfdc8d51a1"
      },
      "outputs": [
        {
          "data": {
            "text/html": [
              "<div>\n",
              "<style scoped>\n",
              "    .dataframe tbody tr th:only-of-type {\n",
              "        vertical-align: middle;\n",
              "    }\n",
              "\n",
              "    .dataframe tbody tr th {\n",
              "        vertical-align: top;\n",
              "    }\n",
              "\n",
              "    .dataframe thead th {\n",
              "        text-align: right;\n",
              "    }\n",
              "</style>\n",
              "<table border=\"1\" class=\"dataframe\">\n",
              "  <thead>\n",
              "    <tr style=\"text-align: right;\">\n",
              "      <th></th>\n",
              "      <th>A</th>\n",
              "      <th>B</th>\n",
              "      <th>C</th>\n",
              "    </tr>\n",
              "  </thead>\n",
              "  <tbody>\n",
              "    <tr>\n",
              "      <th>a</th>\n",
              "      <td>0</td>\n",
              "      <td>0.0</td>\n",
              "      <td>0</td>\n",
              "    </tr>\n",
              "    <tr>\n",
              "      <th>c</th>\n",
              "      <td>20</td>\n",
              "      <td>0.2</td>\n",
              "      <td>200</td>\n",
              "    </tr>\n",
              "    <tr>\n",
              "      <th>f</th>\n",
              "      <td>50</td>\n",
              "      <td>0.5</td>\n",
              "      <td>500</td>\n",
              "    </tr>\n",
              "  </tbody>\n",
              "</table>\n",
              "</div>"
            ],
            "text/plain": [
              "    A    B    C\n",
              "a   0  0.0    0\n",
              "c  20  0.2  200\n",
              "f  50  0.5  500"
            ]
          },
          "execution_count": 96,
          "metadata": {},
          "output_type": "execute_result"
        }
      ],
      "source": [
        "df1.loc[['a','c','f']]"
      ]
    },
    {
      "cell_type": "code",
      "execution_count": null,
      "id": "0d3b4adb",
      "metadata": {
        "ExecuteTime": {
          "end_time": "2022-02-12T10:40:35.408654Z",
          "start_time": "2022-02-12T10:40:35.375896Z"
        },
        "id": "0d3b4adb",
        "outputId": "5d0660ed-b22b-49fb-8071-026c8168dc60"
      },
      "outputs": [
        {
          "data": {
            "text/plain": [
              "A     20.0\n",
              "B      0.2\n",
              "C    200.0\n",
              "Name: c, dtype: float64"
            ]
          },
          "execution_count": 97,
          "metadata": {},
          "output_type": "execute_result"
        }
      ],
      "source": [
        "df1.iloc[2]"
      ]
    },
    {
      "cell_type": "code",
      "execution_count": null,
      "id": "ea41301b",
      "metadata": {
        "ExecuteTime": {
          "end_time": "2022-02-12T10:45:28.140721Z",
          "start_time": "2022-02-12T10:45:28.113099Z"
        },
        "id": "ea41301b",
        "outputId": "a9cb24eb-1aba-4b99-bdaa-1710ccd8a109"
      },
      "outputs": [
        {
          "data": {
            "text/plain": [
              "a    0\n",
              "b    1\n",
              "c    2\n",
              "d    3\n",
              "e    4\n",
              "f    5\n",
              "dtype: int64"
            ]
          },
          "execution_count": 98,
          "metadata": {},
          "output_type": "execute_result"
        }
      ],
      "source": [
        "index_data = ['a','b','c','d','e','f']\n",
        "data = [0,1,2,3,4,5]\n",
        "\n",
        "s2 = pd.Series(data,index=index_data)\n",
        "s2\n"
      ]
    },
    {
      "cell_type": "code",
      "execution_count": null,
      "id": "14714636",
      "metadata": {
        "ExecuteTime": {
          "end_time": "2022-02-12T11:44:17.084963Z",
          "start_time": "2022-02-12T11:44:17.057211Z"
        },
        "id": "14714636",
        "outputId": "29cedc70-bfe9-451b-b7a4-fc88821b8e76"
      },
      "outputs": [
        {
          "data": {
            "text/plain": [
              "2"
            ]
          },
          "execution_count": 99,
          "metadata": {},
          "output_type": "execute_result"
        }
      ],
      "source": [
        "s2[2]"
      ]
    },
    {
      "cell_type": "code",
      "execution_count": null,
      "id": "eca21eba",
      "metadata": {
        "ExecuteTime": {
          "end_time": "2022-02-12T11:44:43.616339Z",
          "start_time": "2022-02-12T11:44:43.590654Z"
        },
        "id": "eca21eba",
        "outputId": "7b382139-1a32-437a-fd9a-7eda5ef3bedf"
      },
      "outputs": [
        {
          "data": {
            "text/plain": [
              "a    0\n",
              "c    2\n",
              "dtype: int64"
            ]
          },
          "execution_count": 100,
          "metadata": {},
          "output_type": "execute_result"
        }
      ],
      "source": [
        "s2[['a','c']]"
      ]
    },
    {
      "cell_type": "code",
      "execution_count": null,
      "id": "92de8b1b",
      "metadata": {
        "ExecuteTime": {
          "end_time": "2022-02-12T11:46:18.589992Z",
          "start_time": "2022-02-12T11:46:18.564276Z"
        },
        "id": "92de8b1b",
        "outputId": "ce9eccd0-dabb-474f-ec82-3282c695750f"
      },
      "outputs": [
        {
          "data": {
            "text/plain": [
              "0   -3\n",
              "1   -2\n",
              "2   -1\n",
              "3    0\n",
              "4    1\n",
              "5    2\n",
              "6    3\n",
              "7    4\n",
              "8    5\n",
              "dtype: int64"
            ]
          },
          "execution_count": 102,
          "metadata": {},
          "output_type": "execute_result"
        }
      ],
      "source": [
        "s = pd.Series(range(-3,6))\n",
        "s"
      ]
    },
    {
      "cell_type": "code",
      "execution_count": null,
      "id": "dc0eae47",
      "metadata": {
        "ExecuteTime": {
          "end_time": "2022-02-12T11:51:20.666321Z",
          "start_time": "2022-02-12T11:51:20.625098Z"
        },
        "id": "dc0eae47",
        "outputId": "da49fee6-3365-4850-ab80-70867894963a"
      },
      "outputs": [
        {
          "data": {
            "text/html": [
              "<div>\n",
              "<style scoped>\n",
              "    .dataframe tbody tr th:only-of-type {\n",
              "        vertical-align: middle;\n",
              "    }\n",
              "\n",
              "    .dataframe tbody tr th {\n",
              "        vertical-align: top;\n",
              "    }\n",
              "\n",
              "    .dataframe thead th {\n",
              "        text-align: right;\n",
              "    }\n",
              "</style>\n",
              "<table border=\"1\" class=\"dataframe\">\n",
              "  <thead>\n",
              "    <tr style=\"text-align: right;\">\n",
              "      <th></th>\n",
              "      <th>지점</th>\n",
              "      <th>1월</th>\n",
              "      <th>2월</th>\n",
              "      <th>3월</th>\n",
              "    </tr>\n",
              "  </thead>\n",
              "  <tbody>\n",
              "    <tr>\n",
              "      <th>0</th>\n",
              "      <td>서울</td>\n",
              "      <td>557</td>\n",
              "      <td>355</td>\n",
              "      <td>234</td>\n",
              "    </tr>\n",
              "    <tr>\n",
              "      <th>1</th>\n",
              "      <td>대전</td>\n",
              "      <td>234</td>\n",
              "      <td>234</td>\n",
              "      <td>905</td>\n",
              "    </tr>\n",
              "    <tr>\n",
              "      <th>2</th>\n",
              "      <td>대구</td>\n",
              "      <td>340</td>\n",
              "      <td>675</td>\n",
              "      <td>203</td>\n",
              "    </tr>\n",
              "    <tr>\n",
              "      <th>3</th>\n",
              "      <td>부산</td>\n",
              "      <td>129</td>\n",
              "      <td>804</td>\n",
              "      <td>512</td>\n",
              "    </tr>\n",
              "    <tr>\n",
              "      <th>4</th>\n",
              "      <td>광주</td>\n",
              "      <td>35</td>\n",
              "      <td>123</td>\n",
              "      <td>597</td>\n",
              "    </tr>\n",
              "  </tbody>\n",
              "</table>\n",
              "</div>"
            ],
            "text/plain": [
              "   지점   1월   2월   3월\n",
              "0  서울  557  355  234\n",
              "1  대전  234  234  905\n",
              "2  대구  340  675  203\n",
              "3  부산  129  804  512\n",
              "4  광주   35  123  597"
            ]
          },
          "execution_count": 103,
          "metadata": {},
          "output_type": "execute_result"
        }
      ],
      "source": [
        "dict_data = {'지점':['서울','대전','대구','부산','광주'],\n",
        "             '1월':[557,234,340,129,35],'2월':[355,234,675,804,123],'3월':[234,905,203,512,597]}\n",
        "\n",
        "df = pd.DataFrame(dict_data)\n",
        "df"
      ]
    },
    {
      "cell_type": "code",
      "execution_count": null,
      "id": "19120deb",
      "metadata": {
        "ExecuteTime": {
          "end_time": "2022-02-12T11:51:55.163258Z",
          "start_time": "2022-02-12T11:51:55.141354Z"
        },
        "id": "19120deb",
        "outputId": "5e6b6476-ee14-499d-ccd7-cc6d8f1e77b1"
      },
      "outputs": [
        {
          "data": {
            "text/plain": [
              "4    1\n",
              "5    2\n",
              "6    3\n",
              "7    4\n",
              "8    5\n",
              "dtype: int64"
            ]
          },
          "execution_count": 104,
          "metadata": {},
          "output_type": "execute_result"
        }
      ],
      "source": [
        "s[s>0]"
      ]
    },
    {
      "cell_type": "code",
      "execution_count": null,
      "id": "204048e6",
      "metadata": {
        "ExecuteTime": {
          "end_time": "2022-02-12T11:54:45.371475Z",
          "start_time": "2022-02-12T11:54:45.352904Z"
        },
        "id": "204048e6",
        "outputId": "089feb77-fa4d-462a-ea80-cdbed25bbb46"
      },
      "outputs": [
        {
          "data": {
            "text/plain": [
              "1   -2\n",
              "3    0\n",
              "5    2\n",
              "7    4\n",
              "dtype: int64"
            ]
          },
          "execution_count": 105,
          "metadata": {},
          "output_type": "execute_result"
        }
      ],
      "source": [
        "s[(s>=-2) & (s%2 == 0)]"
      ]
    },
    {
      "cell_type": "code",
      "execution_count": null,
      "id": "4990ea7c",
      "metadata": {
        "ExecuteTime": {
          "end_time": "2022-02-12T11:56:03.749753Z",
          "start_time": "2022-02-12T11:56:03.715841Z"
        },
        "id": "4990ea7c",
        "outputId": "7026326c-60f6-4a6a-fb37-b1a95ce5ef2b"
      },
      "outputs": [
        {
          "data": {
            "text/html": [
              "<div>\n",
              "<style scoped>\n",
              "    .dataframe tbody tr th:only-of-type {\n",
              "        vertical-align: middle;\n",
              "    }\n",
              "\n",
              "    .dataframe tbody tr th {\n",
              "        vertical-align: top;\n",
              "    }\n",
              "\n",
              "    .dataframe thead th {\n",
              "        text-align: right;\n",
              "    }\n",
              "</style>\n",
              "<table border=\"1\" class=\"dataframe\">\n",
              "  <thead>\n",
              "    <tr style=\"text-align: right;\">\n",
              "      <th></th>\n",
              "      <th>지점</th>\n",
              "      <th>1월</th>\n",
              "      <th>2월</th>\n",
              "      <th>3월</th>\n",
              "    </tr>\n",
              "  </thead>\n",
              "  <tbody>\n",
              "    <tr>\n",
              "      <th>0</th>\n",
              "      <td>서울</td>\n",
              "      <td>557</td>\n",
              "      <td>355</td>\n",
              "      <td>234</td>\n",
              "    </tr>\n",
              "    <tr>\n",
              "      <th>2</th>\n",
              "      <td>대구</td>\n",
              "      <td>340</td>\n",
              "      <td>675</td>\n",
              "      <td>203</td>\n",
              "    </tr>\n",
              "  </tbody>\n",
              "</table>\n",
              "</div>"
            ],
            "text/plain": [
              "   지점   1월   2월   3월\n",
              "0  서울  557  355  234\n",
              "2  대구  340  675  203"
            ]
          },
          "execution_count": 106,
          "metadata": {},
          "output_type": "execute_result"
        }
      ],
      "source": [
        "df[df['1월']>=300]"
      ]
    },
    {
      "cell_type": "code",
      "execution_count": null,
      "id": "94843519",
      "metadata": {
        "ExecuteTime": {
          "end_time": "2022-02-12T11:59:16.710577Z",
          "start_time": "2022-02-12T11:59:16.674046Z"
        },
        "id": "94843519",
        "outputId": "ed036fdc-e67c-436d-ec16-40326e04cc34"
      },
      "outputs": [
        {
          "data": {
            "text/html": [
              "<div>\n",
              "<style scoped>\n",
              "    .dataframe tbody tr th:only-of-type {\n",
              "        vertical-align: middle;\n",
              "    }\n",
              "\n",
              "    .dataframe tbody tr th {\n",
              "        vertical-align: top;\n",
              "    }\n",
              "\n",
              "    .dataframe thead th {\n",
              "        text-align: right;\n",
              "    }\n",
              "</style>\n",
              "<table border=\"1\" class=\"dataframe\">\n",
              "  <thead>\n",
              "    <tr style=\"text-align: right;\">\n",
              "      <th></th>\n",
              "      <th>지점</th>\n",
              "      <th>1월</th>\n",
              "      <th>2월</th>\n",
              "      <th>3월</th>\n",
              "    </tr>\n",
              "  </thead>\n",
              "  <tbody>\n",
              "    <tr>\n",
              "      <th>0</th>\n",
              "      <td>서울</td>\n",
              "      <td>557</td>\n",
              "      <td>355</td>\n",
              "      <td>234</td>\n",
              "    </tr>\n",
              "    <tr>\n",
              "      <th>3</th>\n",
              "      <td>부산</td>\n",
              "      <td>129</td>\n",
              "      <td>804</td>\n",
              "      <td>512</td>\n",
              "    </tr>\n",
              "  </tbody>\n",
              "</table>\n",
              "</div>"
            ],
            "text/plain": [
              "   지점   1월   2월   3월\n",
              "0  서울  557  355  234\n",
              "3  부산  129  804  512"
            ]
          },
          "execution_count": 107,
          "metadata": {},
          "output_type": "execute_result"
        }
      ],
      "source": [
        "df[(df['지점'] == '서울') | (df['지점'] =='부산')]"
      ]
    },
    {
      "cell_type": "code",
      "execution_count": null,
      "id": "56b273d8",
      "metadata": {
        "ExecuteTime": {
          "end_time": "2022-02-12T12:00:28.783506Z",
          "start_time": "2022-02-12T12:00:28.753786Z"
        },
        "id": "56b273d8",
        "outputId": "2538486c-6c5d-4d55-8713-bdcb8c819463"
      },
      "outputs": [
        {
          "data": {
            "text/html": [
              "<div>\n",
              "<style scoped>\n",
              "    .dataframe tbody tr th:only-of-type {\n",
              "        vertical-align: middle;\n",
              "    }\n",
              "\n",
              "    .dataframe tbody tr th {\n",
              "        vertical-align: top;\n",
              "    }\n",
              "\n",
              "    .dataframe thead th {\n",
              "        text-align: right;\n",
              "    }\n",
              "</style>\n",
              "<table border=\"1\" class=\"dataframe\">\n",
              "  <thead>\n",
              "    <tr style=\"text-align: right;\">\n",
              "      <th></th>\n",
              "      <th>지점</th>\n",
              "      <th>1월</th>\n",
              "      <th>2월</th>\n",
              "      <th>3월</th>\n",
              "    </tr>\n",
              "  </thead>\n",
              "  <tbody>\n",
              "    <tr>\n",
              "      <th>0</th>\n",
              "      <td>서울</td>\n",
              "      <td>557</td>\n",
              "      <td>355</td>\n",
              "      <td>234</td>\n",
              "    </tr>\n",
              "    <tr>\n",
              "      <th>3</th>\n",
              "      <td>부산</td>\n",
              "      <td>129</td>\n",
              "      <td>804</td>\n",
              "      <td>512</td>\n",
              "    </tr>\n",
              "  </tbody>\n",
              "</table>\n",
              "</div>"
            ],
            "text/plain": [
              "   지점   1월   2월   3월\n",
              "0  서울  557  355  234\n",
              "3  부산  129  804  512"
            ]
          },
          "execution_count": 108,
          "metadata": {},
          "output_type": "execute_result"
        }
      ],
      "source": [
        "df[df['지점'].isin(['서울','부산'])]"
      ]
    },
    {
      "cell_type": "code",
      "execution_count": null,
      "id": "dd9ad7df",
      "metadata": {
        "ExecuteTime": {
          "end_time": "2022-02-12T12:10:11.455481Z",
          "start_time": "2022-02-12T12:10:11.417013Z"
        },
        "id": "dd9ad7df",
        "outputId": "e0df92a2-87db-4b4e-8ae3-7ebe580d3e68"
      },
      "outputs": [
        {
          "data": {
            "text/html": [
              "<div>\n",
              "<style scoped>\n",
              "    .dataframe tbody tr th:only-of-type {\n",
              "        vertical-align: middle;\n",
              "    }\n",
              "\n",
              "    .dataframe tbody tr th {\n",
              "        vertical-align: top;\n",
              "    }\n",
              "\n",
              "    .dataframe thead th {\n",
              "        text-align: right;\n",
              "    }\n",
              "</style>\n",
              "<table border=\"1\" class=\"dataframe\">\n",
              "  <thead>\n",
              "    <tr style=\"text-align: right;\">\n",
              "      <th></th>\n",
              "      <th>제품ID</th>\n",
              "      <th>판매가격</th>\n",
              "      <th>판매량</th>\n",
              "      <th>이익률</th>\n",
              "    </tr>\n",
              "  </thead>\n",
              "  <tbody>\n",
              "    <tr>\n",
              "      <th>0</th>\n",
              "      <td>P1001</td>\n",
              "      <td>5000</td>\n",
              "      <td>50</td>\n",
              "      <td>0.30</td>\n",
              "    </tr>\n",
              "    <tr>\n",
              "      <th>1</th>\n",
              "      <td>P1002</td>\n",
              "      <td>6000</td>\n",
              "      <td>94</td>\n",
              "      <td>0.21</td>\n",
              "    </tr>\n",
              "    <tr>\n",
              "      <th>2</th>\n",
              "      <td>P1003</td>\n",
              "      <td>7000</td>\n",
              "      <td>56</td>\n",
              "      <td>0.15</td>\n",
              "    </tr>\n",
              "    <tr>\n",
              "      <th>3</th>\n",
              "      <td>P1004</td>\n",
              "      <td>8000</td>\n",
              "      <td>35</td>\n",
              "      <td>0.25</td>\n",
              "    </tr>\n",
              "  </tbody>\n",
              "</table>\n",
              "</div>"
            ],
            "text/plain": [
              "    제품ID  판매가격  판매량   이익률\n",
              "0  P1001  5000   50  0.30\n",
              "1  P1002  6000   94  0.21\n",
              "2  P1003  7000   56  0.15\n",
              "3  P1004  8000   35  0.25"
            ]
          },
          "execution_count": 110,
          "metadata": {},
          "output_type": "execute_result"
        }
      ],
      "source": [
        "dict_data = {'제품ID':['P1001','P1002','P1003','P1004'],\n",
        "            '판매가격':[5000,6000,7000,8000],\n",
        "             '판매량':[50,94,56,35], \n",
        "             '이익률':[0.30, 0.21, 0.15, 0.25]}\n",
        "\n",
        "df2 = pd.DataFrame(dict_data)\n",
        "df2"
      ]
    },
    {
      "cell_type": "code",
      "execution_count": null,
      "id": "127b2112",
      "metadata": {
        "ExecuteTime": {
          "end_time": "2022-02-12T12:10:52.337796Z",
          "start_time": "2022-02-12T12:10:52.308223Z"
        },
        "id": "127b2112",
        "outputId": "30b6048e-2d67-4c0a-a74f-8fe1a69bd998"
      },
      "outputs": [
        {
          "data": {
            "text/html": [
              "<div>\n",
              "<style scoped>\n",
              "    .dataframe tbody tr th:only-of-type {\n",
              "        vertical-align: middle;\n",
              "    }\n",
              "\n",
              "    .dataframe tbody tr th {\n",
              "        vertical-align: top;\n",
              "    }\n",
              "\n",
              "    .dataframe thead th {\n",
              "        text-align: right;\n",
              "    }\n",
              "</style>\n",
              "<table border=\"1\" class=\"dataframe\">\n",
              "  <thead>\n",
              "    <tr style=\"text-align: right;\">\n",
              "      <th></th>\n",
              "      <th>지점</th>\n",
              "      <th>1월</th>\n",
              "      <th>2월</th>\n",
              "      <th>3월</th>\n",
              "    </tr>\n",
              "  </thead>\n",
              "  <tbody>\n",
              "    <tr>\n",
              "      <th>0</th>\n",
              "      <td>서울</td>\n",
              "      <td>557</td>\n",
              "      <td>355</td>\n",
              "      <td>234</td>\n",
              "    </tr>\n",
              "    <tr>\n",
              "      <th>1</th>\n",
              "      <td>대전</td>\n",
              "      <td>234</td>\n",
              "      <td>234</td>\n",
              "      <td>905</td>\n",
              "    </tr>\n",
              "  </tbody>\n",
              "</table>\n",
              "</div>"
            ],
            "text/plain": [
              "   지점   1월   2월   3월\n",
              "0  서울  557  355  234\n",
              "1  대전  234  234  905"
            ]
          },
          "execution_count": 112,
          "metadata": {},
          "output_type": "execute_result"
        }
      ],
      "source": [
        "df.head(2)"
      ]
    },
    {
      "cell_type": "code",
      "execution_count": null,
      "id": "c0a56b34",
      "metadata": {
        "ExecuteTime": {
          "end_time": "2022-02-12T12:11:32.515856Z",
          "start_time": "2022-02-12T12:11:32.488689Z"
        },
        "id": "c0a56b34",
        "outputId": "b725ecd7-b796-44fb-bcd9-18f7bfed2eb6"
      },
      "outputs": [
        {
          "data": {
            "text/plain": [
              "0    P1001\n",
              "1    P1002\n",
              "2    P1003\n",
              "3    P1004\n",
              "Name: 제품ID, dtype: object"
            ]
          },
          "execution_count": 113,
          "metadata": {},
          "output_type": "execute_result"
        }
      ],
      "source": [
        "df2['제품ID']"
      ]
    },
    {
      "cell_type": "code",
      "execution_count": null,
      "id": "7a10bc1d",
      "metadata": {
        "ExecuteTime": {
          "end_time": "2022-02-12T12:12:37.716061Z",
          "start_time": "2022-02-12T12:12:37.690147Z"
        },
        "id": "7a10bc1d",
        "outputId": "a5dd25c2-5c2e-4ff1-98c0-91a769e006ac"
      },
      "outputs": [
        {
          "data": {
            "text/html": [
              "<div>\n",
              "<style scoped>\n",
              "    .dataframe tbody tr th:only-of-type {\n",
              "        vertical-align: middle;\n",
              "    }\n",
              "\n",
              "    .dataframe tbody tr th {\n",
              "        vertical-align: top;\n",
              "    }\n",
              "\n",
              "    .dataframe thead th {\n",
              "        text-align: right;\n",
              "    }\n",
              "</style>\n",
              "<table border=\"1\" class=\"dataframe\">\n",
              "  <thead>\n",
              "    <tr style=\"text-align: right;\">\n",
              "      <th></th>\n",
              "      <th>제품ID</th>\n",
              "    </tr>\n",
              "  </thead>\n",
              "  <tbody>\n",
              "    <tr>\n",
              "      <th>0</th>\n",
              "      <td>P1001</td>\n",
              "    </tr>\n",
              "    <tr>\n",
              "      <th>1</th>\n",
              "      <td>P1002</td>\n",
              "    </tr>\n",
              "    <tr>\n",
              "      <th>2</th>\n",
              "      <td>P1003</td>\n",
              "    </tr>\n",
              "    <tr>\n",
              "      <th>3</th>\n",
              "      <td>P1004</td>\n",
              "    </tr>\n",
              "  </tbody>\n",
              "</table>\n",
              "</div>"
            ],
            "text/plain": [
              "    제품ID\n",
              "0  P1001\n",
              "1  P1002\n",
              "2  P1003\n",
              "3  P1004"
            ]
          },
          "execution_count": 114,
          "metadata": {},
          "output_type": "execute_result"
        }
      ],
      "source": [
        "df2[['제품ID']]"
      ]
    },
    {
      "cell_type": "code",
      "execution_count": null,
      "id": "878a3e1b",
      "metadata": {
        "ExecuteTime": {
          "end_time": "2022-02-12T12:13:26.321168Z",
          "start_time": "2022-02-12T12:13:26.286687Z"
        },
        "id": "878a3e1b",
        "outputId": "e0e26fe4-cd6e-40b4-afae-284d99649029"
      },
      "outputs": [
        {
          "data": {
            "text/html": [
              "<div>\n",
              "<style scoped>\n",
              "    .dataframe tbody tr th:only-of-type {\n",
              "        vertical-align: middle;\n",
              "    }\n",
              "\n",
              "    .dataframe tbody tr th {\n",
              "        vertical-align: top;\n",
              "    }\n",
              "\n",
              "    .dataframe thead th {\n",
              "        text-align: right;\n",
              "    }\n",
              "</style>\n",
              "<table border=\"1\" class=\"dataframe\">\n",
              "  <thead>\n",
              "    <tr style=\"text-align: right;\">\n",
              "      <th></th>\n",
              "      <th>제품ID</th>\n",
              "      <th>이익률</th>\n",
              "      <th>판매가격</th>\n",
              "    </tr>\n",
              "  </thead>\n",
              "  <tbody>\n",
              "    <tr>\n",
              "      <th>0</th>\n",
              "      <td>P1001</td>\n",
              "      <td>0.30</td>\n",
              "      <td>5000</td>\n",
              "    </tr>\n",
              "    <tr>\n",
              "      <th>1</th>\n",
              "      <td>P1002</td>\n",
              "      <td>0.21</td>\n",
              "      <td>6000</td>\n",
              "    </tr>\n",
              "    <tr>\n",
              "      <th>2</th>\n",
              "      <td>P1003</td>\n",
              "      <td>0.15</td>\n",
              "      <td>7000</td>\n",
              "    </tr>\n",
              "    <tr>\n",
              "      <th>3</th>\n",
              "      <td>P1004</td>\n",
              "      <td>0.25</td>\n",
              "      <td>8000</td>\n",
              "    </tr>\n",
              "  </tbody>\n",
              "</table>\n",
              "</div>"
            ],
            "text/plain": [
              "    제품ID   이익률  판매가격\n",
              "0  P1001  0.30  5000\n",
              "1  P1002  0.21  6000\n",
              "2  P1003  0.15  7000\n",
              "3  P1004  0.25  8000"
            ]
          },
          "execution_count": 115,
          "metadata": {},
          "output_type": "execute_result"
        }
      ],
      "source": [
        "df2[['제품ID','이익률','판매가격']]"
      ]
    },
    {
      "cell_type": "code",
      "execution_count": null,
      "id": "49c2fe87",
      "metadata": {
        "ExecuteTime": {
          "end_time": "2022-02-12T12:14:26.879031Z",
          "start_time": "2022-02-12T12:14:26.852775Z"
        },
        "id": "49c2fe87",
        "outputId": "4a0331cc-7b81-44cf-c61f-1aa2559d7c2b"
      },
      "outputs": [
        {
          "data": {
            "text/plain": [
              "0    0.5\n",
              "1    0.5\n",
              "2    0.5\n",
              "3    0.5\n",
              "Name: 이익률, dtype: float64"
            ]
          },
          "execution_count": 118,
          "metadata": {},
          "output_type": "execute_result"
        }
      ],
      "source": [
        "df2['이익률'] = 0.5\n",
        "df2['이익률'] "
      ]
    },
    {
      "cell_type": "code",
      "execution_count": null,
      "id": "787ccb62",
      "metadata": {
        "ExecuteTime": {
          "end_time": "2022-02-12T12:17:16.851107Z",
          "start_time": "2022-02-12T12:17:16.808512Z"
        },
        "id": "787ccb62",
        "outputId": "19767bc7-0636-4188-8e77-3d450b1426b7"
      },
      "outputs": [
        {
          "data": {
            "text/html": [
              "<div>\n",
              "<style scoped>\n",
              "    .dataframe tbody tr th:only-of-type {\n",
              "        vertical-align: middle;\n",
              "    }\n",
              "\n",
              "    .dataframe tbody tr th {\n",
              "        vertical-align: top;\n",
              "    }\n",
              "\n",
              "    .dataframe thead th {\n",
              "        text-align: right;\n",
              "    }\n",
              "</style>\n",
              "<table border=\"1\" class=\"dataframe\">\n",
              "  <thead>\n",
              "    <tr style=\"text-align: right;\">\n",
              "      <th></th>\n",
              "      <th>A</th>\n",
              "      <th>B</th>\n",
              "      <th>C</th>\n",
              "    </tr>\n",
              "  </thead>\n",
              "  <tbody>\n",
              "    <tr>\n",
              "      <th>a</th>\n",
              "      <td>0</td>\n",
              "      <td>10</td>\n",
              "      <td>20</td>\n",
              "    </tr>\n",
              "    <tr>\n",
              "      <th>b</th>\n",
              "      <td>1</td>\n",
              "      <td>11</td>\n",
              "      <td>21</td>\n",
              "    </tr>\n",
              "    <tr>\n",
              "      <th>c</th>\n",
              "      <td>2</td>\n",
              "      <td>12</td>\n",
              "      <td>22</td>\n",
              "    </tr>\n",
              "    <tr>\n",
              "      <th>d</th>\n",
              "      <td>3</td>\n",
              "      <td>13</td>\n",
              "      <td>23</td>\n",
              "    </tr>\n",
              "    <tr>\n",
              "      <th>e</th>\n",
              "      <td>4</td>\n",
              "      <td>14</td>\n",
              "      <td>24</td>\n",
              "    </tr>\n",
              "  </tbody>\n",
              "</table>\n",
              "</div>"
            ],
            "text/plain": [
              "   A   B   C\n",
              "a  0  10  20\n",
              "b  1  11  21\n",
              "c  2  12  22\n",
              "d  3  13  23\n",
              "e  4  14  24"
            ]
          },
          "execution_count": 120,
          "metadata": {},
          "output_type": "execute_result"
        }
      ],
      "source": [
        "dict_data = {'A' : [0,1,2,3,4],'B' : [10,11,12,13,14], 'C':[20,21,22,23,24]}\n",
        "\n",
        "index_data = ['a','b','c','d','e']\n",
        "\n",
        "df = pd.DataFrame(dict_data, index=index_data)\n",
        "df"
      ]
    },
    {
      "cell_type": "code",
      "execution_count": null,
      "id": "4c58a629",
      "metadata": {
        "ExecuteTime": {
          "end_time": "2022-02-12T12:18:23.872964Z",
          "start_time": "2022-02-12T12:18:23.856820Z"
        },
        "id": "4c58a629",
        "outputId": "2c252045-6ae1-4855-e153-6d0181fefe63"
      },
      "outputs": [
        {
          "data": {
            "text/plain": [
              "0"
            ]
          },
          "execution_count": 121,
          "metadata": {},
          "output_type": "execute_result"
        }
      ],
      "source": [
        "df.loc['a','A']"
      ]
    },
    {
      "cell_type": "code",
      "execution_count": null,
      "id": "51cf6fd7",
      "metadata": {
        "ExecuteTime": {
          "end_time": "2022-02-12T12:18:40.192963Z",
          "start_time": "2022-02-12T12:18:40.178149Z"
        },
        "id": "51cf6fd7",
        "outputId": "e1f86915-0044-43c1-e98b-4c4f5de6a254"
      },
      "outputs": [
        {
          "data": {
            "text/plain": [
              "0"
            ]
          },
          "execution_count": 122,
          "metadata": {},
          "output_type": "execute_result"
        }
      ],
      "source": [
        "df.iloc[0,0]"
      ]
    },
    {
      "cell_type": "code",
      "execution_count": null,
      "id": "5ffdbfc0",
      "metadata": {
        "ExecuteTime": {
          "end_time": "2022-02-12T12:20:01.178809Z",
          "start_time": "2022-02-12T12:20:01.149980Z"
        },
        "id": "5ffdbfc0",
        "outputId": "8740610c-2d77-4281-f702-6040b7ca7f6f"
      },
      "outputs": [
        {
          "data": {
            "text/html": [
              "<div>\n",
              "<style scoped>\n",
              "    .dataframe tbody tr th:only-of-type {\n",
              "        vertical-align: middle;\n",
              "    }\n",
              "\n",
              "    .dataframe tbody tr th {\n",
              "        vertical-align: top;\n",
              "    }\n",
              "\n",
              "    .dataframe thead th {\n",
              "        text-align: right;\n",
              "    }\n",
              "</style>\n",
              "<table border=\"1\" class=\"dataframe\">\n",
              "  <thead>\n",
              "    <tr style=\"text-align: right;\">\n",
              "      <th></th>\n",
              "      <th>A</th>\n",
              "      <th>B</th>\n",
              "    </tr>\n",
              "  </thead>\n",
              "  <tbody>\n",
              "    <tr>\n",
              "      <th>a</th>\n",
              "      <td>0</td>\n",
              "      <td>10</td>\n",
              "    </tr>\n",
              "    <tr>\n",
              "      <th>b</th>\n",
              "      <td>1</td>\n",
              "      <td>11</td>\n",
              "    </tr>\n",
              "    <tr>\n",
              "      <th>c</th>\n",
              "      <td>2</td>\n",
              "      <td>12</td>\n",
              "    </tr>\n",
              "  </tbody>\n",
              "</table>\n",
              "</div>"
            ],
            "text/plain": [
              "   A   B\n",
              "a  0  10\n",
              "b  1  11\n",
              "c  2  12"
            ]
          },
          "execution_count": 123,
          "metadata": {},
          "output_type": "execute_result"
        }
      ],
      "source": [
        "df.loc['a':'c',['A','B']]\n"
      ]
    },
    {
      "cell_type": "code",
      "execution_count": null,
      "id": "681dc5fa",
      "metadata": {
        "ExecuteTime": {
          "end_time": "2022-02-12T12:21:47.008489Z",
          "start_time": "2022-02-12T12:21:46.983499Z"
        },
        "id": "681dc5fa",
        "outputId": "837c27aa-2b28-4321-856b-96d76184096a"
      },
      "outputs": [
        {
          "data": {
            "text/html": [
              "<div>\n",
              "<style scoped>\n",
              "    .dataframe tbody tr th:only-of-type {\n",
              "        vertical-align: middle;\n",
              "    }\n",
              "\n",
              "    .dataframe tbody tr th {\n",
              "        vertical-align: top;\n",
              "    }\n",
              "\n",
              "    .dataframe thead th {\n",
              "        text-align: right;\n",
              "    }\n",
              "</style>\n",
              "<table border=\"1\" class=\"dataframe\">\n",
              "  <thead>\n",
              "    <tr style=\"text-align: right;\">\n",
              "      <th></th>\n",
              "      <th>A</th>\n",
              "      <th>B</th>\n",
              "    </tr>\n",
              "  </thead>\n",
              "  <tbody>\n",
              "    <tr>\n",
              "      <th>a</th>\n",
              "      <td>0</td>\n",
              "      <td>10</td>\n",
              "    </tr>\n",
              "    <tr>\n",
              "      <th>b</th>\n",
              "      <td>1</td>\n",
              "      <td>11</td>\n",
              "    </tr>\n",
              "    <tr>\n",
              "      <th>c</th>\n",
              "      <td>2</td>\n",
              "      <td>12</td>\n",
              "    </tr>\n",
              "  </tbody>\n",
              "</table>\n",
              "</div>"
            ],
            "text/plain": [
              "   A   B\n",
              "a  0  10\n",
              "b  1  11\n",
              "c  2  12"
            ]
          },
          "execution_count": 124,
          "metadata": {},
          "output_type": "execute_result"
        }
      ],
      "source": [
        "df.iloc[0:3, 0:2]"
      ]
    },
    {
      "cell_type": "code",
      "execution_count": null,
      "id": "24ef968a",
      "metadata": {
        "ExecuteTime": {
          "end_time": "2022-02-12T12:23:59.885608Z",
          "start_time": "2022-02-12T12:23:59.855125Z"
        },
        "id": "24ef968a",
        "outputId": "9178a98a-29be-458c-aba5-fd0053b2156c"
      },
      "outputs": [
        {
          "data": {
            "text/html": [
              "<div>\n",
              "<style scoped>\n",
              "    .dataframe tbody tr th:only-of-type {\n",
              "        vertical-align: middle;\n",
              "    }\n",
              "\n",
              "    .dataframe tbody tr th {\n",
              "        vertical-align: top;\n",
              "    }\n",
              "\n",
              "    .dataframe thead th {\n",
              "        text-align: right;\n",
              "    }\n",
              "</style>\n",
              "<table border=\"1\" class=\"dataframe\">\n",
              "  <thead>\n",
              "    <tr style=\"text-align: right;\">\n",
              "      <th></th>\n",
              "      <th>A</th>\n",
              "      <th>B</th>\n",
              "    </tr>\n",
              "  </thead>\n",
              "  <tbody>\n",
              "    <tr>\n",
              "      <th>d</th>\n",
              "      <td>3</td>\n",
              "      <td>13</td>\n",
              "    </tr>\n",
              "    <tr>\n",
              "      <th>e</th>\n",
              "      <td>4</td>\n",
              "      <td>14</td>\n",
              "    </tr>\n",
              "  </tbody>\n",
              "</table>\n",
              "</div>"
            ],
            "text/plain": [
              "   A   B\n",
              "d  3  13\n",
              "e  4  14"
            ]
          },
          "execution_count": 125,
          "metadata": {},
          "output_type": "execute_result"
        }
      ],
      "source": [
        "df.loc[df['A']>2,['A','B']]"
      ]
    },
    {
      "cell_type": "code",
      "execution_count": null,
      "id": "36c64c13",
      "metadata": {
        "ExecuteTime": {
          "end_time": "2022-02-12T12:27:24.299542Z",
          "start_time": "2022-02-12T12:27:24.262240Z"
        },
        "id": "36c64c13",
        "outputId": "1cf43d1a-55e9-42d7-8bd3-afc6547b2a02"
      },
      "outputs": [
        {
          "data": {
            "text/html": [
              "<div>\n",
              "<style scoped>\n",
              "    .dataframe tbody tr th:only-of-type {\n",
              "        vertical-align: middle;\n",
              "    }\n",
              "\n",
              "    .dataframe tbody tr th {\n",
              "        vertical-align: top;\n",
              "    }\n",
              "\n",
              "    .dataframe thead th {\n",
              "        text-align: right;\n",
              "    }\n",
              "</style>\n",
              "<table border=\"1\" class=\"dataframe\">\n",
              "  <thead>\n",
              "    <tr style=\"text-align: right;\">\n",
              "      <th></th>\n",
              "      <th>A</th>\n",
              "      <th>C</th>\n",
              "    </tr>\n",
              "  </thead>\n",
              "  <tbody>\n",
              "    <tr>\n",
              "      <th>a</th>\n",
              "      <td>0</td>\n",
              "      <td>20</td>\n",
              "    </tr>\n",
              "    <tr>\n",
              "      <th>b</th>\n",
              "      <td>1</td>\n",
              "      <td>21</td>\n",
              "    </tr>\n",
              "    <tr>\n",
              "      <th>c</th>\n",
              "      <td>2</td>\n",
              "      <td>22</td>\n",
              "    </tr>\n",
              "  </tbody>\n",
              "</table>\n",
              "</div>"
            ],
            "text/plain": [
              "   A   C\n",
              "a  0  20\n",
              "b  1  21\n",
              "c  2  22"
            ]
          },
          "execution_count": 127,
          "metadata": {},
          "output_type": "execute_result"
        }
      ],
      "source": [
        "df.loc['a':'c',['A','C']]"
      ]
    },
    {
      "cell_type": "code",
      "execution_count": null,
      "id": "d722e3d9",
      "metadata": {
        "ExecuteTime": {
          "end_time": "2022-02-12T12:28:07.641791Z",
          "start_time": "2022-02-12T12:28:07.610808Z"
        },
        "id": "d722e3d9",
        "outputId": "12f17d2b-e0d0-49a7-cf12-e34342dcad4d"
      },
      "outputs": [
        {
          "data": {
            "text/html": [
              "<div>\n",
              "<style scoped>\n",
              "    .dataframe tbody tr th:only-of-type {\n",
              "        vertical-align: middle;\n",
              "    }\n",
              "\n",
              "    .dataframe tbody tr th {\n",
              "        vertical-align: top;\n",
              "    }\n",
              "\n",
              "    .dataframe thead th {\n",
              "        text-align: right;\n",
              "    }\n",
              "</style>\n",
              "<table border=\"1\" class=\"dataframe\">\n",
              "  <thead>\n",
              "    <tr style=\"text-align: right;\">\n",
              "      <th></th>\n",
              "      <th>A</th>\n",
              "      <th>B</th>\n",
              "      <th>C</th>\n",
              "    </tr>\n",
              "  </thead>\n",
              "  <tbody>\n",
              "    <tr>\n",
              "      <th>a</th>\n",
              "      <td>0</td>\n",
              "      <td>10</td>\n",
              "      <td>20</td>\n",
              "    </tr>\n",
              "    <tr>\n",
              "      <th>b</th>\n",
              "      <td>1</td>\n",
              "      <td>11</td>\n",
              "      <td>21</td>\n",
              "    </tr>\n",
              "    <tr>\n",
              "      <th>c</th>\n",
              "      <td>2</td>\n",
              "      <td>12</td>\n",
              "      <td>22</td>\n",
              "    </tr>\n",
              "    <tr>\n",
              "      <th>d</th>\n",
              "      <td>3</td>\n",
              "      <td>100</td>\n",
              "      <td>100</td>\n",
              "    </tr>\n",
              "    <tr>\n",
              "      <th>e</th>\n",
              "      <td>4</td>\n",
              "      <td>100</td>\n",
              "      <td>100</td>\n",
              "    </tr>\n",
              "  </tbody>\n",
              "</table>\n",
              "</div>"
            ],
            "text/plain": [
              "   A    B    C\n",
              "a  0   10   20\n",
              "b  1   11   21\n",
              "c  2   12   22\n",
              "d  3  100  100\n",
              "e  4  100  100"
            ]
          },
          "execution_count": 129,
          "metadata": {},
          "output_type": "execute_result"
        }
      ],
      "source": [
        "df.iloc[3:5, 1:3]=100\n",
        "df"
      ]
    },
    {
      "cell_type": "code",
      "execution_count": null,
      "id": "dd8474f5",
      "metadata": {
        "ExecuteTime": {
          "end_time": "2022-02-12T12:31:57.608717Z",
          "start_time": "2022-02-12T12:31:57.574637Z"
        },
        "id": "dd8474f5",
        "outputId": "c611a056-786e-4c7a-f529-b40b28c34030"
      },
      "outputs": [
        {
          "data": {
            "text/html": [
              "<div>\n",
              "<style scoped>\n",
              "    .dataframe tbody tr th:only-of-type {\n",
              "        vertical-align: middle;\n",
              "    }\n",
              "\n",
              "    .dataframe tbody tr th {\n",
              "        vertical-align: top;\n",
              "    }\n",
              "\n",
              "    .dataframe thead th {\n",
              "        text-align: right;\n",
              "    }\n",
              "</style>\n",
              "<table border=\"1\" class=\"dataframe\">\n",
              "  <thead>\n",
              "    <tr style=\"text-align: right;\">\n",
              "      <th></th>\n",
              "      <th>A</th>\n",
              "      <th>B</th>\n",
              "      <th>C</th>\n",
              "    </tr>\n",
              "  </thead>\n",
              "  <tbody>\n",
              "    <tr>\n",
              "      <th>a</th>\n",
              "      <td>0</td>\n",
              "      <td>70</td>\n",
              "      <td>20</td>\n",
              "    </tr>\n",
              "    <tr>\n",
              "      <th>b</th>\n",
              "      <td>1</td>\n",
              "      <td>70</td>\n",
              "      <td>21</td>\n",
              "    </tr>\n",
              "    <tr>\n",
              "      <th>c</th>\n",
              "      <td>2</td>\n",
              "      <td>70</td>\n",
              "      <td>22</td>\n",
              "    </tr>\n",
              "    <tr>\n",
              "      <th>d</th>\n",
              "      <td>3</td>\n",
              "      <td>100</td>\n",
              "      <td>100</td>\n",
              "    </tr>\n",
              "    <tr>\n",
              "      <th>e</th>\n",
              "      <td>4</td>\n",
              "      <td>100</td>\n",
              "      <td>100</td>\n",
              "    </tr>\n",
              "  </tbody>\n",
              "</table>\n",
              "</div>"
            ],
            "text/plain": [
              "   A    B    C\n",
              "a  0   70   20\n",
              "b  1   70   21\n",
              "c  2   70   22\n",
              "d  3  100  100\n",
              "e  4  100  100"
            ]
          },
          "execution_count": 132,
          "metadata": {},
          "output_type": "execute_result"
        }
      ],
      "source": [
        "df.loc[df['B']<70,'B']=70\n",
        "df"
      ]
    },
    {
      "cell_type": "code",
      "execution_count": null,
      "id": "c32fcce4",
      "metadata": {
        "ExecuteTime": {
          "end_time": "2022-02-12T12:33:00.083903Z",
          "start_time": "2022-02-12T12:33:00.049954Z"
        },
        "id": "c32fcce4",
        "outputId": "4e8d76c1-991a-46bc-e33d-57997ddf71a3"
      },
      "outputs": [
        {
          "data": {
            "text/html": [
              "<div>\n",
              "<style scoped>\n",
              "    .dataframe tbody tr th:only-of-type {\n",
              "        vertical-align: middle;\n",
              "    }\n",
              "\n",
              "    .dataframe tbody tr th {\n",
              "        vertical-align: top;\n",
              "    }\n",
              "\n",
              "    .dataframe thead th {\n",
              "        text-align: right;\n",
              "    }\n",
              "</style>\n",
              "<table border=\"1\" class=\"dataframe\">\n",
              "  <thead>\n",
              "    <tr style=\"text-align: right;\">\n",
              "      <th></th>\n",
              "      <th>A</th>\n",
              "      <th>B</th>\n",
              "      <th>C</th>\n",
              "      <th>D</th>\n",
              "    </tr>\n",
              "  </thead>\n",
              "  <tbody>\n",
              "    <tr>\n",
              "      <th>a</th>\n",
              "      <td>0</td>\n",
              "      <td>70</td>\n",
              "      <td>20</td>\n",
              "      <td>40.0</td>\n",
              "    </tr>\n",
              "    <tr>\n",
              "      <th>b</th>\n",
              "      <td>1</td>\n",
              "      <td>70</td>\n",
              "      <td>21</td>\n",
              "      <td>40.0</td>\n",
              "    </tr>\n",
              "    <tr>\n",
              "      <th>c</th>\n",
              "      <td>2</td>\n",
              "      <td>70</td>\n",
              "      <td>22</td>\n",
              "      <td>40.0</td>\n",
              "    </tr>\n",
              "    <tr>\n",
              "      <th>d</th>\n",
              "      <td>3</td>\n",
              "      <td>100</td>\n",
              "      <td>100</td>\n",
              "      <td>NaN</td>\n",
              "    </tr>\n",
              "    <tr>\n",
              "      <th>e</th>\n",
              "      <td>4</td>\n",
              "      <td>100</td>\n",
              "      <td>100</td>\n",
              "      <td>NaN</td>\n",
              "    </tr>\n",
              "  </tbody>\n",
              "</table>\n",
              "</div>"
            ],
            "text/plain": [
              "   A    B    C     D\n",
              "a  0   70   20  40.0\n",
              "b  1   70   21  40.0\n",
              "c  2   70   22  40.0\n",
              "d  3  100  100   NaN\n",
              "e  4  100  100   NaN"
            ]
          },
          "execution_count": 134,
          "metadata": {},
          "output_type": "execute_result"
        }
      ],
      "source": [
        "df.loc[df['C']<30,'D'] = 40\n",
        "df"
      ]
    },
    {
      "cell_type": "code",
      "execution_count": null,
      "id": "9fc4bd26",
      "metadata": {
        "ExecuteTime": {
          "end_time": "2022-02-12T12:35:25.485051Z",
          "start_time": "2022-02-12T12:35:25.442280Z"
        },
        "id": "9fc4bd26",
        "outputId": "37dde272-c520-49fe-fa96-6d4ff580ea98"
      },
      "outputs": [
        {
          "data": {
            "text/html": [
              "<div>\n",
              "<style scoped>\n",
              "    .dataframe tbody tr th:only-of-type {\n",
              "        vertical-align: middle;\n",
              "    }\n",
              "\n",
              "    .dataframe tbody tr th {\n",
              "        vertical-align: top;\n",
              "    }\n",
              "\n",
              "    .dataframe thead th {\n",
              "        text-align: right;\n",
              "    }\n",
              "</style>\n",
              "<table border=\"1\" class=\"dataframe\">\n",
              "  <thead>\n",
              "    <tr style=\"text-align: right;\">\n",
              "      <th></th>\n",
              "      <th>A</th>\n",
              "      <th>B</th>\n",
              "      <th>C</th>\n",
              "    </tr>\n",
              "  </thead>\n",
              "  <tbody>\n",
              "    <tr>\n",
              "      <th>a</th>\n",
              "      <td>1</td>\n",
              "      <td>4</td>\n",
              "      <td>8</td>\n",
              "    </tr>\n",
              "    <tr>\n",
              "      <th>b</th>\n",
              "      <td>2</td>\n",
              "      <td>5</td>\n",
              "      <td>9</td>\n",
              "    </tr>\n",
              "    <tr>\n",
              "      <th>c</th>\n",
              "      <td>3</td>\n",
              "      <td>6</td>\n",
              "      <td>10</td>\n",
              "    </tr>\n",
              "    <tr>\n",
              "      <th>d</th>\n",
              "      <td>4</td>\n",
              "      <td>7</td>\n",
              "      <td>11</td>\n",
              "    </tr>\n",
              "  </tbody>\n",
              "</table>\n",
              "</div>"
            ],
            "text/plain": [
              "   A  B   C\n",
              "a  1  4   8\n",
              "b  2  5   9\n",
              "c  3  6  10\n",
              "d  4  7  11"
            ]
          },
          "execution_count": 136,
          "metadata": {},
          "output_type": "execute_result"
        }
      ],
      "source": [
        "dict_data = {'A':[1,2,3,4], 'B':[4,5,6,7],'C':[8,9,10,11]}\n",
        "\n",
        "index_data = ['a','b','c','d']\n",
        "\n",
        "df1 = pd.DataFrame(dict_data,index=index_data)\n",
        "df1"
      ]
    },
    {
      "cell_type": "code",
      "execution_count": null,
      "id": "8c78afb1",
      "metadata": {
        "ExecuteTime": {
          "end_time": "2022-02-12T12:36:38.291473Z",
          "start_time": "2022-02-12T12:36:38.261177Z"
        },
        "id": "8c78afb1",
        "outputId": "71090db6-1bf1-4cd2-f59c-9cf8ff5f423c"
      },
      "outputs": [
        {
          "data": {
            "text/plain": [
              "a     8\n",
              "b     9\n",
              "d    11\n",
              "Name: C, dtype: int64"
            ]
          },
          "execution_count": 138,
          "metadata": {},
          "output_type": "execute_result"
        }
      ],
      "source": [
        "df1['C'][[0,1,3]]"
      ]
    },
    {
      "cell_type": "code",
      "execution_count": null,
      "id": "7ce1b348",
      "metadata": {
        "ExecuteTime": {
          "end_time": "2022-02-12T12:39:39.260378Z",
          "start_time": "2022-02-12T12:39:39.236900Z"
        },
        "id": "7ce1b348",
        "outputId": "891808b0-054c-42ea-a2de-18be0967c2d4"
      },
      "outputs": [
        {
          "data": {
            "text/plain": [
              "a     8\n",
              "b     9\n",
              "c    10\n",
              "d    11\n",
              "Name: C, dtype: int64"
            ]
          },
          "execution_count": 139,
          "metadata": {},
          "output_type": "execute_result"
        }
      ],
      "source": [
        "df1['C']['a':'d']"
      ]
    },
    {
      "cell_type": "code",
      "execution_count": null,
      "id": "36d79a0e",
      "metadata": {
        "ExecuteTime": {
          "end_time": "2022-02-12T12:41:02.251702Z",
          "start_time": "2022-02-12T12:41:02.231354Z"
        },
        "id": "36d79a0e",
        "outputId": "a975161a-3982-48f5-ae18-638e572b3e60"
      },
      "outputs": [
        {
          "data": {
            "text/plain": [
              "b     9\n",
              "c    10\n",
              "d    11\n",
              "Name: C, dtype: int64"
            ]
          },
          "execution_count": 140,
          "metadata": {},
          "output_type": "execute_result"
        }
      ],
      "source": [
        "df1['C'][df1['B']>=5]"
      ]
    },
    {
      "cell_type": "code",
      "execution_count": null,
      "id": "577793b4",
      "metadata": {
        "ExecuteTime": {
          "end_time": "2022-02-12T12:42:09.960935Z",
          "start_time": "2022-02-12T12:42:09.933170Z"
        },
        "id": "577793b4",
        "outputId": "934a4bb1-abdd-4bcc-8b86-ad03ce6eccfe"
      },
      "outputs": [
        {
          "data": {
            "text/html": [
              "<div>\n",
              "<style scoped>\n",
              "    .dataframe tbody tr th:only-of-type {\n",
              "        vertical-align: middle;\n",
              "    }\n",
              "\n",
              "    .dataframe tbody tr th {\n",
              "        vertical-align: top;\n",
              "    }\n",
              "\n",
              "    .dataframe thead th {\n",
              "        text-align: right;\n",
              "    }\n",
              "</style>\n",
              "<table border=\"1\" class=\"dataframe\">\n",
              "  <thead>\n",
              "    <tr style=\"text-align: right;\">\n",
              "      <th></th>\n",
              "      <th>a</th>\n",
              "      <th>b</th>\n",
              "      <th>c</th>\n",
              "      <th>d</th>\n",
              "    </tr>\n",
              "  </thead>\n",
              "  <tbody>\n",
              "    <tr>\n",
              "      <th>A</th>\n",
              "      <td>1</td>\n",
              "      <td>2</td>\n",
              "      <td>3</td>\n",
              "      <td>4</td>\n",
              "    </tr>\n",
              "    <tr>\n",
              "      <th>B</th>\n",
              "      <td>4</td>\n",
              "      <td>5</td>\n",
              "      <td>6</td>\n",
              "      <td>7</td>\n",
              "    </tr>\n",
              "    <tr>\n",
              "      <th>C</th>\n",
              "      <td>8</td>\n",
              "      <td>9</td>\n",
              "      <td>10</td>\n",
              "      <td>11</td>\n",
              "    </tr>\n",
              "  </tbody>\n",
              "</table>\n",
              "</div>"
            ],
            "text/plain": [
              "   a  b   c   d\n",
              "A  1  2   3   4\n",
              "B  4  5   6   7\n",
              "C  8  9  10  11"
            ]
          },
          "execution_count": 142,
          "metadata": {},
          "output_type": "execute_result"
        }
      ],
      "source": [
        "df1.T"
      ]
    },
    {
      "cell_type": "code",
      "execution_count": null,
      "id": "2b3cf678",
      "metadata": {
        "ExecuteTime": {
          "end_time": "2022-02-12T12:42:53.634130Z",
          "start_time": "2022-02-12T12:42:53.607210Z"
        },
        "id": "2b3cf678",
        "outputId": "9b316a51-50ba-4f20-bd9a-0f1c977753ba"
      },
      "outputs": [
        {
          "data": {
            "text/plain": [
              "0    10.0\n",
              "1    20.0\n",
              "2    30.0\n",
              "3    40.0\n",
              "4     NaN\n",
              "5    60.0\n",
              "dtype: float64"
            ]
          },
          "execution_count": 143,
          "metadata": {},
          "output_type": "execute_result"
        }
      ],
      "source": [
        "s3 = pd.Series([10,20,30,40, np.nan, 60])\n",
        "s3"
      ]
    },
    {
      "cell_type": "code",
      "execution_count": null,
      "id": "0c34e01a",
      "metadata": {
        "ExecuteTime": {
          "end_time": "2022-02-12T12:43:26.187881Z",
          "start_time": "2022-02-12T12:43:26.147132Z"
        },
        "scrolled": true,
        "id": "0c34e01a",
        "outputId": "6ede5b81-d99e-4463-d87e-078d2acf4214"
      },
      "outputs": [
        {
          "data": {
            "text/plain": [
              "1    20.0\n",
              "2    30.0\n",
              "3    40.0\n",
              "4     NaN\n",
              "5    60.0\n",
              "dtype: float64"
            ]
          },
          "execution_count": 144,
          "metadata": {},
          "output_type": "execute_result"
        }
      ],
      "source": [
        "s3.drop(index=0)"
      ]
    },
    {
      "cell_type": "code",
      "execution_count": null,
      "id": "9502f10b",
      "metadata": {
        "ExecuteTime": {
          "end_time": "2022-02-12T12:44:15.448005Z",
          "start_time": "2022-02-12T12:44:15.419316Z"
        },
        "id": "9502f10b",
        "outputId": "837840a8-2d6f-4b12-c327-5e386e8e19df"
      },
      "outputs": [
        {
          "data": {
            "text/plain": [
              "0    10.0\n",
              "2    30.0\n",
              "4     NaN\n",
              "dtype: float64"
            ]
          },
          "execution_count": 146,
          "metadata": {},
          "output_type": "execute_result"
        }
      ],
      "source": [
        "s3.drop(index=[1,3,5])"
      ]
    },
    {
      "cell_type": "code",
      "execution_count": null,
      "id": "290babe1",
      "metadata": {
        "ExecuteTime": {
          "end_time": "2022-02-12T12:47:04.924553Z",
          "start_time": "2022-02-12T12:47:04.868357Z"
        },
        "id": "290babe1",
        "outputId": "5d9dd28f-6983-436c-86fc-86315ec8f213"
      },
      "outputs": [
        {
          "data": {
            "text/html": [
              "<div>\n",
              "<style scoped>\n",
              "    .dataframe tbody tr th:only-of-type {\n",
              "        vertical-align: middle;\n",
              "    }\n",
              "\n",
              "    .dataframe tbody tr th {\n",
              "        vertical-align: top;\n",
              "    }\n",
              "\n",
              "    .dataframe thead th {\n",
              "        text-align: right;\n",
              "    }\n",
              "</style>\n",
              "<table border=\"1\" class=\"dataframe\">\n",
              "  <thead>\n",
              "    <tr style=\"text-align: right;\">\n",
              "      <th></th>\n",
              "      <th>year</th>\n",
              "      <th>M1</th>\n",
              "      <th>M2</th>\n",
              "      <th>M3</th>\n",
              "      <th>M4</th>\n",
              "    </tr>\n",
              "  </thead>\n",
              "  <tbody>\n",
              "    <tr>\n",
              "      <th>0</th>\n",
              "      <td>2014</td>\n",
              "      <td>20</td>\n",
              "      <td>15</td>\n",
              "      <td>NaN</td>\n",
              "      <td>NaN</td>\n",
              "    </tr>\n",
              "    <tr>\n",
              "      <th>1</th>\n",
              "      <td>2015</td>\n",
              "      <td>25</td>\n",
              "      <td>17</td>\n",
              "      <td>13.0</td>\n",
              "      <td>NaN</td>\n",
              "    </tr>\n",
              "    <tr>\n",
              "      <th>2</th>\n",
              "      <td>2016</td>\n",
              "      <td>24</td>\n",
              "      <td>19</td>\n",
              "      <td>15.0</td>\n",
              "      <td>NaN</td>\n",
              "    </tr>\n",
              "    <tr>\n",
              "      <th>3</th>\n",
              "      <td>2017</td>\n",
              "      <td>27</td>\n",
              "      <td>20</td>\n",
              "      <td>18.0</td>\n",
              "      <td>12.0</td>\n",
              "    </tr>\n",
              "    <tr>\n",
              "      <th>4</th>\n",
              "      <td>2018</td>\n",
              "      <td>30</td>\n",
              "      <td>19</td>\n",
              "      <td>17.0</td>\n",
              "      <td>14.0</td>\n",
              "    </tr>\n",
              "    <tr>\n",
              "      <th>5</th>\n",
              "      <td>2019</td>\n",
              "      <td>32</td>\n",
              "      <td>24</td>\n",
              "      <td>21.0</td>\n",
              "      <td>19.0</td>\n",
              "    </tr>\n",
              "  </tbody>\n",
              "</table>\n",
              "</div>"
            ],
            "text/plain": [
              "   year  M1  M2    M3    M4\n",
              "0  2014  20  15   NaN   NaN\n",
              "1  2015  25  17  13.0   NaN\n",
              "2  2016  24  19  15.0   NaN\n",
              "3  2017  27  20  18.0  12.0\n",
              "4  2018  30  19  17.0  14.0\n",
              "5  2019  32  24  21.0  19.0"
            ]
          },
          "execution_count": 147,
          "metadata": {},
          "output_type": "execute_result"
        }
      ],
      "source": [
        "folder = 'C:/Users/82102/OneDrive/데이터분석훈련/myPyExcel/data/ch05/' #폴더 경로\n",
        "csv_file = folder + 'electric_products.csv'\n",
        "\n",
        "df3 = pd.read_csv(csv_file, encoding='utf-8')\n",
        "df3"
      ]
    },
    {
      "cell_type": "code",
      "execution_count": null,
      "id": "33c77ef6",
      "metadata": {
        "ExecuteTime": {
          "end_time": "2022-02-12T12:47:47.322763Z",
          "start_time": "2022-02-12T12:47:47.282011Z"
        },
        "id": "33c77ef6",
        "outputId": "733f97f9-c7a6-44c3-d8cf-726539e0a127"
      },
      "outputs": [
        {
          "data": {
            "text/html": [
              "<div>\n",
              "<style scoped>\n",
              "    .dataframe tbody tr th:only-of-type {\n",
              "        vertical-align: middle;\n",
              "    }\n",
              "\n",
              "    .dataframe tbody tr th {\n",
              "        vertical-align: top;\n",
              "    }\n",
              "\n",
              "    .dataframe thead th {\n",
              "        text-align: right;\n",
              "    }\n",
              "</style>\n",
              "<table border=\"1\" class=\"dataframe\">\n",
              "  <thead>\n",
              "    <tr style=\"text-align: right;\">\n",
              "      <th></th>\n",
              "      <th>year</th>\n",
              "      <th>M1</th>\n",
              "      <th>M2</th>\n",
              "      <th>M3</th>\n",
              "      <th>M4</th>\n",
              "    </tr>\n",
              "  </thead>\n",
              "  <tbody>\n",
              "    <tr>\n",
              "      <th>0</th>\n",
              "      <td>2014</td>\n",
              "      <td>20</td>\n",
              "      <td>15</td>\n",
              "      <td>NaN</td>\n",
              "      <td>NaN</td>\n",
              "    </tr>\n",
              "    <tr>\n",
              "      <th>3</th>\n",
              "      <td>2017</td>\n",
              "      <td>27</td>\n",
              "      <td>20</td>\n",
              "      <td>18.0</td>\n",
              "      <td>12.0</td>\n",
              "    </tr>\n",
              "    <tr>\n",
              "      <th>4</th>\n",
              "      <td>2018</td>\n",
              "      <td>30</td>\n",
              "      <td>19</td>\n",
              "      <td>17.0</td>\n",
              "      <td>14.0</td>\n",
              "    </tr>\n",
              "    <tr>\n",
              "      <th>5</th>\n",
              "      <td>2019</td>\n",
              "      <td>32</td>\n",
              "      <td>24</td>\n",
              "      <td>21.0</td>\n",
              "      <td>19.0</td>\n",
              "    </tr>\n",
              "  </tbody>\n",
              "</table>\n",
              "</div>"
            ],
            "text/plain": [
              "   year  M1  M2    M3    M4\n",
              "0  2014  20  15   NaN   NaN\n",
              "3  2017  27  20  18.0  12.0\n",
              "4  2018  30  19  17.0  14.0\n",
              "5  2019  32  24  21.0  19.0"
            ]
          },
          "execution_count": 148,
          "metadata": {},
          "output_type": "execute_result"
        }
      ],
      "source": [
        "df3.drop(index=[1,2])"
      ]
    },
    {
      "cell_type": "code",
      "execution_count": null,
      "id": "df60d125",
      "metadata": {
        "ExecuteTime": {
          "end_time": "2022-02-12T12:49:08.973841Z",
          "start_time": "2022-02-12T12:49:08.945118Z"
        },
        "id": "df60d125",
        "outputId": "12d24d0f-b908-4508-cbe0-94b4b3759962"
      },
      "outputs": [
        {
          "data": {
            "text/html": [
              "<div>\n",
              "<style scoped>\n",
              "    .dataframe tbody tr th:only-of-type {\n",
              "        vertical-align: middle;\n",
              "    }\n",
              "\n",
              "    .dataframe tbody tr th {\n",
              "        vertical-align: top;\n",
              "    }\n",
              "\n",
              "    .dataframe thead th {\n",
              "        text-align: right;\n",
              "    }\n",
              "</style>\n",
              "<table border=\"1\" class=\"dataframe\">\n",
              "  <thead>\n",
              "    <tr style=\"text-align: right;\">\n",
              "      <th></th>\n",
              "      <th>year</th>\n",
              "      <th>M1</th>\n",
              "      <th>M2</th>\n",
              "    </tr>\n",
              "  </thead>\n",
              "  <tbody>\n",
              "    <tr>\n",
              "      <th>0</th>\n",
              "      <td>2014</td>\n",
              "      <td>20</td>\n",
              "      <td>15</td>\n",
              "    </tr>\n",
              "    <tr>\n",
              "      <th>1</th>\n",
              "      <td>2015</td>\n",
              "      <td>25</td>\n",
              "      <td>17</td>\n",
              "    </tr>\n",
              "    <tr>\n",
              "      <th>2</th>\n",
              "      <td>2016</td>\n",
              "      <td>24</td>\n",
              "      <td>19</td>\n",
              "    </tr>\n",
              "    <tr>\n",
              "      <th>3</th>\n",
              "      <td>2017</td>\n",
              "      <td>27</td>\n",
              "      <td>20</td>\n",
              "    </tr>\n",
              "    <tr>\n",
              "      <th>4</th>\n",
              "      <td>2018</td>\n",
              "      <td>30</td>\n",
              "      <td>19</td>\n",
              "    </tr>\n",
              "    <tr>\n",
              "      <th>5</th>\n",
              "      <td>2019</td>\n",
              "      <td>32</td>\n",
              "      <td>24</td>\n",
              "    </tr>\n",
              "  </tbody>\n",
              "</table>\n",
              "</div>"
            ],
            "text/plain": [
              "   year  M1  M2\n",
              "0  2014  20  15\n",
              "1  2015  25  17\n",
              "2  2016  24  19\n",
              "3  2017  27  20\n",
              "4  2018  30  19\n",
              "5  2019  32  24"
            ]
          },
          "execution_count": 150,
          "metadata": {},
          "output_type": "execute_result"
        }
      ],
      "source": [
        "df3.drop(columns=['M3','M4'])"
      ]
    },
    {
      "cell_type": "code",
      "execution_count": null,
      "id": "e778dc39",
      "metadata": {
        "ExecuteTime": {
          "end_time": "2022-02-12T12:49:37.439995Z",
          "start_time": "2022-02-12T12:49:37.420839Z"
        },
        "id": "e778dc39",
        "outputId": "48ee7a70-b59a-4ad1-a721-5c475ef4bb47"
      },
      "outputs": [
        {
          "data": {
            "text/plain": [
              "0    10\n",
              "1    20\n",
              "2    30\n",
              "dtype: int64"
            ]
          },
          "execution_count": 151,
          "metadata": {},
          "output_type": "execute_result"
        }
      ],
      "source": [
        "s1 = pd.Series([10,20,30])\n",
        "s1"
      ]
    },
    {
      "cell_type": "code",
      "execution_count": null,
      "id": "ef157cff",
      "metadata": {
        "ExecuteTime": {
          "end_time": "2022-02-12T12:50:05.527590Z",
          "start_time": "2022-02-12T12:50:05.510311Z"
        },
        "id": "ef157cff"
      },
      "outputs": [],
      "source": [
        "s2 = pd.Series([40,50,60])"
      ]
    },
    {
      "cell_type": "code",
      "execution_count": null,
      "id": "8cc71748",
      "metadata": {
        "ExecuteTime": {
          "end_time": "2022-02-12T12:50:20.323616Z",
          "start_time": "2022-02-12T12:50:20.308010Z"
        },
        "id": "8cc71748"
      },
      "outputs": [],
      "source": [
        "s3 = pd.Series([70,80,90])"
      ]
    },
    {
      "cell_type": "code",
      "execution_count": null,
      "id": "9a7a4188",
      "metadata": {
        "ExecuteTime": {
          "end_time": "2022-02-12T12:50:33.086934Z",
          "start_time": "2022-02-12T12:50:33.063672Z"
        },
        "id": "9a7a4188",
        "outputId": "8a53d2ee-fe82-4d11-e113-36ce6d794268"
      },
      "outputs": [
        {
          "data": {
            "text/plain": [
              "0    10\n",
              "1    20\n",
              "2    30\n",
              "0    40\n",
              "1    50\n",
              "2    60\n",
              "dtype: int64"
            ]
          },
          "execution_count": 154,
          "metadata": {},
          "output_type": "execute_result"
        }
      ],
      "source": [
        "pd.concat([s1,s2])"
      ]
    },
    {
      "cell_type": "code",
      "execution_count": null,
      "id": "e0c2d4b5",
      "metadata": {
        "ExecuteTime": {
          "end_time": "2022-02-12T12:51:19.274834Z",
          "start_time": "2022-02-12T12:51:19.245804Z"
        },
        "id": "e0c2d4b5",
        "outputId": "cf569ee5-5af4-4ab9-889f-a9555a14cc47"
      },
      "outputs": [
        {
          "data": {
            "text/plain": [
              "0    10\n",
              "1    20\n",
              "2    30\n",
              "3    40\n",
              "4    50\n",
              "5    60\n",
              "dtype: int64"
            ]
          },
          "execution_count": 156,
          "metadata": {},
          "output_type": "execute_result"
        }
      ],
      "source": [
        "pd.concat([s1,s2],ignore_index=True)"
      ]
    },
    {
      "cell_type": "code",
      "execution_count": null,
      "id": "bd4c95c8",
      "metadata": {
        "ExecuteTime": {
          "end_time": "2022-02-12T12:52:11.468951Z",
          "start_time": "2022-02-12T12:52:11.437995Z"
        },
        "id": "bd4c95c8",
        "outputId": "c2473557-4903-4c5f-aeae-4357a3e6ab0e"
      },
      "outputs": [
        {
          "data": {
            "text/plain": [
              "0    10\n",
              "1    20\n",
              "2    30\n",
              "3    40\n",
              "4    50\n",
              "5    60\n",
              "6    70\n",
              "7    80\n",
              "8    90\n",
              "dtype: int64"
            ]
          },
          "execution_count": 157,
          "metadata": {},
          "output_type": "execute_result"
        }
      ],
      "source": [
        "pd.concat([s1,s2,s3],ignore_index=True)"
      ]
    },
    {
      "cell_type": "code",
      "execution_count": null,
      "id": "fabb8653",
      "metadata": {
        "ExecuteTime": {
          "end_time": "2022-02-12T12:53:20.830655Z",
          "start_time": "2022-02-12T12:53:20.796746Z"
        },
        "id": "fabb8653",
        "outputId": "9bc2096f-5f7d-415f-98fe-06c60ed0798b"
      },
      "outputs": [
        {
          "data": {
            "text/html": [
              "<div>\n",
              "<style scoped>\n",
              "    .dataframe tbody tr th:only-of-type {\n",
              "        vertical-align: middle;\n",
              "    }\n",
              "\n",
              "    .dataframe tbody tr th {\n",
              "        vertical-align: top;\n",
              "    }\n",
              "\n",
              "    .dataframe thead th {\n",
              "        text-align: right;\n",
              "    }\n",
              "</style>\n",
              "<table border=\"1\" class=\"dataframe\">\n",
              "  <thead>\n",
              "    <tr style=\"text-align: right;\">\n",
              "      <th></th>\n",
              "      <th>물리</th>\n",
              "      <th>화학</th>\n",
              "    </tr>\n",
              "  </thead>\n",
              "  <tbody>\n",
              "    <tr>\n",
              "      <th>0</th>\n",
              "      <td>95</td>\n",
              "      <td>50</td>\n",
              "    </tr>\n",
              "    <tr>\n",
              "      <th>1</th>\n",
              "      <td>80</td>\n",
              "      <td>80</td>\n",
              "    </tr>\n",
              "    <tr>\n",
              "      <th>2</th>\n",
              "      <td>70</td>\n",
              "      <td>30</td>\n",
              "    </tr>\n",
              "    <tr>\n",
              "      <th>3</th>\n",
              "      <td>100</td>\n",
              "      <td>100</td>\n",
              "    </tr>\n",
              "  </tbody>\n",
              "</table>\n",
              "</div>"
            ],
            "text/plain": [
              "    물리   화학\n",
              "0   95   50\n",
              "1   80   80\n",
              "2   70   30\n",
              "3  100  100"
            ]
          },
          "execution_count": 158,
          "metadata": {},
          "output_type": "execute_result"
        }
      ],
      "source": [
        "df1=pd.DataFrame({'물리':[95,80,70,100],'화학':[50,80,30,100]})\n",
        "df1"
      ]
    },
    {
      "cell_type": "code",
      "execution_count": null,
      "id": "b553fd50",
      "metadata": {
        "ExecuteTime": {
          "end_time": "2022-02-12T12:54:30.432681Z",
          "start_time": "2022-02-12T12:54:30.394259Z"
        },
        "id": "b553fd50",
        "outputId": "a2c31688-b06e-49ca-9085-c8a32bda1475"
      },
      "outputs": [
        {
          "data": {
            "text/html": [
              "<div>\n",
              "<style scoped>\n",
              "    .dataframe tbody tr th:only-of-type {\n",
              "        vertical-align: middle;\n",
              "    }\n",
              "\n",
              "    .dataframe tbody tr th {\n",
              "        vertical-align: top;\n",
              "    }\n",
              "\n",
              "    .dataframe thead th {\n",
              "        text-align: right;\n",
              "    }\n",
              "</style>\n",
              "<table border=\"1\" class=\"dataframe\">\n",
              "  <thead>\n",
              "    <tr style=\"text-align: right;\">\n",
              "      <th></th>\n",
              "      <th>물리</th>\n",
              "      <th>화학</th>\n",
              "    </tr>\n",
              "  </thead>\n",
              "  <tbody>\n",
              "    <tr>\n",
              "      <th>0</th>\n",
              "      <td>50</td>\n",
              "      <td>67</td>\n",
              "    </tr>\n",
              "    <tr>\n",
              "      <th>1</th>\n",
              "      <td>90</td>\n",
              "      <td>90</td>\n",
              "    </tr>\n",
              "  </tbody>\n",
              "</table>\n",
              "</div>"
            ],
            "text/plain": [
              "   물리  화학\n",
              "0  50  67\n",
              "1  90  90"
            ]
          },
          "execution_count": 159,
          "metadata": {},
          "output_type": "execute_result"
        }
      ],
      "source": [
        "df2 = pd.DataFrame({'물리':[50,90],'화학':[67,90]})\n",
        "df2"
      ]
    },
    {
      "cell_type": "code",
      "execution_count": null,
      "id": "42f2901b",
      "metadata": {
        "ExecuteTime": {
          "end_time": "2022-02-12T12:56:45.618476Z",
          "start_time": "2022-02-12T12:56:45.588117Z"
        },
        "id": "42f2901b",
        "outputId": "6aace0ee-e3ac-4ae1-f66d-a5fea711cf33"
      },
      "outputs": [
        {
          "data": {
            "text/html": [
              "<div>\n",
              "<style scoped>\n",
              "    .dataframe tbody tr th:only-of-type {\n",
              "        vertical-align: middle;\n",
              "    }\n",
              "\n",
              "    .dataframe tbody tr th {\n",
              "        vertical-align: top;\n",
              "    }\n",
              "\n",
              "    .dataframe thead th {\n",
              "        text-align: right;\n",
              "    }\n",
              "</style>\n",
              "<table border=\"1\" class=\"dataframe\">\n",
              "  <thead>\n",
              "    <tr style=\"text-align: right;\">\n",
              "      <th></th>\n",
              "      <th>물리</th>\n",
              "    </tr>\n",
              "  </thead>\n",
              "  <tbody>\n",
              "    <tr>\n",
              "      <th>0</th>\n",
              "      <td>80</td>\n",
              "    </tr>\n",
              "    <tr>\n",
              "      <th>1</th>\n",
              "      <td>20</td>\n",
              "    </tr>\n",
              "  </tbody>\n",
              "</table>\n",
              "</div>"
            ],
            "text/plain": [
              "   물리\n",
              "0  80\n",
              "1  20"
            ]
          },
          "execution_count": 161,
          "metadata": {},
          "output_type": "execute_result"
        }
      ],
      "source": [
        "df3 = pd.DataFrame({'물리':[80,20]})\n",
        "df3"
      ]
    },
    {
      "cell_type": "code",
      "execution_count": null,
      "id": "7f10b9fc",
      "metadata": {
        "ExecuteTime": {
          "end_time": "2022-02-12T12:57:00.535007Z",
          "start_time": "2022-02-12T12:57:00.508169Z"
        },
        "id": "7f10b9fc",
        "outputId": "f8a460ae-039f-426b-eb09-accdd4063a6a"
      },
      "outputs": [
        {
          "data": {
            "text/html": [
              "<div>\n",
              "<style scoped>\n",
              "    .dataframe tbody tr th:only-of-type {\n",
              "        vertical-align: middle;\n",
              "    }\n",
              "\n",
              "    .dataframe tbody tr th {\n",
              "        vertical-align: top;\n",
              "    }\n",
              "\n",
              "    .dataframe thead th {\n",
              "        text-align: right;\n",
              "    }\n",
              "</style>\n",
              "<table border=\"1\" class=\"dataframe\">\n",
              "  <thead>\n",
              "    <tr style=\"text-align: right;\">\n",
              "      <th></th>\n",
              "      <th>생명과학</th>\n",
              "      <th>지구과학</th>\n",
              "    </tr>\n",
              "  </thead>\n",
              "  <tbody>\n",
              "    <tr>\n",
              "      <th>0</th>\n",
              "      <td>90</td>\n",
              "      <td>80</td>\n",
              "    </tr>\n",
              "    <tr>\n",
              "      <th>1</th>\n",
              "      <td>70</td>\n",
              "      <td>50</td>\n",
              "    </tr>\n",
              "    <tr>\n",
              "      <th>2</th>\n",
              "      <td>30</td>\n",
              "      <td>60</td>\n",
              "    </tr>\n",
              "    <tr>\n",
              "      <th>3</th>\n",
              "      <td>50</td>\n",
              "      <td>70</td>\n",
              "    </tr>\n",
              "  </tbody>\n",
              "</table>\n",
              "</div>"
            ],
            "text/plain": [
              "   생명과학  지구과학\n",
              "0    90    80\n",
              "1    70    50\n",
              "2    30    60\n",
              "3    50    70"
            ]
          },
          "execution_count": 162,
          "metadata": {},
          "output_type": "execute_result"
        }
      ],
      "source": [
        "df4 = pd.DataFrame({'생명과학':[90,70,30,50],'지구과학':[80,50,60,70]})\n",
        "df4"
      ]
    },
    {
      "cell_type": "code",
      "execution_count": null,
      "id": "642e3fac",
      "metadata": {
        "ExecuteTime": {
          "end_time": "2022-02-12T12:57:32.726486Z",
          "start_time": "2022-02-12T12:57:32.702265Z"
        },
        "id": "642e3fac",
        "outputId": "9930092d-a204-4581-fea2-25b726a725b9"
      },
      "outputs": [
        {
          "data": {
            "text/html": [
              "<div>\n",
              "<style scoped>\n",
              "    .dataframe tbody tr th:only-of-type {\n",
              "        vertical-align: middle;\n",
              "    }\n",
              "\n",
              "    .dataframe tbody tr th {\n",
              "        vertical-align: top;\n",
              "    }\n",
              "\n",
              "    .dataframe thead th {\n",
              "        text-align: right;\n",
              "    }\n",
              "</style>\n",
              "<table border=\"1\" class=\"dataframe\">\n",
              "  <thead>\n",
              "    <tr style=\"text-align: right;\">\n",
              "      <th></th>\n",
              "      <th>물리</th>\n",
              "      <th>화학</th>\n",
              "    </tr>\n",
              "  </thead>\n",
              "  <tbody>\n",
              "    <tr>\n",
              "      <th>0</th>\n",
              "      <td>95</td>\n",
              "      <td>50</td>\n",
              "    </tr>\n",
              "    <tr>\n",
              "      <th>1</th>\n",
              "      <td>80</td>\n",
              "      <td>80</td>\n",
              "    </tr>\n",
              "    <tr>\n",
              "      <th>2</th>\n",
              "      <td>70</td>\n",
              "      <td>30</td>\n",
              "    </tr>\n",
              "    <tr>\n",
              "      <th>3</th>\n",
              "      <td>100</td>\n",
              "      <td>100</td>\n",
              "    </tr>\n",
              "    <tr>\n",
              "      <th>4</th>\n",
              "      <td>50</td>\n",
              "      <td>67</td>\n",
              "    </tr>\n",
              "    <tr>\n",
              "      <th>5</th>\n",
              "      <td>90</td>\n",
              "      <td>90</td>\n",
              "    </tr>\n",
              "  </tbody>\n",
              "</table>\n",
              "</div>"
            ],
            "text/plain": [
              "    물리   화학\n",
              "0   95   50\n",
              "1   80   80\n",
              "2   70   30\n",
              "3  100  100\n",
              "4   50   67\n",
              "5   90   90"
            ]
          },
          "execution_count": 163,
          "metadata": {},
          "output_type": "execute_result"
        }
      ],
      "source": [
        "pd.concat([df1,df2],ignore_index=True)"
      ]
    },
    {
      "cell_type": "code",
      "execution_count": null,
      "id": "b8ff7331",
      "metadata": {
        "ExecuteTime": {
          "end_time": "2022-02-12T12:58:01.610196Z",
          "start_time": "2022-02-12T12:58:01.580482Z"
        },
        "id": "b8ff7331",
        "outputId": "1123cd6a-b06f-4784-92c8-aa04002b5706"
      },
      "outputs": [
        {
          "data": {
            "text/html": [
              "<div>\n",
              "<style scoped>\n",
              "    .dataframe tbody tr th:only-of-type {\n",
              "        vertical-align: middle;\n",
              "    }\n",
              "\n",
              "    .dataframe tbody tr th {\n",
              "        vertical-align: top;\n",
              "    }\n",
              "\n",
              "    .dataframe thead th {\n",
              "        text-align: right;\n",
              "    }\n",
              "</style>\n",
              "<table border=\"1\" class=\"dataframe\">\n",
              "  <thead>\n",
              "    <tr style=\"text-align: right;\">\n",
              "      <th></th>\n",
              "      <th>물리</th>\n",
              "      <th>화학</th>\n",
              "    </tr>\n",
              "  </thead>\n",
              "  <tbody>\n",
              "    <tr>\n",
              "      <th>0</th>\n",
              "      <td>50</td>\n",
              "      <td>67.0</td>\n",
              "    </tr>\n",
              "    <tr>\n",
              "      <th>1</th>\n",
              "      <td>90</td>\n",
              "      <td>90.0</td>\n",
              "    </tr>\n",
              "    <tr>\n",
              "      <th>2</th>\n",
              "      <td>80</td>\n",
              "      <td>NaN</td>\n",
              "    </tr>\n",
              "    <tr>\n",
              "      <th>3</th>\n",
              "      <td>20</td>\n",
              "      <td>NaN</td>\n",
              "    </tr>\n",
              "  </tbody>\n",
              "</table>\n",
              "</div>"
            ],
            "text/plain": [
              "   물리    화학\n",
              "0  50  67.0\n",
              "1  90  90.0\n",
              "2  80   NaN\n",
              "3  20   NaN"
            ]
          },
          "execution_count": 164,
          "metadata": {},
          "output_type": "execute_result"
        }
      ],
      "source": [
        "pd.concat([df2,df3],ignore_index=True)"
      ]
    },
    {
      "cell_type": "code",
      "execution_count": null,
      "id": "21fdca65",
      "metadata": {
        "ExecuteTime": {
          "end_time": "2022-02-12T12:59:21.620425Z",
          "start_time": "2022-02-12T12:59:21.585699Z"
        },
        "id": "21fdca65",
        "outputId": "d62203b6-f27e-4268-8671-0be3523654d4"
      },
      "outputs": [
        {
          "data": {
            "text/html": [
              "<div>\n",
              "<style scoped>\n",
              "    .dataframe tbody tr th:only-of-type {\n",
              "        vertical-align: middle;\n",
              "    }\n",
              "\n",
              "    .dataframe tbody tr th {\n",
              "        vertical-align: top;\n",
              "    }\n",
              "\n",
              "    .dataframe thead th {\n",
              "        text-align: right;\n",
              "    }\n",
              "</style>\n",
              "<table border=\"1\" class=\"dataframe\">\n",
              "  <thead>\n",
              "    <tr style=\"text-align: right;\">\n",
              "      <th></th>\n",
              "      <th>물리</th>\n",
              "    </tr>\n",
              "  </thead>\n",
              "  <tbody>\n",
              "    <tr>\n",
              "      <th>0</th>\n",
              "      <td>50</td>\n",
              "    </tr>\n",
              "    <tr>\n",
              "      <th>1</th>\n",
              "      <td>90</td>\n",
              "    </tr>\n",
              "    <tr>\n",
              "      <th>2</th>\n",
              "      <td>80</td>\n",
              "    </tr>\n",
              "    <tr>\n",
              "      <th>3</th>\n",
              "      <td>20</td>\n",
              "    </tr>\n",
              "  </tbody>\n",
              "</table>\n",
              "</div>"
            ],
            "text/plain": [
              "   물리\n",
              "0  50\n",
              "1  90\n",
              "2  80\n",
              "3  20"
            ]
          },
          "execution_count": 167,
          "metadata": {},
          "output_type": "execute_result"
        }
      ],
      "source": [
        "pd.concat([df2,df3],ignore_index=True,join='inner')"
      ]
    },
    {
      "cell_type": "code",
      "execution_count": null,
      "id": "d64a3ac4",
      "metadata": {
        "ExecuteTime": {
          "end_time": "2022-02-12T12:59:53.943335Z",
          "start_time": "2022-02-12T12:59:53.916859Z"
        },
        "id": "d64a3ac4",
        "outputId": "bf90fbcb-d56f-440e-8716-e64e5659557d"
      },
      "outputs": [
        {
          "data": {
            "text/html": [
              "<div>\n",
              "<style scoped>\n",
              "    .dataframe tbody tr th:only-of-type {\n",
              "        vertical-align: middle;\n",
              "    }\n",
              "\n",
              "    .dataframe tbody tr th {\n",
              "        vertical-align: top;\n",
              "    }\n",
              "\n",
              "    .dataframe thead th {\n",
              "        text-align: right;\n",
              "    }\n",
              "</style>\n",
              "<table border=\"1\" class=\"dataframe\">\n",
              "  <thead>\n",
              "    <tr style=\"text-align: right;\">\n",
              "      <th></th>\n",
              "      <th>물리</th>\n",
              "      <th>화학</th>\n",
              "      <th>생명과학</th>\n",
              "      <th>지구과학</th>\n",
              "    </tr>\n",
              "  </thead>\n",
              "  <tbody>\n",
              "    <tr>\n",
              "      <th>0</th>\n",
              "      <td>95</td>\n",
              "      <td>50</td>\n",
              "      <td>90</td>\n",
              "      <td>80</td>\n",
              "    </tr>\n",
              "    <tr>\n",
              "      <th>1</th>\n",
              "      <td>80</td>\n",
              "      <td>80</td>\n",
              "      <td>70</td>\n",
              "      <td>50</td>\n",
              "    </tr>\n",
              "    <tr>\n",
              "      <th>2</th>\n",
              "      <td>70</td>\n",
              "      <td>30</td>\n",
              "      <td>30</td>\n",
              "      <td>60</td>\n",
              "    </tr>\n",
              "    <tr>\n",
              "      <th>3</th>\n",
              "      <td>100</td>\n",
              "      <td>100</td>\n",
              "      <td>50</td>\n",
              "      <td>70</td>\n",
              "    </tr>\n",
              "  </tbody>\n",
              "</table>\n",
              "</div>"
            ],
            "text/plain": [
              "    물리   화학  생명과학  지구과학\n",
              "0   95   50    90    80\n",
              "1   80   80    70    50\n",
              "2   70   30    30    60\n",
              "3  100  100    50    70"
            ]
          },
          "execution_count": 168,
          "metadata": {},
          "output_type": "execute_result"
        }
      ],
      "source": [
        "pd.concat([df1,df4],axis=1)"
      ]
    },
    {
      "cell_type": "code",
      "execution_count": null,
      "id": "e3245a65",
      "metadata": {
        "ExecuteTime": {
          "end_time": "2022-02-12T13:00:44.089117Z",
          "start_time": "2022-02-12T13:00:44.057005Z"
        },
        "id": "e3245a65",
        "outputId": "ec5c4bf1-04a8-4426-93da-a7aa569ff438"
      },
      "outputs": [
        {
          "data": {
            "text/html": [
              "<div>\n",
              "<style scoped>\n",
              "    .dataframe tbody tr th:only-of-type {\n",
              "        vertical-align: middle;\n",
              "    }\n",
              "\n",
              "    .dataframe tbody tr th {\n",
              "        vertical-align: top;\n",
              "    }\n",
              "\n",
              "    .dataframe thead th {\n",
              "        text-align: right;\n",
              "    }\n",
              "</style>\n",
              "<table border=\"1\" class=\"dataframe\">\n",
              "  <thead>\n",
              "    <tr style=\"text-align: right;\">\n",
              "      <th></th>\n",
              "      <th>물리</th>\n",
              "      <th>화학</th>\n",
              "      <th>생명과학</th>\n",
              "      <th>지구과학</th>\n",
              "    </tr>\n",
              "  </thead>\n",
              "  <tbody>\n",
              "    <tr>\n",
              "      <th>0</th>\n",
              "      <td>50.0</td>\n",
              "      <td>67.0</td>\n",
              "      <td>90</td>\n",
              "      <td>80</td>\n",
              "    </tr>\n",
              "    <tr>\n",
              "      <th>1</th>\n",
              "      <td>90.0</td>\n",
              "      <td>90.0</td>\n",
              "      <td>70</td>\n",
              "      <td>50</td>\n",
              "    </tr>\n",
              "    <tr>\n",
              "      <th>2</th>\n",
              "      <td>NaN</td>\n",
              "      <td>NaN</td>\n",
              "      <td>30</td>\n",
              "      <td>60</td>\n",
              "    </tr>\n",
              "    <tr>\n",
              "      <th>3</th>\n",
              "      <td>NaN</td>\n",
              "      <td>NaN</td>\n",
              "      <td>50</td>\n",
              "      <td>70</td>\n",
              "    </tr>\n",
              "  </tbody>\n",
              "</table>\n",
              "</div>"
            ],
            "text/plain": [
              "     물리    화학  생명과학  지구과학\n",
              "0  50.0  67.0    90    80\n",
              "1  90.0  90.0    70    50\n",
              "2   NaN   NaN    30    60\n",
              "3   NaN   NaN    50    70"
            ]
          },
          "execution_count": 170,
          "metadata": {},
          "output_type": "execute_result"
        }
      ],
      "source": [
        "pd.concat([df2,df4],axis=1)"
      ]
    },
    {
      "cell_type": "code",
      "execution_count": null,
      "id": "3b46f0da",
      "metadata": {
        "ExecuteTime": {
          "end_time": "2022-02-12T13:01:18.949956Z",
          "start_time": "2022-02-12T13:01:18.924128Z"
        },
        "id": "3b46f0da",
        "outputId": "4c31f6db-715c-488b-8c46-883c86011e0b"
      },
      "outputs": [
        {
          "data": {
            "text/html": [
              "<div>\n",
              "<style scoped>\n",
              "    .dataframe tbody tr th:only-of-type {\n",
              "        vertical-align: middle;\n",
              "    }\n",
              "\n",
              "    .dataframe tbody tr th {\n",
              "        vertical-align: top;\n",
              "    }\n",
              "\n",
              "    .dataframe thead th {\n",
              "        text-align: right;\n",
              "    }\n",
              "</style>\n",
              "<table border=\"1\" class=\"dataframe\">\n",
              "  <thead>\n",
              "    <tr style=\"text-align: right;\">\n",
              "      <th></th>\n",
              "      <th>물리</th>\n",
              "      <th>화학</th>\n",
              "      <th>생명과학</th>\n",
              "      <th>지구과학</th>\n",
              "    </tr>\n",
              "  </thead>\n",
              "  <tbody>\n",
              "    <tr>\n",
              "      <th>0</th>\n",
              "      <td>50</td>\n",
              "      <td>67</td>\n",
              "      <td>90</td>\n",
              "      <td>80</td>\n",
              "    </tr>\n",
              "    <tr>\n",
              "      <th>1</th>\n",
              "      <td>90</td>\n",
              "      <td>90</td>\n",
              "      <td>70</td>\n",
              "      <td>50</td>\n",
              "    </tr>\n",
              "  </tbody>\n",
              "</table>\n",
              "</div>"
            ],
            "text/plain": [
              "   물리  화학  생명과학  지구과학\n",
              "0  50  67    90    80\n",
              "1  90  90    70    50"
            ]
          },
          "execution_count": 171,
          "metadata": {},
          "output_type": "execute_result"
        }
      ],
      "source": [
        "pd.concat([df2,df4],axis=1,join='inner')"
      ]
    },
    {
      "cell_type": "code",
      "execution_count": null,
      "id": "afc8a585",
      "metadata": {
        "ExecuteTime": {
          "end_time": "2022-02-12T13:01:59.547186Z",
          "start_time": "2022-02-12T13:01:59.517642Z"
        },
        "id": "afc8a585",
        "outputId": "23fe0ce3-20b9-400f-e400-087ec733a4d4"
      },
      "outputs": [
        {
          "data": {
            "text/plain": [
              "0    10\n",
              "1    20\n",
              "2    30\n",
              "3    40\n",
              "4    50\n",
              "5    60\n",
              "dtype: int64"
            ]
          },
          "execution_count": 172,
          "metadata": {},
          "output_type": "execute_result"
        }
      ],
      "source": [
        "s1.append(s2,ignore_index=True)"
      ]
    },
    {
      "cell_type": "code",
      "execution_count": null,
      "id": "a9f16e97",
      "metadata": {
        "ExecuteTime": {
          "end_time": "2022-02-12T13:03:53.363821Z",
          "start_time": "2022-02-12T13:03:53.338756Z"
        },
        "id": "a9f16e97",
        "outputId": "c19204d9-7cd0-44a8-db03-4d1b3b133da1"
      },
      "outputs": [
        {
          "data": {
            "text/plain": [
              "0    10\n",
              "1    20\n",
              "2    30\n",
              "3    40\n",
              "4    50\n",
              "5    60\n",
              "6    70\n",
              "7    80\n",
              "8    90\n",
              "dtype: int64"
            ]
          },
          "execution_count": 173,
          "metadata": {},
          "output_type": "execute_result"
        }
      ],
      "source": [
        "s1.append([s2,s3],ignore_index=True)"
      ]
    },
    {
      "cell_type": "code",
      "execution_count": null,
      "id": "40915bc8",
      "metadata": {
        "ExecuteTime": {
          "end_time": "2022-02-12T13:04:34.501582Z",
          "start_time": "2022-02-12T13:04:34.477379Z"
        },
        "id": "40915bc8",
        "outputId": "34cf55ca-986e-42f2-98fd-9832a7a92630"
      },
      "outputs": [
        {
          "data": {
            "text/html": [
              "<div>\n",
              "<style scoped>\n",
              "    .dataframe tbody tr th:only-of-type {\n",
              "        vertical-align: middle;\n",
              "    }\n",
              "\n",
              "    .dataframe tbody tr th {\n",
              "        vertical-align: top;\n",
              "    }\n",
              "\n",
              "    .dataframe thead th {\n",
              "        text-align: right;\n",
              "    }\n",
              "</style>\n",
              "<table border=\"1\" class=\"dataframe\">\n",
              "  <thead>\n",
              "    <tr style=\"text-align: right;\">\n",
              "      <th></th>\n",
              "      <th>물리</th>\n",
              "      <th>화학</th>\n",
              "    </tr>\n",
              "  </thead>\n",
              "  <tbody>\n",
              "    <tr>\n",
              "      <th>0</th>\n",
              "      <td>95</td>\n",
              "      <td>50</td>\n",
              "    </tr>\n",
              "    <tr>\n",
              "      <th>1</th>\n",
              "      <td>80</td>\n",
              "      <td>80</td>\n",
              "    </tr>\n",
              "    <tr>\n",
              "      <th>2</th>\n",
              "      <td>70</td>\n",
              "      <td>30</td>\n",
              "    </tr>\n",
              "    <tr>\n",
              "      <th>3</th>\n",
              "      <td>100</td>\n",
              "      <td>100</td>\n",
              "    </tr>\n",
              "    <tr>\n",
              "      <th>4</th>\n",
              "      <td>50</td>\n",
              "      <td>67</td>\n",
              "    </tr>\n",
              "    <tr>\n",
              "      <th>5</th>\n",
              "      <td>90</td>\n",
              "      <td>90</td>\n",
              "    </tr>\n",
              "  </tbody>\n",
              "</table>\n",
              "</div>"
            ],
            "text/plain": [
              "    물리   화학\n",
              "0   95   50\n",
              "1   80   80\n",
              "2   70   30\n",
              "3  100  100\n",
              "4   50   67\n",
              "5   90   90"
            ]
          },
          "execution_count": 174,
          "metadata": {},
          "output_type": "execute_result"
        }
      ],
      "source": [
        "df1.append(df2,ignore_index=True)"
      ]
    },
    {
      "cell_type": "code",
      "execution_count": null,
      "id": "81b1ccc3",
      "metadata": {
        "id": "81b1ccc3"
      },
      "outputs": [],
      "source": [
        ""
      ]
    }
  ],
  "metadata": {
    "kernelspec": {
      "display_name": "Python 3 (ipykernel)",
      "language": "python",
      "name": "python3"
    },
    "language_info": {
      "codemirror_mode": {
        "name": "ipython",
        "version": 3
      },
      "file_extension": ".py",
      "mimetype": "text/x-python",
      "name": "python",
      "nbconvert_exporter": "python",
      "pygments_lexer": "ipython3",
      "version": "3.9.7"
    },
    "toc": {
      "base_numbering": 1,
      "nav_menu": {},
      "number_sections": true,
      "sideBar": true,
      "skip_h1_title": false,
      "title_cell": "Table of Contents",
      "title_sidebar": "Contents",
      "toc_cell": false,
      "toc_position": {},
      "toc_section_display": true,
      "toc_window_display": false
    },
    "varInspector": {
      "cols": {
        "lenName": 16,
        "lenType": 16,
        "lenVar": 40
      },
      "kernels_config": {
        "python": {
          "delete_cmd_postfix": "",
          "delete_cmd_prefix": "del ",
          "library": "var_list.py",
          "varRefreshCmd": "print(var_dic_list())"
        },
        "r": {
          "delete_cmd_postfix": ") ",
          "delete_cmd_prefix": "rm(",
          "library": "var_list.r",
          "varRefreshCmd": "cat(var_dic_list()) "
        }
      },
      "types_to_exclude": [
        "module",
        "function",
        "builtin_function_or_method",
        "instance",
        "_Feature"
      ],
      "window_display": false
    },
    "colab": {
      "name": "ex_0212_01.ipynb",
      "provenance": [],
      "include_colab_link": true
    }
  },
  "nbformat": 4,
  "nbformat_minor": 5
}