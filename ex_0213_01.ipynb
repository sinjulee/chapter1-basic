{
  "cells": [
    {
      "cell_type": "markdown",
      "metadata": {
        "id": "view-in-github",
        "colab_type": "text"
      },
      "source": [
        "<a href=\"https://colab.research.google.com/github/sinjulee/chapter1-basic/blob/main/ex_0213_01.ipynb\" target=\"_parent\"><img src=\"https://colab.research.google.com/assets/colab-badge.svg\" alt=\"Open In Colab\"/></a>"
      ]
    },
    {
      "cell_type": "code",
      "execution_count": null,
      "id": "f1173c6e",
      "metadata": {
        "ExecuteTime": {
          "end_time": "2022-02-12T14:03:23.053494Z",
          "start_time": "2022-02-12T14:03:22.965618Z"
        },
        "id": "f1173c6e",
        "outputId": "9565da46-4783-4045-965a-6b77a84e1f99"
      },
      "outputs": [
        {
          "name": "stdout",
          "output_type": "stream",
          "text": [
            "생성한 엑셀 파일 : C:/Users/82102/OneDrive/데이터분석훈련/myPyExcel/dataXlsxWriter_start_01.xlsx\n"
          ]
        }
      ],
      "source": [
        "import xlsxwriter\n",
        "\n",
        "folder = 'C:/Users/82102/OneDrive/데이터분석훈련/myPyExcel/data'\n",
        "excel_file = folder + 'XlsxWriter_start_01.xlsx'\n",
        "\n",
        "workbook = xlsxwriter.Workbook(excel_file)\n",
        "worksheet = workbook.add_worksheet()\n",
        "worksheet.write(0,0,10) #worksheet.write('A1',10)\n",
        "\n",
        "workbook.close()\n",
        "\n",
        "print('생성한 엑셀 파일 :',excel_file)"
      ]
    },
    {
      "cell_type": "code",
      "execution_count": null,
      "id": "db65546d",
      "metadata": {
        "ExecuteTime": {
          "end_time": "2022-02-12T14:12:31.986639Z",
          "start_time": "2022-02-12T14:12:31.878930Z"
        },
        "id": "db65546d",
        "outputId": "ed006912-8ce4-4d4b-a80c-123fe2429bd6"
      },
      "outputs": [
        {
          "name": "stdout",
          "output_type": "stream",
          "text": [
            "생성한 엑셀 파일 : C:/Users/82102/OneDrive/데이터분석훈련/myPyExcel/data/ch06/XlsxWriter_start_02.xlsx\n"
          ]
        }
      ],
      "source": [
        "folder = 'C:/Users/82102/OneDrive/데이터분석훈련/myPyExcel/data/ch06/'\n",
        "excel_file = folder + 'XlsxWriter_start_02.xlsx'\n",
        "\n",
        "workbook = xlsxwriter.Workbook(excel_file)\n",
        "worksheet = workbook.add_worksheet()\n",
        "\n",
        "#행과 열의 위치로 셀을 지정해서 데이터 입력할때\n",
        "worksheet.write(0,0,100)\n",
        "worksheet.write(1,0,3.14)\n",
        "worksheet.write(2,0,'안녕')\n",
        "worksheet.write(3,0,'=cos(PI()/4)')\n",
        "worksheet.write(4,0,'')\n",
        "worksheet.write(5,0,None)\n",
        "\n",
        "#주소로 셀을 지정해서 데이터 입력할때\n",
        "worksheet.write('B1','<-숫자(정수) 입력')\n",
        "worksheet.write('B2','<-숫자(실수) 입력')\n",
        "worksheet.write('B3','<-문자열 입력')\n",
        "worksheet.write('B4','<-엑셀 함수 계산 결과')\n",
        "worksheet.write('B5','<-빈 문자로 공백 입력')\n",
        "worksheet.write('B6','<-None 으로 공백 입력')\n",
        "\n",
        "workbook.close()\n",
        "\n",
        "print('생성한 엑셀 파일 :',excel_file)"
      ]
    },
    {
      "cell_type": "code",
      "execution_count": null,
      "id": "c04b26bd",
      "metadata": {
        "ExecuteTime": {
          "end_time": "2022-02-12T14:21:17.516786Z",
          "start_time": "2022-02-12T14:21:17.406904Z"
        },
        "id": "c04b26bd",
        "outputId": "a0fcecd9-c53f-4da3-e65c-15001d845b97"
      },
      "outputs": [
        {
          "name": "stdout",
          "output_type": "stream",
          "text": [
            "생성한 엑셀 파일 : C:/Users/82102/OneDrive/데이터분석훈련/myPyExcel/data/ch06/XlsxWriter_start_03.xlsx\n"
          ]
        }
      ],
      "source": [
        "folder = 'C:/Users/82102/OneDrive/데이터분석훈련/myPyExcel/data/ch06/'\n",
        "excel_file = folder + 'XlsxWriter_start_03.xlsx'\n",
        "\n",
        "workbook = xlsxwriter.Workbook(excel_file)\n",
        "worksheet = workbook.add_worksheet()\n",
        "\n",
        "worksheet.write('A1','지점1')\n",
        "worksheet.write('A2','지점2')\n",
        "worksheet.write('A3','지점3')\n",
        "worksheet.write('A4','지점4')\n",
        "worksheet.write('A5','합계')\n",
        "worksheet.write('A6','평균')\n",
        "worksheet.write('B1',10)\n",
        "worksheet.write('B2',15)\n",
        "worksheet.write('B3',12)\n",
        "worksheet.write('B4',9)\n",
        "worksheet.write('B5','=sum(B1:B4)')\n",
        "worksheet.write('B6','=average(B1:B4)')\n",
        "\n",
        "workbook.close()\n",
        "\n",
        "print('생성한 엑셀 파일 :',excel_file)\n",
        "\n",
        "\n"
      ]
    },
    {
      "cell_type": "code",
      "execution_count": null,
      "id": "72eda146",
      "metadata": {
        "ExecuteTime": {
          "end_time": "2022-02-12T14:25:13.571232Z",
          "start_time": "2022-02-12T14:25:13.467359Z"
        },
        "id": "72eda146",
        "outputId": "eb557bd4-87d4-4a0f-e6d0-81c80e98b366"
      },
      "outputs": [
        {
          "name": "stdout",
          "output_type": "stream",
          "text": [
            "생성한 엑셀 파일: C:/Users/82102/OneDrive/데이터분석훈련/myPyExcel/data/ch06/XlsxWriter_list_data_01.xlsx\n"
          ]
        }
      ],
      "source": [
        "folder = 'C:/Users/82102/OneDrive/데이터분석훈련/myPyExcel/data/ch06/'\n",
        "excel_file = folder + 'XlsxWriter_list_data_01.xlsx'\n",
        "\n",
        "workbook = xlsxwriter.Workbook(excel_file)\n",
        "worksheet = workbook.add_worksheet()\n",
        "list_num = [10,20,30,40]\n",
        "for col_num, value in enumerate(list_num):\n",
        "    worksheet.write(0,col_num,value)\n",
        "    \n",
        "workbook.close()\n",
        "\n",
        "print('생성한 엑셀 파일:',excel_file)"
      ]
    },
    {
      "cell_type": "code",
      "execution_count": null,
      "id": "75cfd32a",
      "metadata": {
        "ExecuteTime": {
          "end_time": "2022-02-12T14:30:37.652040Z",
          "start_time": "2022-02-12T14:30:37.552170Z"
        },
        "id": "75cfd32a",
        "outputId": "0ce4c7d4-c4b2-4542-b5de-b4ac5e246c46"
      },
      "outputs": [
        {
          "name": "stdout",
          "output_type": "stream",
          "text": [
            "생성한 엑셀 파일 : C:/Users/82102/OneDrive/데이터분석훈련/myPyExcel/data/ch06/XlsxWriter_list_data_02.xlsx\n"
          ]
        }
      ],
      "source": [
        "folder = 'C:/Users/82102/OneDrive/데이터분석훈련/myPyExcel/data/ch06/'\n",
        "excel_file = folder + 'XlsxWriter_list_data_02.xlsx'\n",
        "\n",
        "workbook = xlsxwriter.Workbook(excel_file)\n",
        "worksheet = workbook.add_worksheet()\n",
        "\n",
        "list_num2 = [50,60,70,80]\n",
        "for row_num, value in enumerate(list_num2):\n",
        "    worksheet.write(row_num,0,value)\n",
        "    \n",
        "workbook.close()\n",
        "\n",
        "print('생성한 엑셀 파일 :',excel_file)"
      ]
    },
    {
      "cell_type": "code",
      "execution_count": null,
      "id": "fbd4ef5c",
      "metadata": {
        "ExecuteTime": {
          "end_time": "2022-02-12T14:35:40.116947Z",
          "start_time": "2022-02-12T14:35:40.038038Z"
        },
        "id": "fbd4ef5c",
        "outputId": "2443eac4-48c9-4f8e-f125-05a2099feca7"
      },
      "outputs": [
        {
          "name": "stdout",
          "output_type": "stream",
          "text": [
            "생성한 엑셀 파일 : C:/Users/82102/OneDrive/데이터분석훈련/myPyExcel/data/ch06/XlsxWriter_list_data_03.xlsx\n"
          ]
        }
      ],
      "source": [
        "folder = 'C:/Users/82102/OneDrive/데이터분석훈련/myPyExcel/data/ch06/'\n",
        "excel_file = folder + 'XlsxWriter_list_data_03.xlsx'\n",
        "\n",
        "workbook = xlsxwriter.Workbook(excel_file)\n",
        "worksheet = workbook.add_worksheet()\n",
        "\n",
        "list_num = [10,20,30,40,50]\n",
        "list_num2 = [60,70,80,90,100]\n",
        "worksheet.write_row(0,1,list_num)\n",
        "worksheet.write_column(1,0,list_num2)\n",
        "\n",
        "workbook.close()\n",
        "\n",
        "print('생성한 엑셀 파일 :', excel_file)"
      ]
    },
    {
      "cell_type": "code",
      "execution_count": null,
      "id": "c079324b",
      "metadata": {
        "ExecuteTime": {
          "end_time": "2022-02-12T14:49:50.460905Z",
          "start_time": "2022-02-12T14:49:50.440489Z"
        },
        "id": "c079324b",
        "outputId": "95d14ae9-6c91-48df-94dc-feae029c8cdf"
      },
      "outputs": [
        {
          "data": {
            "text/plain": [
              "{'제품': ['P1001', 'P1002', 'P1003', 'P1004'],\n",
              " '판매가격': [5000, 6000, 7000, 3000],\n",
              " '판매량': [50, 93, 80, 34]}"
            ]
          },
          "execution_count": 16,
          "metadata": {},
          "output_type": "execute_result"
        }
      ],
      "source": [
        "dict_data = {'제품':['P1001','P1002','P1003','P1004'],'판매가격':[5000,6000,7000,3000],'판매량':[50,93,80,34]}\n",
        "dict_data"
      ]
    },
    {
      "cell_type": "code",
      "execution_count": null,
      "id": "9a097640",
      "metadata": {
        "ExecuteTime": {
          "end_time": "2022-02-12T14:50:00.054235Z",
          "start_time": "2022-02-12T14:49:59.953593Z"
        },
        "id": "9a097640",
        "outputId": "fd94190f-ff36-41e1-8f1c-228a7848d906"
      },
      "outputs": [
        {
          "name": "stdout",
          "output_type": "stream",
          "text": [
            "생성한 엑셀 파일: C:/Users/82102/OneDrive/데이터분석훈련/myPyExcel/data/ch06/XlsxWriter_dict_data_01.xlsx\n"
          ]
        }
      ],
      "source": [
        "folder = 'C:/Users/82102/OneDrive/데이터분석훈련/myPyExcel/data/ch06/'\n",
        "excel_file = folder + 'XlsxWriter_dict_data_01.xlsx'\n",
        "\n",
        "workbook = xlsxwriter.Workbook(excel_file)\n",
        "worksheet = workbook.add_worksheet()\n",
        "\n",
        "list_keys = list(dict_data.keys())\n",
        "list_values = list(dict_data.values())\n",
        "\n",
        "worksheet.write_row(0,0,list_keys)\n",
        "\n",
        "for col,list_value in enumerate(list_values):\n",
        "    worksheet.write_column(1,col,list_value)\n",
        "workbook.close()\n",
        "\n",
        "print('생성한 엑셀 파일:',excel_file)"
      ]
    },
    {
      "cell_type": "code",
      "execution_count": null,
      "id": "ffa4e69b",
      "metadata": {
        "ExecuteTime": {
          "end_time": "2022-02-12T14:53:32.156002Z",
          "start_time": "2022-02-12T14:53:30.009996Z"
        },
        "id": "ffa4e69b",
        "outputId": "e3370ba6-5a95-48a8-aa6c-4eb17295b638"
      },
      "outputs": [
        {
          "data": {
            "text/html": [
              "<div>\n",
              "<style scoped>\n",
              "    .dataframe tbody tr th:only-of-type {\n",
              "        vertical-align: middle;\n",
              "    }\n",
              "\n",
              "    .dataframe tbody tr th {\n",
              "        vertical-align: top;\n",
              "    }\n",
              "\n",
              "    .dataframe thead th {\n",
              "        text-align: right;\n",
              "    }\n",
              "</style>\n",
              "<table border=\"1\" class=\"dataframe\">\n",
              "  <thead>\n",
              "    <tr style=\"text-align: right;\">\n",
              "      <th></th>\n",
              "      <th>연도</th>\n",
              "      <th>봄</th>\n",
              "      <th>여름</th>\n",
              "      <th>가을</th>\n",
              "      <th>겨울</th>\n",
              "    </tr>\n",
              "  </thead>\n",
              "  <tbody>\n",
              "    <tr>\n",
              "      <th>0</th>\n",
              "      <td>2014</td>\n",
              "      <td>215.9</td>\n",
              "      <td>599.8</td>\n",
              "      <td>293.1</td>\n",
              "      <td>76.9</td>\n",
              "    </tr>\n",
              "    <tr>\n",
              "      <th>1</th>\n",
              "      <td>2015</td>\n",
              "      <td>223.2</td>\n",
              "      <td>387.1</td>\n",
              "      <td>247.7</td>\n",
              "      <td>109.1</td>\n",
              "    </tr>\n",
              "    <tr>\n",
              "      <th>2</th>\n",
              "      <td>2016</td>\n",
              "      <td>312.8</td>\n",
              "      <td>446.2</td>\n",
              "      <td>381.6</td>\n",
              "      <td>108.1</td>\n",
              "    </tr>\n",
              "    <tr>\n",
              "      <th>3</th>\n",
              "      <td>2017</td>\n",
              "      <td>118.6</td>\n",
              "      <td>609.7</td>\n",
              "      <td>172.5</td>\n",
              "      <td>75.6</td>\n",
              "    </tr>\n",
              "    <tr>\n",
              "      <th>4</th>\n",
              "      <td>2018</td>\n",
              "      <td>368.1</td>\n",
              "      <td>586.5</td>\n",
              "      <td>351.2</td>\n",
              "      <td>66.5</td>\n",
              "    </tr>\n",
              "  </tbody>\n",
              "</table>\n",
              "</div>"
            ],
            "text/plain": [
              "     연도      봄     여름     가을     겨울\n",
              "0  2014  215.9  599.8  293.1   76.9\n",
              "1  2015  223.2  387.1  247.7  109.1\n",
              "2  2016  312.8  446.2  381.6  108.1\n",
              "3  2017  118.6  609.7  172.5   75.6\n",
              "4  2018  368.1  586.5  351.2   66.5"
            ]
          },
          "execution_count": 23,
          "metadata": {},
          "output_type": "execute_result"
        }
      ],
      "source": [
        "import pandas as pd\n",
        "\n",
        "folder = 'C:/Users/82102/OneDrive/데이터분석훈련/myPyExcel/data/ch06/'\n",
        "csv_file = folder + 'korea_rain.csv'\n",
        "\n",
        "df = pd.read_csv(csv_file)\n",
        "df"
      ]
    },
    {
      "cell_type": "code",
      "execution_count": null,
      "id": "221039bc",
      "metadata": {
        "ExecuteTime": {
          "end_time": "2022-02-12T14:59:21.433589Z",
          "start_time": "2022-02-12T14:59:21.408004Z"
        },
        "id": "221039bc",
        "outputId": "16b13fee-beab-479e-c958-49587d094cfe"
      },
      "outputs": [
        {
          "name": "stdout",
          "output_type": "stream",
          "text": [
            "생성한 엑셀 파일 : C:/Users/82102/OneDrive/데이터분석훈련/myPyExcel/data/ch06/XlsxWriter_DataFrame_data_01.xlsx\n"
          ]
        }
      ],
      "source": [
        "folder = 'C:/Users/82102/OneDrive/데이터분석훈련/myPyExcel/data/ch06/'\n",
        "excel_file = folder + 'XlsxWriter_DataFrame_data_01.xlsx'\n",
        "\n",
        "excel_writer = pd.ExcelWriter(excel_file, engine = 'xlsxwriter')\n",
        "\n",
        "df.to_excel(excel_writer,sheet_name='Sheet1')\n",
        "\n",
        "print('생성한 엑셀 파일 :',excel_file)"
      ]
    },
    {
      "cell_type": "code",
      "execution_count": null,
      "id": "85eeaace",
      "metadata": {
        "ExecuteTime": {
          "end_time": "2022-02-12T15:01:43.224368Z",
          "start_time": "2022-02-12T15:01:43.111263Z"
        },
        "id": "85eeaace",
        "outputId": "a2ceb6d4-7a1e-4e4f-a11f-74cfc4e2a4e5"
      },
      "outputs": [
        {
          "name": "stdout",
          "output_type": "stream",
          "text": [
            "생성한 엑셀 파일 : C:/Users/82102/OneDrive/데이터분석훈련/myPyExcel/data/ch06/XlsxWriter_DataFrame_data_01.xlsx\n"
          ]
        }
      ],
      "source": [
        "folder = 'C:/Users/82102/OneDrive/데이터분석훈련/myPyExcel/data/ch06/'\n",
        "excel_file = folder + 'XlsxWriter_DataFrame_data_01.xlsx'\n",
        "\n",
        "excel_writer = pd.ExcelWriter(excel_file, engine = 'xlsxwriter')\n",
        "\n",
        "df.to_excel(excel_writer,sheet_name='Sheet1', index=False)\n",
        "\n",
        "excel_writer.save()\n",
        "\n",
        "print('생성한 엑셀 파일 :',excel_file)\n",
        "\n"
      ]
    },
    {
      "cell_type": "code",
      "execution_count": null,
      "id": "ace6e3d2",
      "metadata": {
        "ExecuteTime": {
          "end_time": "2022-02-12T16:04:14.936054Z",
          "start_time": "2022-02-12T16:04:14.866586Z"
        },
        "id": "ace6e3d2",
        "outputId": "16ad39b2-3d24-4440-f839-8669fb498ca2"
      },
      "outputs": [
        {
          "name": "stdout",
          "output_type": "stream",
          "text": [
            "생성한 엑셀 파일: C:/Users/82102/OneDrive/데이터분석훈련/myPyExcel/data/ch06/XlsxWriter_cell_format_01.xlsx\n"
          ]
        }
      ],
      "source": [
        "folder = 'C:/Users/82102/OneDrive/데이터분석훈련/myPyExcel/data/ch06/'\n",
        "excel_file = folder + 'XlsxWriter_cell_format_01.xlsx'\n",
        "\n",
        "workbook = xlsxwriter.Workbook(excel_file)\n",
        "worksheet = workbook.add_worksheet()\n",
        "\n",
        "cell_format = workbook.add_format({'font_name':'바탕','bold':True,'font_color':'blue'})\n",
        "\n",
        "cell_format.set_italic()\n",
        "\n",
        "cell_format.set_font_size(20)\n",
        "\n",
        "worksheet.write('A1',\"셀 서식 미지정\")\n",
        "worksheet.write('A2',\"셀 서식 지정\", cell_format)\n",
        "\n",
        "workbook.close()\n",
        "\n",
        "print('생성한 엑셀 파일:',excel_file)"
      ]
    },
    {
      "cell_type": "code",
      "execution_count": null,
      "id": "771e07ff",
      "metadata": {
        "id": "771e07ff"
      },
      "outputs": [],
      "source": [
        ""
      ]
    }
  ],
  "metadata": {
    "kernelspec": {
      "display_name": "Python 3 (ipykernel)",
      "language": "python",
      "name": "python3"
    },
    "language_info": {
      "codemirror_mode": {
        "name": "ipython",
        "version": 3
      },
      "file_extension": ".py",
      "mimetype": "text/x-python",
      "name": "python",
      "nbconvert_exporter": "python",
      "pygments_lexer": "ipython3",
      "version": "3.9.7"
    },
    "toc": {
      "base_numbering": 1,
      "nav_menu": {},
      "number_sections": true,
      "sideBar": true,
      "skip_h1_title": false,
      "title_cell": "Table of Contents",
      "title_sidebar": "Contents",
      "toc_cell": false,
      "toc_position": {},
      "toc_section_display": true,
      "toc_window_display": false
    },
    "varInspector": {
      "cols": {
        "lenName": 16,
        "lenType": 16,
        "lenVar": 40
      },
      "kernels_config": {
        "python": {
          "delete_cmd_postfix": "",
          "delete_cmd_prefix": "del ",
          "library": "var_list.py",
          "varRefreshCmd": "print(var_dic_list())"
        },
        "r": {
          "delete_cmd_postfix": ") ",
          "delete_cmd_prefix": "rm(",
          "library": "var_list.r",
          "varRefreshCmd": "cat(var_dic_list()) "
        }
      },
      "types_to_exclude": [
        "module",
        "function",
        "builtin_function_or_method",
        "instance",
        "_Feature"
      ],
      "window_display": false
    },
    "colab": {
      "name": "ex_0213_01.ipynb",
      "provenance": [],
      "include_colab_link": true
    }
  },
  "nbformat": 4,
  "nbformat_minor": 5
}